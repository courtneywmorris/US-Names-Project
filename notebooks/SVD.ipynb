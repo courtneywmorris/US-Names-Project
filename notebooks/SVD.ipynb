{
 "cells": [
  {
   "cell_type": "code",
   "execution_count": 29,
   "metadata": {
    "collapsed": true
   },
   "outputs": [],
   "source": [
    "import pandas as pd\n",
    "import numpy as np\n",
    "import matplotlib.pylab as plt\n",
    "%matplotlib inline\n",
    "from numpy.linalg import svd\n",
    "from numpy import array, matrix, linalg\n",
    "from clean_data import clean_data, pivot_data"
   ]
  },
  {
   "cell_type": "code",
   "execution_count": 3,
   "metadata": {
    "collapsed": true
   },
   "outputs": [],
   "source": [
    "df = pd.read_csv('../../StateNames.csv')\n",
    "df = clean_data(df)"
   ]
  },
  {
   "cell_type": "code",
   "execution_count": 4,
   "metadata": {
    "collapsed": true
   },
   "outputs": [],
   "source": [
    "names_total = df.groupby('name_gender')['Count_by_name'].sum()"
   ]
  },
  {
   "cell_type": "code",
   "execution_count": 5,
   "metadata": {
    "collapsed": true
   },
   "outputs": [],
   "source": [
    "updated_df = df.join(names_total, how='left', on='name_gender', lsuffix='_per_year')"
   ]
  },
  {
   "cell_type": "code",
   "execution_count": 6,
   "metadata": {
    "collapsed": true
   },
   "outputs": [],
   "source": [
    "non_popular_df = updated_df[(updated_df['Count_by_name_per_year'] >= 150)&(updated_df['Count_by_name_per_year'] < 900000)]"
   ]
  },
  {
   "cell_type": "code",
   "execution_count": 7,
   "metadata": {
    "collapsed": true
   },
   "outputs": [],
   "source": [
    "name_index_pivot = pivot_data(non_popular_df, 'count_norm', non_popular_df.name_gender, non_popular_df.tuple_index)"
   ]
  },
  {
   "cell_type": "code",
   "execution_count": 12,
   "metadata": {
    "collapsed": false
   },
   "outputs": [
    {
     "data": {
      "text/plain": [
       "(1583, 4813)"
      ]
     },
     "execution_count": 12,
     "metadata": {},
     "output_type": "execute_result"
    }
   ],
   "source": [
    "name_index_pivot.shape"
   ]
  },
  {
   "cell_type": "code",
   "execution_count": 51,
   "metadata": {
    "collapsed": true
   },
   "outputs": [],
   "source": [
    "U, sigma, VT = svd(name_index_pivot)"
   ]
  },
  {
   "cell_type": "code",
   "execution_count": 9,
   "metadata": {
    "collapsed": false
   },
   "outputs": [
    {
     "data": {
      "text/plain": [
       "(1583, 1583)"
      ]
     },
     "execution_count": 9,
     "metadata": {},
     "output_type": "execute_result"
    }
   ],
   "source": [
    "U.shape"
   ]
  },
  {
   "cell_type": "code",
   "execution_count": 10,
   "metadata": {
    "collapsed": false
   },
   "outputs": [
    {
     "data": {
      "text/plain": [
       "(4813, 4813)"
      ]
     },
     "execution_count": 10,
     "metadata": {},
     "output_type": "execute_result"
    }
   ],
   "source": [
    "VT.shape"
   ]
  },
  {
   "cell_type": "code",
   "execution_count": 13,
   "metadata": {
    "collapsed": true
   },
   "outputs": [],
   "source": [
    "names = name_index_pivot.index.values"
   ]
  },
  {
   "cell_type": "code",
   "execution_count": 14,
   "metadata": {
    "collapsed": true
   },
   "outputs": [],
   "source": [
    "year_state = name_index_pivot.columns"
   ]
  },
  {
   "cell_type": "code",
   "execution_count": 15,
   "metadata": {
    "collapsed": true
   },
   "outputs": [],
   "source": [
    "# U = pd.DataFrame(U, index=names)\n",
    "# VT = pd.DataFrame(VT, columns=year_state)"
   ]
  },
  {
   "cell_type": "code",
   "execution_count": 44,
   "metadata": {
    "collapsed": false
   },
   "outputs": [
    {
     "data": {
      "text/plain": [
       "array([ 3.4898655 ,  1.84801596,  1.30388314,  0.88890156,  0.75521517,\n",
       "        0.7280317 ,  0.63627255,  0.57400057,  0.51625324,  0.48306888,\n",
       "        0.4630439 ,  0.40039766,  0.38613673,  0.35931586,  0.3486764 ])"
      ]
     },
     "execution_count": 44,
     "metadata": {},
     "output_type": "execute_result"
    }
   ],
   "source": [
    "sigma[:15]"
   ]
  },
  {
   "cell_type": "code",
   "execution_count": null,
   "metadata": {
    "collapsed": false
   },
   "outputs": [],
   "source": []
  },
  {
   "cell_type": "code",
   "execution_count": 23,
   "metadata": {
    "collapsed": false
   },
   "outputs": [
    {
     "data": {
      "text/plain": [
       "[<matplotlib.lines.Line2D at 0x12a260610>]"
      ]
     },
     "execution_count": 23,
     "metadata": {},
     "output_type": "execute_result"
    },
    {
     "data": {
      "image/png": "[encoded data removed]",
      "text/plain": [
       "<matplotlib.figure.Figure at 0x129c08c90>"
      ]
     },
     "metadata": {},
     "output_type": "display_data"
    }
   ],
   "source": [
    "fig = plt.figure(figsize=(12,8))\n",
    "x = array([x+1 for x in range(50)])\n",
    "plt.plot(x, sigma[:50])"
   ]
  },
  {
   "cell_type": "code",
   "execution_count": 27,
   "metadata": {
    "collapsed": false
   },
   "outputs": [
    {
     "data": {
      "text/plain": [
       "[<matplotlib.lines.Line2D at 0x12a69b6d0>]"
      ]
     },
     "execution_count": 27,
     "metadata": {},
     "output_type": "execute_result"
    },
    {
     "data": {
      "image/png": "[encoded data removed]",
      "text/plain": [
       "<matplotlib.figure.Figure at 0x112997d90>"
      ]
     },
     "metadata": {},
     "output_type": "display_data"
    }
   ],
   "source": [
    "plt.plot((sigma ** 2)[:20])"
   ]
  },
  {
   "cell_type": "code",
   "execution_count": 40,
   "metadata": {
    "collapsed": false
   },
   "outputs": [
    {
     "data": {
      "text/plain": [
       "<matplotlib.collections.LineCollection at 0x12b216110>"
      ]
     },
     "execution_count": 40,
     "metadata": {},
     "output_type": "execute_result"
    },
    {
     "data": {
      "image/png": "[encoded data removed]",
      "text/plain": [
       "<matplotlib.figure.Figure at 0x12afc6ed0>"
      ]
     },
     "metadata": {},
     "output_type": "display_data"
    }
   ],
   "source": [
    "#Looks like 90% of the cumalitive power/variance is explained at about 15 latent features\n",
    "fig = plt.figure(figsize=(12,8))\n",
    "cumulative = np.cumsum(sigma ** 2)[:40]\n",
    "plt.plot(cumulative)\n",
    "plt.hlines(21.33,0,40)"
   ]
  },
  {
   "cell_type": "code",
   "execution_count": 34,
   "metadata": {
    "collapsed": true
   },
   "outputs": [],
   "source": [
    "total_energy = np.sum(sigma ** 2)"
   ]
  },
  {
   "cell_type": "code",
   "execution_count": 36,
   "metadata": {
    "collapsed": false
   },
   "outputs": [
    {
     "data": {
      "text/plain": [
       "21.334160378587651"
      ]
     },
     "execution_count": 36,
     "metadata": {},
     "output_type": "execute_result"
    }
   ],
   "source": [
    "total_energy * .9"
   ]
  },
  {
   "cell_type": "code",
   "execution_count": 55,
   "metadata": {
    "collapsed": false
   },
   "outputs": [],
   "source": [
    "VT_15 = VT[:15,:]"
   ]
  },
  {
   "cell_type": "code",
   "execution_count": 57,
   "metadata": {
    "collapsed": false
   },
   "outputs": [
    {
     "name": "stdout",
     "output_type": "stream",
     "text": [
      "[(2012, 'NM'), (2009, 'NM'), (2010, 'NM'), (2010, 'NE'), (2011, 'WV'), (2004, 'ID'), (2003, 'ID'), (2006, 'ID'), (2012, 'NE'), (2013, 'WV')]\n",
      "[(1923, 'IN'), (1921, 'IN'), (1924, 'IN'), (1922, 'IN'), (1925, 'IN'), (1927, 'IN'), (1920, 'IN'), (1919, 'IN'), (1917, 'IN'), (1916, 'IN')]\n",
      "[(1910, 'PA'), (1911, 'PA'), (1910, 'MA'), (1913, 'PA'), (1911, 'MA'), (1914, 'PA'), (1912, 'PA'), (1915, 'PA'), (1911, 'NJ'), (1911, 'OH')]\n",
      "[(1972, 'IA'), (1971, 'IA'), (1972, 'WI'), (1972, 'MN'), (1972, 'NE'), (1973, 'WI'), (1971, 'MN'), (1970, 'IA'), (1974, 'NE'), (1973, 'IA')]\n",
      "[(1923, 'SC'), (1919, 'SC'), (1922, 'AL'), (1915, 'SC'), (1922, 'SC'), (1910, 'MD'), (1918, 'SC'), (1920, 'SC'), (1921, 'SC'), (1925, 'AL')]\n",
      "[(1945, 'AR'), (1944, 'AR'), (1943, 'AR'), (1942, 'AR'), (1936, 'AR'), (1939, 'AR'), (1940, 'AR'), (1946, 'AR'), (1941, 'TN'), (1939, 'TN')]\n",
      "[(1927, 'DC'), (1953, 'DE'), (1946, 'DE'), (1945, 'NH'), (1942, 'DE'), (1943, 'DE'), (1928, 'DC'), (1921, 'DC'), (1944, 'DE'), (1943, 'NH')]\n",
      "[(1910, 'MA'), (1912, 'RI'), (1910, 'IN'), (1911, 'CT'), (1910, 'CT'), (1913, 'RI'), (1910, 'PA'), (1917, 'DE'), (1915, 'RI'), (1948, 'SD')]\n",
      "[(1976, 'RI'), (1977, 'RI'), (1974, 'RI'), (1974, 'NH'), (1975, 'RI'), (1975, 'NH'), (1973, 'RI'), (1972, 'RI'), (1979, 'RI'), (1974, 'ME')]\n",
      "[(1978, 'RI'), (1981, 'RI'), (1975, 'RI'), (1976, 'RI'), (1969, 'NV'), (1955, 'AK'), (1982, 'RI'), (1972, 'NH'), (1968, 'WY'), (1953, 'AK')]\n",
      "[(1910, 'CT'), (1912, 'RI'), (1911, 'RI'), (1910, 'IN'), (1912, 'NM'), (1921, 'NM'), (1914, 'DC'), (1910, 'CO'), (1924, 'NM'), (1929, 'NM')]\n",
      "[(1921, 'DE'), (1917, 'MT'), (1912, 'MD'), (1945, 'DE'), (1914, 'OR'), (1943, 'DE'), (1942, 'DE'), (1950, 'DE'), (1947, 'DE'), (1914, 'MD')]\n",
      "[(1941, 'ID'), (1937, 'NH'), (1946, 'NH'), (1943, 'ID'), (1945, 'ND'), (1933, 'NH'), (1944, 'ID'), (1944, 'ND'), (1947, 'ND'), (1947, 'ID')]\n",
      "[(1945, 'SD'), (1966, 'NH'), (1943, 'SD'), (1942, 'SD'), (1945, 'ND'), (1946, 'SD'), (1940, 'IA'), (1944, 'ND'), (1965, 'NH'), (1946, 'ND')]\n",
      "[(1948, 'WY'), (1947, 'WY'), (1949, 'WY'), (1947, 'AR'), (1948, 'AL'), (1948, 'MS'), (1948, 'TN'), (1950, 'MS'), (1949, 'AL'), (1947, 'MS')]\n"
     ]
    }
   ],
   "source": [
    "features = year_state\n",
    "for i, row in enumerate(VT_15):\n",
    "    top_features = [year_state[index] for index in row.argsort()[:-10-1:-1]]\n",
    "    print top_features"
   ]
  },
  {
   "cell_type": "code",
   "execution_count": null,
   "metadata": {
    "collapsed": true
   },
   "outputs": [],
   "source": []
  }
 ],
 "metadata": {
  "kernelspec": {
   "display_name": "Python 2",
   "language": "python",
   "name": "python2"
  },
  "language_info": {
   "codemirror_mode": {
    "name": "ipython",
    "version": 2
   },
   "file_extension": ".py",
   "mimetype": "text/x-python",
   "name": "python",
   "nbconvert_exporter": "python",
   "pygments_lexer": "ipython2",
   "version": "2.7.11"
  }
 },
 "nbformat": 4,
 "nbformat_minor": 0
}
