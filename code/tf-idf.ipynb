{
 "cells": [
  {
   "cell_type": "code",
   "execution_count": 42,
   "metadata": {
    "collapsed": false
   },
   "outputs": [],
   "source": [
    "import pandas as pd\n",
    "from sklearn.feature_extraction.text import CountVectorizer, TfidfVectorizer\n",
    "from clean_data import clean_data\n",
    "from itertools import repeat\n",
    "import numpy as np\n",
    "from sklearn.decomposition import NMF\n",
    "from run_nmf import recon_error\n",
    "import matplotlib.pylab as plt\n",
    "%matplotlib inline"
   ]
  },
  {
   "cell_type": "code",
   "execution_count": 2,
   "metadata": {
    "collapsed": false
   },
   "outputs": [],
   "source": [
    "df = pd.read_csv('../../StateNames.csv')"
   ]
  },
  {
   "cell_type": "code",
   "execution_count": 3,
   "metadata": {
    "collapsed": false
   },
   "outputs": [],
   "source": [
    "df = clean_data(df)"
   ]
  },
  {
   "cell_type": "code",
   "execution_count": 247,
   "metadata": {
    "collapsed": false
   },
   "outputs": [],
   "source": [
    "pd.set_option('max_rows', 500)"
   ]
  },
  {
   "cell_type": "code",
   "execution_count": 236,
   "metadata": {
    "collapsed": false
   },
   "outputs": [],
   "source": [
    "fem = df[df['Gender']=='F'].drop(['Id', 'Name'], axis=1)\n",
    "# fem = fem.drop(['Id', 'Name'], axis=1)"
   ]
  },
  {
   "cell_type": "code",
   "execution_count": 237,
   "metadata": {
    "collapsed": false
   },
   "outputs": [
    {
     "data": {
      "text/html": [
       "<div>\n",
       "<table border=\"1\" class=\"dataframe\">\n",
       "  <thead>\n",
       "    <tr style=\"text-align: right;\">\n",
       "      <th></th>\n",
       "      <th></th>\n",
       "      <th>Gender</th>\n",
       "      <th>Count_by_name</th>\n",
       "      <th>new_name</th>\n",
       "      <th>name_gender</th>\n",
       "      <th>tuple_index</th>\n",
       "      <th>Count</th>\n",
       "      <th>count_norm</th>\n",
       "    </tr>\n",
       "    <tr>\n",
       "      <th>Year</th>\n",
       "      <th>State</th>\n",
       "      <th></th>\n",
       "      <th></th>\n",
       "      <th></th>\n",
       "      <th></th>\n",
       "      <th></th>\n",
       "      <th></th>\n",
       "      <th></th>\n",
       "    </tr>\n",
       "  </thead>\n",
       "  <tbody>\n",
       "    <tr>\n",
       "      <th rowspan=\"5\" valign=\"top\">1910</th>\n",
       "      <th>AK</th>\n",
       "      <td>F</td>\n",
       "      <td>14</td>\n",
       "      <td>mary</td>\n",
       "      <td>(mary, F)</td>\n",
       "      <td>(1910, AK)</td>\n",
       "      <td>115</td>\n",
       "      <td>0.121739</td>\n",
       "    </tr>\n",
       "    <tr>\n",
       "      <th>AK</th>\n",
       "      <td>F</td>\n",
       "      <td>12</td>\n",
       "      <td>annie</td>\n",
       "      <td>(annie, F)</td>\n",
       "      <td>(1910, AK)</td>\n",
       "      <td>115</td>\n",
       "      <td>0.104348</td>\n",
       "    </tr>\n",
       "    <tr>\n",
       "      <th>AK</th>\n",
       "      <td>F</td>\n",
       "      <td>10</td>\n",
       "      <td>anna</td>\n",
       "      <td>(anna, F)</td>\n",
       "      <td>(1910, AK)</td>\n",
       "      <td>115</td>\n",
       "      <td>0.086957</td>\n",
       "    </tr>\n",
       "    <tr>\n",
       "      <th>AK</th>\n",
       "      <td>F</td>\n",
       "      <td>8</td>\n",
       "      <td>margaret</td>\n",
       "      <td>(margaret, F)</td>\n",
       "      <td>(1910, AK)</td>\n",
       "      <td>115</td>\n",
       "      <td>0.069565</td>\n",
       "    </tr>\n",
       "    <tr>\n",
       "      <th>AK</th>\n",
       "      <td>F</td>\n",
       "      <td>7</td>\n",
       "      <td>helen</td>\n",
       "      <td>(helen, F)</td>\n",
       "      <td>(1910, AK)</td>\n",
       "      <td>115</td>\n",
       "      <td>0.060870</td>\n",
       "    </tr>\n",
       "  </tbody>\n",
       "</table>\n",
       "</div>"
      ],
      "text/plain": [
       "           Gender  Count_by_name  new_name    name_gender tuple_index  Count  \\\n",
       "Year State                                                                     \n",
       "1910 AK         F             14      mary      (mary, F)  (1910, AK)    115   \n",
       "     AK         F             12     annie     (annie, F)  (1910, AK)    115   \n",
       "     AK         F             10      anna      (anna, F)  (1910, AK)    115   \n",
       "     AK         F              8  margaret  (margaret, F)  (1910, AK)    115   \n",
       "     AK         F              7     helen     (helen, F)  (1910, AK)    115   \n",
       "\n",
       "            count_norm  \n",
       "Year State              \n",
       "1910 AK       0.121739  \n",
       "     AK       0.104348  \n",
       "     AK       0.086957  \n",
       "     AK       0.069565  \n",
       "     AK       0.060870  "
      ]
     },
     "execution_count": 237,
     "metadata": {},
     "output_type": "execute_result"
    }
   ],
   "source": [
    "fem.head()"
   ]
  },
  {
   "cell_type": "code",
   "execution_count": 7,
   "metadata": {
    "collapsed": true
   },
   "outputs": [],
   "source": [
    "subset = fem[:20]\n",
    "subset = subset.drop(['Gender', 'Id', 'Count', 'count_norm'], axis=1)"
   ]
  },
  {
   "cell_type": "code",
   "execution_count": 6,
   "metadata": {
    "collapsed": false
   },
   "outputs": [],
   "source": [
    "# year_doc = []\n",
    "# for index, row in asdf[(asdf.index.get_level_values(level=0)==1910) & (asdf.index.get_level_values(level=1)=='AK')].iterrows():\n",
    "#     year_doc.extend([row['new_name']] * row['Count_by_name'])"
   ]
  },
  {
   "cell_type": "code",
   "execution_count": 211,
   "metadata": {
    "collapsed": false
   },
   "outputs": [],
   "source": [
    "# docs = []\n",
    "\n",
    "# for item in subset.tuple_index.unique():\n",
    "#     names = []\n",
    "#     single_doc = []\n",
    "#     frame = subset[subset.tuple_index==item]\n",
    "    \n",
    "#     for line in next(frame.iterrows())[1]:\n",
    "#         print \"line: {}\".format(line)\n",
    "#     for i in frame.new_name.values: \n",
    "        \n",
    "#         print len([i]*frame.iloc[0]['Count_by_name'])\n",
    "#         single_doc += names\n",
    "#     docs.append(single_doc)\n",
    "#     print subset.new_name.values * subset.Count_by_name.values"
   ]
  },
  {
   "cell_type": "code",
   "execution_count": 227,
   "metadata": {
    "collapsed": false
   },
   "outputs": [],
   "source": [
    "# docs = []\n",
    "\n",
    "# for index, row in subset.iterrows():\n",
    "#     year_doc = []\n",
    "# #     for i in index:\n",
    "#     year_doc.extend(repeat(row['new_name'], row['Count_by_name']))\n",
    "#     docs.append(year_doc)\n",
    "\n",
    "# for index, row in subset.iterrows():\n",
    "#     year_doc = []\n",
    "#     for i in index:\n",
    "#         for j in xrange(row['Count_by_name']):\n",
    "#             year_doc.append(row['new_name'])\n",
    "#     docs.append(year_doc)"
   ]
  },
  {
   "cell_type": "code",
   "execution_count": 73,
   "metadata": {
    "collapsed": false
   },
   "outputs": [],
   "source": [
    "# docs_list = []\n",
    "# for (year, state) in subset.index:\n",
    "# #     count = subset[(subset.index.get_level_values(level=0)==year) & \n",
    "# #                    (subset.index.get_level_values(level=1)==state)]['Count_by_name']\n",
    "# #     name = subset[(subset.index.get_level_values(level=0)==year) & \n",
    "# #                (subset.index.get_level_values(level=1)==state)]['new_name']\n",
    "#     df = subset[(subset.index.get_level_values(level=0)==year) & \n",
    "#                (subset.index.get_level_values(level=1)==state)]\n",
    "#     name = df.new_name\n",
    "#     docs_list.append(name)"
   ]
  },
  {
   "cell_type": "code",
   "execution_count": null,
   "metadata": {
    "collapsed": true
   },
   "outputs": [],
   "source": [
    "# grouped = asdf.groupby(['tuple_index','new_name']).sum()['Count_by_name']\n",
    "# asdf['tupled'] = zip(asdf.new_name, asdf.Count_by_name)\n",
    "# count_series = asdf.tupled\n",
    "# count_dict = count_series.to_dict()"
   ]
  },
  {
   "cell_type": "code",
   "execution_count": 42,
   "metadata": {
    "collapsed": false
   },
   "outputs": [],
   "source": [
    "#this format doesn't work with the vectorizer classes\n",
    "def documentizer(df):\n",
    "    docs = []\n",
    "    for (year, state) in set(df.index.values):\n",
    "        year_doc = []\n",
    "        for index, row in df[(df.index.get_level_values(level=0)==year) & (df.index.get_level_values(level=1)==state)].iterrows():\n",
    "            year_doc.extend([row['new_name']] * row['Count_by_name'])\n",
    "        docs.append(year_doc)\n",
    "    return docs"
   ]
  },
  {
   "cell_type": "code",
   "execution_count": null,
   "metadata": {
    "collapsed": true
   },
   "outputs": [],
   "source": [
    "# docs = []\n",
    "# for (year, state) in set(subset.index.values):\n",
    "#     year_doc = []\n",
    "#     for index, row in subset[(subset.index.get_level_values(level=0)==year) & (subset.index.get_level_values(level=1)==state)].iterrows():\n",
    "#         year_doc.extend([row['new_name']] * row['Count_by_name'])\n",
    "#     docs.append(year_doc)"
   ]
  },
  {
   "cell_type": "code",
   "execution_count": 12,
   "metadata": {
    "collapsed": false
   },
   "outputs": [],
   "source": [
    "# fem_docs = documentizer(fem) \n",
    "#this format doesn't work with TFIDF"
   ]
  },
  {
   "cell_type": "code",
   "execution_count": 20,
   "metadata": {
    "collapsed": false
   },
   "outputs": [],
   "source": [
    "# vocab_set = set()\n",
    "# [[vocab_set.add(token) for token in tokens] for tokens in fem_docs]\n",
    "# vocab = list(vocab_set)"
   ]
  },
  {
   "cell_type": "code",
   "execution_count": 21,
   "metadata": {
    "collapsed": false
   },
   "outputs": [],
   "source": [
    "# matrix = [[0] * len(vocab) for doc in fem_docs]\n",
    "# vocab_dict = dict((word, i) for i, word in enumerate(vocab))\n",
    "\n",
    "# for i, words in enumerate(fem_docs):\n",
    "#     for word in words:\n",
    "#         matrix[i][vocab_dict[word]] += 1"
   ]
  },
  {
   "cell_type": "code",
   "execution_count": 67,
   "metadata": {
    "collapsed": true
   },
   "outputs": [],
   "source": [
    "# fem_sub = fem.iloc[:10000,:]"
   ]
  },
  {
   "cell_type": "code",
   "execution_count": 224,
   "metadata": {
    "collapsed": false
   },
   "outputs": [],
   "source": [
    "def document_transform(df):\n",
    "    docs = []\n",
    "    for (year, state) in sorted(set(df.index.values)):\n",
    "        year_str = '' \n",
    "        for index, row in df[(df.index.get_level_values(level=0)==year) & (df.index.get_level_values(level=1)==state)].iterrows():\n",
    "            year_str += ((row['new_name']+' ') * row['Count_by_name'])\n",
    "        docs.append(year_str)\n",
    "    return docs"
   ]
  },
  {
   "cell_type": "code",
   "execution_count": null,
   "metadata": {
    "collapsed": true
   },
   "outputs": [],
   "source": []
  },
  {
   "cell_type": "code",
   "execution_count": null,
   "metadata": {
    "collapsed": true
   },
   "outputs": [],
   "source": []
  },
  {
   "cell_type": "code",
   "execution_count": 225,
   "metadata": {
    "collapsed": false
   },
   "outputs": [],
   "source": [
    "fem_docs = document_transform(fem)"
   ]
  },
  {
   "cell_type": "code",
   "execution_count": 65,
   "metadata": {
    "collapsed": false
   },
   "outputs": [
    {
     "data": {
      "text/plain": [
       "<63x415 sparse matrix of type '<type 'numpy.int64'>'\n",
       "\twith 5000 stored elements in Compressed Sparse Row format>"
      ]
     },
     "execution_count": 65,
     "metadata": {},
     "output_type": "execute_result"
    }
   ],
   "source": [
    "cv = CountVectorizer()\n",
    "cv.fit_transform(test)"
   ]
  },
  {
   "cell_type": "code",
   "execution_count": 226,
   "metadata": {
    "collapsed": false
   },
   "outputs": [],
   "source": [
    "tfidf = TfidfVectorizer()\n",
    "vectors = tfidf.fit_transform(fem_docs)"
   ]
  },
  {
   "cell_type": "code",
   "execution_count": 231,
   "metadata": {
    "collapsed": false
   },
   "outputs": [],
   "source": [
    "names = tfidf.get_feature_names()"
   ]
  },
  {
   "cell_type": "code",
   "execution_count": 12,
   "metadata": {
    "collapsed": false
   },
   "outputs": [],
   "source": [
    "array_vec = vectors.toarray()"
   ]
  },
  {
   "cell_type": "code",
   "execution_count": 89,
   "metadata": {
    "collapsed": true
   },
   "outputs": [],
   "source": [
    "def get_top_values(lst, n, labels):\n",
    "    '''\n",
    "    INPUT: LIST, INTEGER, LIST\n",
    "    OUTPUT: LIST\n",
    "\n",
    "    Given a list of values, find the indices with the highest n values.\n",
    "    Return the labels for each of these indices.\n",
    "    '''\n",
    "    return [labels[i] for i in np.argsort(lst)[-1:-n-1:-1]]"
   ]
  },
  {
   "cell_type": "code",
   "execution_count": 13,
   "metadata": {
    "collapsed": false
   },
   "outputs": [],
   "source": [
    "# avg = np.sum(array_vec,axis=0) / np.sum(array_vec>0,axis=0)\n",
    "# print \"top 10 by average tf-idf\"\n",
    "# print get_top_values(avg, 20, names)"
   ]
  },
  {
   "cell_type": "code",
   "execution_count": 14,
   "metadata": {
    "collapsed": false
   },
   "outputs": [],
   "source": [
    "# total = np.sum(array_vec, axis=0)\n",
    "# print \"top 10 by total tf-idf\"\n",
    "# print get_top_values(total, 20, words)"
   ]
  },
  {
   "cell_type": "code",
   "execution_count": 15,
   "metadata": {
    "collapsed": true
   },
   "outputs": [],
   "source": [
    "# vectorizer2 = TfidfVectorizer(use_idf=False)\n",
    "# # make documents into one giant document for this purpose\n",
    "# vectors2 = vectorizer2.fit_transform(fem_docs).toarray()\n",
    "# print \"top 10 by tf across all corpus\"\n",
    "# print get_top_values(vectors2[0], 10, words)"
   ]
  },
  {
   "cell_type": "code",
   "execution_count": 232,
   "metadata": {
    "collapsed": false
   },
   "outputs": [],
   "source": [
    "fem_index = sorted(set(fem.index.values))"
   ]
  },
  {
   "cell_type": "code",
   "execution_count": 40,
   "metadata": {
    "collapsed": false
   },
   "outputs": [],
   "source": [
    "re_df = pd.DataFrame(data=vectors, index=fem_index, columns=names)"
   ]
  },
  {
   "cell_type": "code",
   "execution_count": 46,
   "metadata": {
    "collapsed": false
   },
   "outputs": [],
   "source": [
    "W, H, fem_nmf = run_nmf(array_vec, 8)"
   ]
  },
  {
   "cell_type": "code",
   "execution_count": 29,
   "metadata": {
    "collapsed": false
   },
   "outputs": [],
   "source": [
    "# W = pd.DataFrame(W, index=fem_index)"
   ]
  },
  {
   "cell_type": "code",
   "execution_count": 30,
   "metadata": {
    "collapsed": true
   },
   "outputs": [],
   "source": [
    "# H = pd.DataFrame(H, columns=names)"
   ]
  },
  {
   "cell_type": "code",
   "execution_count": 43,
   "metadata": {
    "collapsed": true
   },
   "outputs": [],
   "source": [
    "cols_index = H.columns"
   ]
  },
  {
   "cell_type": "code",
   "execution_count": 37,
   "metadata": {
    "collapsed": false
   },
   "outputs": [],
   "source": [
    "def run_nmf(df,params):\n",
    "    nmf = NMF(n_components=params)\n",
    "    W = nmf.fit_transform(df)\n",
    "    H = nmf.components_\n",
    "    error = nmf.reconstruction_err_\n",
    "    return W, H, nmf, error"
   ]
  },
  {
   "cell_type": "code",
   "execution_count": 35,
   "metadata": {
    "collapsed": true
   },
   "outputs": [],
   "source": [
    "def print_top_features(W, H, features, top_features, data_matrix):\n",
    "    print \"Reconstruction Error: %f\" %reconst_mse(data_matrix, W, H)\n",
    "    for latent_num, latent in enumerate(H):\n",
    "        print \"Latent Feature %d\" % (int(latent_num) + 1)\n",
    "        print [features[i] for i in latent.argsort()[:-top_features-1:-1]]\n",
    "        print"
   ]
  },
  {
   "cell_type": "code",
   "execution_count": 47,
   "metadata": {
    "collapsed": false
   },
   "outputs": [
    {
     "name": "stdout",
     "output_type": "stream",
     "text": [
      "Latent Feature 1\n",
      "[u'betty', u'barbara', u'shirley', u'mary', u'patricia', u'joan', u'joyce', u'dorothy', u'carol', u'beverly', u'marilyn', u'doris', u'phyllis', u'nancy', u'lois', u'jean', u'donna', u'norma', u'dolores', u'gloria']\n",
      "\n",
      "Latent Feature 2\n",
      "[u'ashley', u'jessica', u'brittany', u'samantha', u'kayla', u'megan', u'taylor', u'amanda', u'lauren', u'emily', u'hannah', u'sarah', u'courtney', u'amber', u'kelsey', u'nicole', u'chelsea', u'alyssa', u'danielle', u'alexis']\n",
      "\n",
      "Latent Feature 3\n",
      "[u'madison', u'isabella', u'abigail', u'ava', u'olivia', u'emma', u'sophia', u'chloe', u'addison', u'alexis', u'hannah', u'hailey', u'emily', u'mia', u'taylor', u'avery', u'brooklyn', u'nevaeh', u'kaylee', u'lily']\n",
      "\n",
      "Latent Feature 4\n",
      "[u'linda', u'mary', u'patricia', u'susan', u'sharon', u'sandra', u'karen', u'deborah', u'barbara', u'carol', u'debra', u'nancy', u'diane', u'donna', u'judy', u'judith', u'pamela', u'kathleen', u'cheryl', u'brenda']\n",
      "\n",
      "Latent Feature 5\n",
      "[u'lisa', u'tammy', u'kimberly', u'lori', u'michelle', u'karen', u'debra', u'julie', u'pamela', u'susan', u'tina', u'brenda', u'cynthia', u'tracy', u'angela', u'teresa', u'deborah', u'rhonda', u'dawn', u'kim']\n",
      "\n",
      "Latent Feature 6\n",
      "[u'mary', u'annie', u'willie', u'betty', u'ruby', u'dorothy', u'mildred', u'lillie', u'mattie', u'martha', u'bessie', u'thelma', u'louise', u'minnie', u'ethel', u'edna', u'gladys', u'frances', u'hazel', u'lula']\n",
      "\n",
      "Latent Feature 7\n",
      "[u'jennifer', u'jessica', u'melissa', u'heather', u'amanda', u'amy', u'nicole', u'michelle', u'kimberly', u'stephanie', u'angela', u'sarah', u'tiffany', u'crystal', u'kelly', u'christina', u'shannon', u'erin', u'rebecca', u'amber']\n",
      "\n",
      "Latent Feature 8\n",
      "[u'mary', u'helen', u'dorothy', u'margaret', u'ruth', u'mildred', u'florence', u'frances', u'alice', u'elizabeth', u'evelyn', u'doris', u'irene', u'virginia', u'anna', u'marie', u'gladys', u'gertrude', u'marjorie', u'lillian']\n",
      "\n"
     ]
    }
   ],
   "source": [
    "print_top_features(W,H,names,20)"
   ]
  },
  {
   "cell_type": "code",
   "execution_count": 48,
   "metadata": {
    "collapsed": true
   },
   "outputs": [],
   "source": [
    "transpose = array_vec.T"
   ]
  },
  {
   "cell_type": "code",
   "execution_count": 49,
   "metadata": {
    "collapsed": false
   },
   "outputs": [],
   "source": [
    "W_, H_, fem_name_nmf = run_nmf(transpose, 8)"
   ]
  },
  {
   "cell_type": "code",
   "execution_count": 56,
   "metadata": {
    "collapsed": false
   },
   "outputs": [
    {
     "name": "stdout",
     "output_type": "stream",
     "text": [
      "Latent Feature 1\n",
      "[(1913, 'MI'), (1914, 'MI'), (1912, 'MI'), (1915, 'MI'), (1911, 'MI'), (1916, 'MI'), (1915, 'IL'), (1915, 'MT'), (1916, 'IL'), (1910, 'MI'), (1914, 'IL'), (1913, 'WA'), (1913, 'IL'), (1917, 'MT'), (1917, 'MI'), (1910, 'WA'), (1918, 'NJ'), (1912, 'MT'), (1916, 'MN'), (1912, 'WA')]\n",
      "\n",
      "Latent Feature 2\n",
      "[(1993, 'KY'), (1994, 'WV'), (1992, 'IN'), (1993, 'TN'), (1993, 'IN'), (1994, 'KY'), (1994, 'TN'), (1992, 'MO'), (1992, 'OH'), (1993, 'WV'), (1993, 'NC'), (1993, 'OH'), (1992, 'KY'), (1993, 'VA'), (1991, 'IN'), (1993, 'AL'), (1993, 'AR'), (1992, 'TN'), (1993, 'MI'), (1994, 'AR')]\n",
      "\n",
      "Latent Feature 3\n",
      "[(2009, 'MO'), (2009, 'OH'), (2009, 'MI'), (2010, 'OH'), (2010, 'MI'), (2010, 'PA'), (2009, 'IN'), (2011, 'VA'), (2010, 'MO'), (2011, 'PA'), (2010, 'VA'), (2011, 'NC'), (2009, 'PA'), (2011, 'MI'), (2011, 'OH'), (2010, 'NC'), (2009, 'KS'), (2008, 'OH'), (2012, 'VA'), (2010, 'IN')]\n",
      "\n",
      "Latent Feature 4\n",
      "[(1966, 'OK'), (1966, 'MT'), (1965, 'IN'), (1965, 'KS'), (1967, 'KS'), (1966, 'KS'), (1965, 'IA'), (1966, 'IN'), (1965, 'MT'), (1964, 'IN'), (1966, 'IA'), (1966, 'ND'), (1966, 'NE'), (1966, 'ID'), (1965, 'OK'), (1966, 'MO'), (1963, 'IN'), (1965, 'ID'), (1965, 'MO'), (1966, 'MI')]\n",
      "\n",
      "Latent Feature 5\n",
      "[(1978, 'NV'), (1977, 'WY'), (1977, 'NV'), (1978, 'OH'), (1979, 'NV'), (1978, 'IN'), (1978, 'CO'), (1977, 'CO'), (1978, 'KS'), (1978, 'WA'), (1977, 'KS'), (1977, 'WA'), (1977, 'IN'), (1978, 'IA'), (1979, 'NH'), (1978, 'MI'), (1979, 'SD'), (1978, 'MO'), (1977, 'OR'), (1979, 'MI')]\n",
      "\n",
      "Latent Feature 6\n",
      "[(1950, 'OR'), (1950, 'MI'), (1950, 'WA'), (1949, 'OR'), (1949, 'WA'), (1950, 'NV'), (1949, 'IN'), (1950, 'OH'), (1949, 'CA'), (1948, 'WA'), (1951, 'OR'), (1949, 'MI'), (1951, 'MI'), (1950, 'CA'), (1950, 'IN'), (1950, 'ID'), (1948, 'OR'), (1949, 'ID'), (1949, 'OH'), (1950, 'CO')]\n",
      "\n",
      "Latent Feature 7\n",
      "[(1918, 'MS'), (1917, 'MS'), (1919, 'MS'), (1916, 'MS'), (1913, 'AL'), (1915, 'MS'), (1920, 'MS'), (1913, 'MS'), (1912, 'AL'), (1925, 'MS'), (1914, 'MS'), (1922, 'MS'), (1915, 'AL'), (1929, 'MS'), (1914, 'AL'), (1927, 'MS'), (1926, 'MS'), (1923, 'MS'), (1916, 'AL'), (1913, 'GA')]\n",
      "\n",
      "Latent Feature 8\n",
      "[(1932, 'WA'), (1932, 'OR'), (1931, 'WA'), (1935, 'NE'), (1935, 'IL'), (1935, 'MI'), (1934, 'OR'), (1934, 'ID'), (1934, 'NE'), (1935, 'IA'), (1935, 'KS'), (1931, 'OR'), (1935, 'OR'), (1934, 'WA'), (1933, 'OR'), (1935, 'ID'), (1933, 'NE'), (1935, 'WA'), (1930, 'WA'), (1934, 'IL')]\n",
      "\n"
     ]
    }
   ],
   "source": [
    "print_top_features(W_,H_,fem_index,20)"
   ]
  },
  {
   "cell_type": "code",
   "execution_count": null,
   "metadata": {
    "collapsed": false
   },
   "outputs": [],
   "source": []
  },
  {
   "cell_type": "code",
   "execution_count": 53,
   "metadata": {
    "collapsed": false
   },
   "outputs": [
    {
     "data": {
      "text/plain": [
       "(20031, 8)"
      ]
     },
     "execution_count": 53,
     "metadata": {},
     "output_type": "execute_result"
    }
   ],
   "source": [
    "##MALE NAMES"
   ]
  },
  {
   "cell_type": "code",
   "execution_count": 4,
   "metadata": {
    "collapsed": false
   },
   "outputs": [],
   "source": [
    "male = df[df['Gender']=='M']\n",
    "male = male.drop(['Id', 'Name'], axis=1)"
   ]
  },
  {
   "cell_type": "code",
   "execution_count": 9,
   "metadata": {
    "collapsed": false
   },
   "outputs": [],
   "source": [
    "male_docs = document_transform(male)"
   ]
  },
  {
   "cell_type": "code",
   "execution_count": 11,
   "metadata": {
    "collapsed": false
   },
   "outputs": [],
   "source": [
    "tfidf = TfidfVectorizer()\n",
    "male_vectors = tfidf.fit_transform(male_docs)"
   ]
  },
  {
   "cell_type": "code",
   "execution_count": 125,
   "metadata": {
    "collapsed": false
   },
   "outputs": [
    {
     "data": {
      "text/plain": [
       "<20x13139 sparse matrix of type '<type 'numpy.float64'>'\n",
       "\twith 2397 stored elements in Compressed Sparse Row format>"
      ]
     },
     "execution_count": 125,
     "metadata": {},
     "output_type": "execute_result"
    }
   ],
   "source": []
  },
  {
   "cell_type": "code",
   "execution_count": 12,
   "metadata": {
    "collapsed": true
   },
   "outputs": [],
   "source": [
    "male_vec_array = male_vectors.toarray()"
   ]
  },
  {
   "cell_type": "code",
   "execution_count": 17,
   "metadata": {
    "collapsed": false
   },
   "outputs": [],
   "source": [
    "names = tfidf.get_feature_names()\n",
    "Wm, Hm, male_nmf = run_nmf(male_vec_array, 8)"
   ]
  },
  {
   "cell_type": "code",
   "execution_count": 18,
   "metadata": {
    "collapsed": false
   },
   "outputs": [
    {
     "name": "stdout",
     "output_type": "stream",
     "text": [
      "Latent Feature 1\n",
      "[u'john', u'robert', u'william', u'george', u'joseph', u'james', u'charles', u'edward', u'richard', u'frank', u'donald', u'harold', u'raymond', u'walter', u'paul', u'thomas', u'arthur', u'harry', u'albert', u'ralph']\n",
      "\n",
      "Latent Feature 2\n",
      "[u'tyler', u'joshua', u'brandon', u'zachary', u'jacob', u'ryan', u'matthew', u'nicholas', u'justin', u'cody', u'kyle', u'christopher', u'jordan', u'austin', u'michael', u'andrew', u'dylan', u'alexander', u'joseph', u'jonathan']\n",
      "\n",
      "Latent Feature 3\n",
      "[u'aiden', u'ethan', u'jayden', u'mason', u'logan', u'liam', u'noah', u'jackson', u'brayden', u'elijah', u'hunter', u'gavin', u'landon', u'caleb', u'carter', u'connor', u'wyatt', u'jacob', u'dylan', u'gabriel']\n",
      "\n",
      "Latent Feature 4\n",
      "[u'jason', u'christopher', u'michael', u'matthew', u'joshua', u'brian', u'ryan', u'jeremy', u'justin', u'eric', u'david', u'chad', u'kevin', u'daniel', u'james', u'jonathan', u'jeffrey', u'adam', u'robert', u'brandon']\n",
      "\n",
      "Latent Feature 5\n",
      "[u'james', u'william', u'willie', u'john', u'charles', u'robert', u'george', u'billy', u'joe', u'bobby', u'thomas', u'henry', u'charlie', u'roy', u'walter', u'jimmy', u'clarence', u'johnnie', u'eddie', u'johnny']\n",
      "\n",
      "Latent Feature 6\n",
      "[u'michael', u'david', u'mark', u'john', u'james', u'steven', u'robert', u'jeffrey', u'kevin', u'scott', u'timothy', u'thomas', u'brian', u'richard', u'gregory', u'william', u'gary', u'daniel', u'paul', u'stephen']\n",
      "\n",
      "Latent Feature 7\n",
      "[u'robert', u'richard', u'james', u'donald', u'ronald', u'larry', u'david', u'gary', u'john', u'kenneth', u'jerry', u'william', u'charles', u'dennis', u'roger', u'gerald', u'thomas', u'michael', u'wayne', u'dale']\n",
      "\n",
      "Latent Feature 8\n",
      "[u'jose', u'juan', u'jesus', u'manuel', u'joe', u'luis', u'angel', u'francisco', u'carlos', u'antonio', u'miguel', u'frank', u'ramon', u'pedro', u'daniel', u'david', u'roberto', u'alejandro', u'raul', u'ruben']\n",
      "\n"
     ]
    }
   ],
   "source": [
    "print_top_features(Wm, Hm, names,20)"
   ]
  },
  {
   "cell_type": "code",
   "execution_count": 20,
   "metadata": {
    "collapsed": true
   },
   "outputs": [],
   "source": [
    "male_index = sorted(set(male.index.values))\n",
    "name_vec = male_vec_array.T"
   ]
  },
  {
   "cell_type": "code",
   "execution_count": 86,
   "metadata": {
    "collapsed": false
   },
   "outputs": [
    {
     "ename": "TypeError",
     "evalue": "print_top_features() takes exactly 5 arguments (4 given)",
     "output_type": "error",
     "traceback": [
      "\u001b[0;31m---------------------------------------------------------------------------\u001b[0m",
      "\u001b[0;31mTypeError\u001b[0m                                 Traceback (most recent call last)",
      "\u001b[0;32m<ipython-input-86-45241db58d33>\u001b[0m in \u001b[0;36m<module>\u001b[0;34m()\u001b[0m\n\u001b[1;32m      1\u001b[0m \u001b[0mWm2\u001b[0m\u001b[0;34m,\u001b[0m \u001b[0mHm2\u001b[0m\u001b[0;34m,\u001b[0m \u001b[0mmale_nmf2\u001b[0m\u001b[0;34m,\u001b[0m \u001b[0mnmf_error\u001b[0m \u001b[0;34m=\u001b[0m \u001b[0mrun_nmf\u001b[0m\u001b[0;34m(\u001b[0m\u001b[0mname_vec\u001b[0m\u001b[0;34m,\u001b[0m \u001b[0;36m20\u001b[0m\u001b[0;34m)\u001b[0m\u001b[0;34m\u001b[0m\u001b[0m\n\u001b[0;32m----> 2\u001b[0;31m \u001b[0mprint_top_features\u001b[0m\u001b[0;34m(\u001b[0m\u001b[0mWm2\u001b[0m\u001b[0;34m,\u001b[0m \u001b[0mHm2\u001b[0m\u001b[0;34m,\u001b[0m \u001b[0mmale_index\u001b[0m\u001b[0;34m,\u001b[0m\u001b[0;36m20\u001b[0m\u001b[0;34m)\u001b[0m\u001b[0;34m\u001b[0m\u001b[0m\n\u001b[0m",
      "\u001b[0;31mTypeError\u001b[0m: print_top_features() takes exactly 5 arguments (4 given)"
     ]
    }
   ],
   "source": [
    "Wm2, Hm2, male_nmf2, nmf_error = run_nmf(name_vec, 20)\n",
    "print_top_features(Wm2, Hm2, male_index,20)"
   ]
  },
  {
   "cell_type": "code",
   "execution_count": 88,
   "metadata": {
    "collapsed": false
   },
   "outputs": [
    {
     "name": "stdout",
     "output_type": "stream",
     "text": [
      "Reconstruction Error: 0.000005\n",
      "Latent Feature 1\n",
      "[(1914, 'NV'), (1910, 'WY'), (1910, 'DC'), (1912, 'DC'), (1910, 'DE'), (1920, 'DC'), (1910, 'AK'), (1922, 'DC'), (1911, 'NV'), (1913, 'NV'), (1913, 'DC'), (1914, 'DE'), (1927, 'DE'), (1916, 'DE'), (1921, 'DC'), (1913, 'DE'), (1917, 'DC'), (1935, 'DE'), (1913, 'AK'), (1926, 'DC')]\n",
      "\n",
      "Latent Feature 2\n",
      "[(1987, 'ME'), (1984, 'IA'), (1983, 'IA'), (1983, 'ND'), (1985, 'IA'), (1982, 'IA'), (1986, 'ME'), (1988, 'ME'), (1985, 'NE'), (1983, 'MN'), (1983, 'NE'), (1984, 'WI'), (1981, 'ND'), (1981, 'IA'), (1984, 'MN'), (1985, 'WI'), (1988, 'WI'), (1985, 'MN'), (1985, 'ME'), (1983, 'SD')]\n",
      "\n",
      "Latent Feature 3\n",
      "[(2004, 'SD'), (2003, 'ND'), (2004, 'ND'), (2003, 'SD'), (2002, 'ND'), (2006, 'WV'), (2005, 'SD'), (2003, 'WY'), (2003, 'MT'), (2002, 'SD'), (2006, 'ND'), (2006, 'SD'), (2006, 'WY'), (2005, 'WY'), (2005, 'ND'), (2004, 'WY'), (2005, 'WV'), (2005, 'IA'), (2007, 'WV'), (2007, 'WY')]\n",
      "\n",
      "Latent Feature 4\n",
      "[(1971, 'DC'), (1969, 'DC'), (1972, 'DC'), (1970, 'DC'), (1966, 'DC'), (1972, 'NJ'), (1973, 'DC'), (1968, 'DC'), (1967, 'DC'), (1972, 'NY'), (1967, 'RI'), (1973, 'NJ'), (1968, 'MA'), (1969, 'MA'), (1967, 'MA'), (1969, 'RI'), (1976, 'NJ'), (1972, 'MA'), (1971, 'NJ'), (1971, 'DE')]\n",
      "\n",
      "Latent Feature 5\n",
      "[(1910, 'MS'), (1910, 'GA'), (1911, 'MS'), (1913, 'MS'), (1919, 'MS'), (1914, 'MS'), (1910, 'AL'), (1918, 'MS'), (1911, 'GA'), (1912, 'MS'), (1917, 'MS'), (1920, 'MS'), (1922, 'MS'), (1916, 'MS'), (1915, 'MS'), (1923, 'MS'), (1911, 'AL'), (1925, 'MS'), (1924, 'MS'), (1926, 'MS')]\n",
      "\n",
      "Latent Feature 6\n",
      "[(1939, 'AR'), (1936, 'OK'), (1935, 'OK'), (1940, 'AR'), (1941, 'AR'), (1939, 'OK'), (1937, 'OK'), (1938, 'AR'), (1940, 'OK'), (1938, 'OK'), (1937, 'AR'), (1942, 'AR'), (1934, 'OK'), (1936, 'AR'), (1943, 'AR'), (1941, 'OK'), (1946, 'AR'), (1944, 'AR'), (1947, 'AR'), (1935, 'AR')]\n",
      "\n",
      "Latent Feature 7\n",
      "[(1933, 'NE'), (1934, 'NE'), (1936, 'NE'), (1935, 'NE'), (1932, 'NE'), (1929, 'ID'), (1933, 'SD'), (1931, 'NE'), (1936, 'SD'), (1934, 'SD'), (1935, 'SD'), (1930, 'ID'), (1931, 'ID'), (1937, 'NE'), (1930, 'UT'), (1934, 'IA'), (1932, 'ID'), (1929, 'UT'), (1932, 'SD'), (1930, 'NE')]\n",
      "\n",
      "Latent Feature 8\n",
      "[(1926, 'NM'), (1929, 'NM'), (1928, 'NM'), (1927, 'NM'), (1910, 'NM'), (1930, 'NM'), (1931, 'NM'), (1925, 'NM'), (1924, 'NM'), (1932, 'NM'), (1920, 'NM'), (1923, 'NM'), (1919, 'NM'), (1922, 'NM'), (1918, 'NM'), (1921, 'NM'), (1934, 'NM'), (1917, 'NM'), (1914, 'NM'), (1933, 'NM')]\n",
      "\n",
      "Latent Feature 9\n",
      "[(1962, 'ND'), (1962, 'SD'), (1961, 'ND'), (1960, 'ND'), (1963, 'ND'), (1963, 'SD'), (1961, 'SD'), (1959, 'ND'), (1964, 'ND'), (1965, 'ND'), (1963, 'IA'), (1960, 'SD'), (1962, 'IA'), (1961, 'IA'), (1964, 'SD'), (1965, 'SD'), (1964, 'IA'), (1959, 'IA'), (1960, 'IA'), (1962, 'MN')]\n",
      "\n",
      "Latent Feature 10\n",
      "[(2014, 'IA'), (2013, 'ND'), (2014, 'ID'), (2014, 'MO'), (2013, 'NE'), (2014, 'ND'), (2013, 'IA'), (2014, 'IN'), (2014, 'KY'), (2014, 'KS'), (2013, 'SD'), (2014, 'NE'), (2013, 'ID'), (2014, 'OK'), (2014, 'SD'), (2014, 'WV'), (2013, 'IN'), (2013, 'KS'), (2013, 'MO'), (2014, 'AR')]\n",
      "\n",
      "Latent Feature 11\n",
      "[(1973, 'SD'), (1974, 'ND'), (1973, 'IA'), (1974, 'IA'), (1974, 'KS'), (1972, 'ND'), (1974, 'SD'), (1975, 'ND'), (1974, 'NE'), (1973, 'MN'), (1972, 'SD'), (1973, 'ND'), (1975, 'KS'), (1976, 'SD'), (1972, 'MN'), (1972, 'IA'), (1974, 'WI'), (1971, 'ND'), (1975, 'IA'), (1974, 'MT')]\n",
      "\n",
      "Latent Feature 12\n",
      "[(1994, 'IA'), (1995, 'IA'), (1994, 'ND'), (1993, 'IA'), (1994, 'NE'), (1996, 'IA'), (1994, 'SD'), (1994, 'MT'), (1993, 'SD'), (1995, 'ND'), (1995, 'NE'), (1994, 'ID'), (1997, 'IA'), (1994, 'WY'), (1993, 'MT'), (1995, 'SD'), (1995, 'MT'), (1994, 'OK'), (1994, 'KS'), (1995, 'IN')]\n",
      "\n",
      "Latent Feature 13\n",
      "[(1916, 'RI'), (1914, 'CT'), (1915, 'RI'), (1915, 'CT'), (1911, 'CT'), (1916, 'CT'), (1910, 'CT'), (1912, 'CT'), (1914, 'RI'), (1918, 'CT'), (1913, 'CT'), (1917, 'CT'), (1911, 'RI'), (1917, 'RI'), (1919, 'RI'), (1913, 'RI'), (1919, 'CT'), (1910, 'RI'), (1916, 'NJ'), (1917, 'NJ')]\n",
      "\n",
      "Latent Feature 14\n",
      "[(1937, 'NH'), (1934, 'NH'), (1935, 'NH'), (1933, 'NH'), (1938, 'NH'), (1932, 'NH'), (1939, 'NH'), (1936, 'NH'), (1930, 'NH'), (1931, 'NH'), (1932, 'ME'), (1935, 'ME'), (1934, 'VT'), (1940, 'NH'), (1933, 'ME'), (1937, 'ME'), (1931, 'ME'), (1936, 'ME'), (1932, 'VT'), (1929, 'NH')]\n",
      "\n",
      "Latent Feature 15\n",
      "[(2001, 'CA'), (2000, 'CA'), (2002, 'CA'), (1999, 'CA'), (2005, 'CA'), (1997, 'CA'), (2004, 'CA'), (2004, 'TX'), (2004, 'AZ'), (2003, 'AZ'), (2006, 'CA'), (1998, 'CA'), (2005, 'TX'), (2003, 'CA'), (2003, 'TX'), (2005, 'AZ'), (1996, 'CA'), (2002, 'TX'), (2006, 'TX'), (2002, 'AZ')]\n",
      "\n",
      "Latent Feature 16\n",
      "[(1914, 'SD'), (1918, 'SD'), (1915, 'SD'), (1912, 'SD'), (1912, 'NE'), (1917, 'SD'), (1913, 'NE'), (1913, 'SD'), (1915, 'NE'), (1912, 'IA'), (1913, 'ND'), (1913, 'KS'), (1910, 'KS'), (1919, 'ND'), (1917, 'ND'), (1912, 'KS'), (1914, 'ND'), (1915, 'ND'), (1916, 'SD'), (1920, 'SD')]\n",
      "\n",
      "Latent Feature 17\n",
      "[(1947, 'ND'), (1946, 'IA'), (1947, 'SD'), (1948, 'ND'), (1947, 'IA'), (1948, 'SD'), (1945, 'IA'), (1946, 'ND'), (1948, 'IA'), (1946, 'SD'), (1947, 'ID'), (1947, 'NE'), (1944, 'ID'), (1949, 'SD'), (1944, 'IA'), (1947, 'KS'), (1943, 'IA'), (1950, 'SD'), (1945, 'ID'), (1945, 'ND')]\n",
      "\n",
      "Latent Feature 18\n",
      "[(1985, 'MS'), (1991, 'MS'), (1987, 'MS'), (1990, 'MS'), (1986, 'MS'), (1988, 'MS'), (1989, 'MS'), (1985, 'AL'), (1984, 'MS'), (1992, 'MS'), (1994, 'MS'), (1986, 'AL'), (1983, 'MS'), (1987, 'AL'), (1989, 'AL'), (1982, 'AL'), (1996, 'MS'), (1993, 'MS'), (1988, 'AL'), (1984, 'AL')]\n",
      "\n",
      "Latent Feature 19\n",
      "[(1921, 'HI'), (1924, 'HI'), (1923, 'HI'), (1922, 'HI'), (1925, 'HI'), (1920, 'HI'), (1919, 'HI'), (1917, 'HI'), (1926, 'HI'), (1918, 'HI'), (1915, 'HI'), (1927, 'HI'), (1916, 'HI'), (1929, 'HI'), (1928, 'HI'), (1912, 'HI'), (1930, 'HI'), (1914, 'HI'), (1913, 'HI'), (1931, 'HI')]\n",
      "\n",
      "Latent Feature 20\n",
      "[(2009, 'NJ'), (2008, 'NJ'), (2007, 'MA'), (2007, 'CT'), (2010, 'NJ'), (2007, 'RI'), (2009, 'NY'), (2008, 'NY'), (2007, 'NJ'), (2008, 'MA'), (2010, 'NY'), (2009, 'RI'), (2007, 'NY'), (2009, 'MA'), (2006, 'RI'), (2009, 'CT'), (2006, 'MA'), (2008, 'RI'), (2011, 'NJ'), (2010, 'CT')]\n",
      "\n"
     ]
    }
   ],
   "source": [
    "print_top_features(Wm2, Hm2, male_index,20,name_vec)"
   ]
  },
  {
   "cell_type": "code",
   "execution_count": 32,
   "metadata": {
    "collapsed": false
   },
   "outputs": [
    {
     "data": {
      "text/plain": [
       "22.719587269640282"
      ]
     },
     "execution_count": 32,
     "metadata": {},
     "output_type": "execute_result"
    }
   ],
   "source": [
    "recon_error(name_vec,12)"
   ]
  },
  {
   "cell_type": "code",
   "execution_count": 25,
   "metadata": {
    "collapsed": true
   },
   "outputs": [],
   "source": [
    "def reconst_mse(target, left, right):\n",
    "    return (np.array(target - left.dot(right))**2).mean()"
   ]
  },
  {
   "cell_type": "code",
   "execution_count": 33,
   "metadata": {
    "collapsed": false
   },
   "outputs": [
    {
     "data": {
      "text/plain": [
       "7.1655913830319164e-06"
      ]
     },
     "execution_count": 33,
     "metadata": {},
     "output_type": "execute_result"
    }
   ],
   "source": [
    "reconst_mse(name_vec, Wm2, Hm2)"
   ]
  },
  {
   "cell_type": "code",
   "execution_count": 34,
   "metadata": {
    "collapsed": true
   },
   "outputs": [],
   "source": [
    "def run_tfidf_nmf(array, n_factors, features):\n",
    "\n",
    "    W, H, nmf, error = run_nmf(df,n_factors)\n",
    "\n",
    "    print \"SKlearn error: %f\" %error\n",
    "    print print_top_features(W,H,features,20,array)\n",
    "\n",
    "    return W, H, nmf"
   ]
  },
  {
   "cell_type": "code",
   "execution_count": 36,
   "metadata": {
    "collapsed": true
   },
   "outputs": [],
   "source": [
    "def reconst_error_sum(target, left, right):\n",
    "    return (np.array(target - left.dot(right))**2).sum()"
   ]
  },
  {
   "cell_type": "code",
   "execution_count": 101,
   "metadata": {
    "collapsed": false
   },
   "outputs": [
    {
     "data": {
      "text/plain": [
       "[13.32305605510539,\n",
       " 13.219475002509645,\n",
       " 13.135823722585684,\n",
       " 13.059746387686431,\n",
       " 13.003180296224688,\n",
       " 12.891075728769076,\n",
       " 12.74217998964513,\n",
       " 12.683901708048088,\n",
       " 12.645278120456048,\n",
       " 12.520181281567147,\n",
       " 12.450980586512637,\n",
       " 12.403961035120199,\n",
       " 12.333842760503307]"
      ]
     },
     "execution_count": 101,
     "metadata": {},
     "output_type": "execute_result"
    }
   ],
   "source": [
    "k_list_76_100 = [x for x in range(76,101,2)]\n",
    "error_list6 = []\n",
    "\n",
    "for k in k_list_76_100:\n",
    "    w, h, male_nmf3, error = run_nmf(name_vec, k)\n",
    "    error_list6.append(error)\n",
    "\n",
    "error_list6"
   ]
  },
  {
   "cell_type": "code",
   "execution_count": 51,
   "metadata": {
    "collapsed": false
   },
   "outputs": [
    {
     "data": {
      "text/plain": [
       "[<matplotlib.lines.Line2D at 0x12a4254d0>]"
      ]
     },
     "execution_count": 51,
     "metadata": {},
     "output_type": "execute_result"
    },
    {
     "data": {
      "image/png": "[encoded data removed]",
      "text/plain": [
       "<matplotlib.figure.Figure at 0x12b885190>"
      ]
     },
     "metadata": {},
     "output_type": "display_data"
    }
   ],
   "source": [
    "plt.plot(k_list2, error_list2)"
   ]
  },
  {
   "cell_type": "code",
   "execution_count": 59,
   "metadata": {
    "collapsed": true
   },
   "outputs": [],
   "source": [
    "a = error_list.extend(error_list2)"
   ]
  },
  {
   "cell_type": "code",
   "execution_count": 60,
   "metadata": {
    "collapsed": false
   },
   "outputs": [],
   "source": [
    "b = k_list.extend(k_list2)"
   ]
  },
  {
   "cell_type": "code",
   "execution_count": 73,
   "metadata": {
    "collapsed": false
   },
   "outputs": [],
   "source": [
    "tot_error = [40.34052623854491,\n",
    " 31.549051502945478,\n",
    " 27.86328070509829,\n",
    " 25.23872672346625,\n",
    " 24.02821742196193,\n",
    " 22.536573560173057,\n",
    " 21.600041922735354,\n",
    " 20.576412267420093,\n",
    " 19.868282162401414,\n",
    " 19.24152132560906,\n",
    " 18.610721941383588,\n",
    " 18.17216259007148,\n",
    " 17.772714728899473,\n",
    " 17.47813667634361,\n",
    " 17.06849617731421]"
   ]
  },
  {
   "cell_type": "code",
   "execution_count": 103,
   "metadata": {
    "collapsed": false
   },
   "outputs": [],
   "source": [
    "total_k = [x for x in range(2,101,2)]"
   ]
  },
  {
   "cell_type": "code",
   "execution_count": 102,
   "metadata": {
    "collapsed": true
   },
   "outputs": [],
   "source": [
    "total_error = [40.34052623854491,\n",
    " 31.549051502945478,\n",
    " 27.86328070509829,\n",
    " 25.23872672346625,\n",
    " 24.02821742196193,\n",
    " 22.536573560173057,\n",
    " 21.600041922735354,\n",
    " 20.576412267420093,\n",
    " 19.868282162401414,\n",
    " 19.24152132560906,\n",
    " 18.610721941383588,\n",
    " 18.17216259007148,\n",
    " 17.772714728899473,\n",
    " 17.47813667634361,\n",
    " 17.06849617731421,\n",
    " 16.81737754567099,\n",
    " 16.47190266813654,\n",
    " 16.248982831156127,\n",
    " 16.036541999647664,\n",
    " 15.822119028468805,\n",
    " 15.65485885808656,\n",
    " 15.429941401063765,\n",
    " 15.24244290502724,\n",
    " 15.051475664120156,\n",
    " 14.896923594175682,\n",
    " 14.739897133240747,\n",
    " 14.630310017851906,\n",
    " 14.455454572952524,\n",
    " 14.3356672157484,\n",
    " 14.20813661202442,\n",
    " 14.073124398982603,\n",
    " 13.95963544677549,\n",
    " 13.822426043520348,\n",
    " 13.754060793449282,\n",
    " 13.637776895989896,\n",
    " 13.559897830387262,\n",
    " 13.462511279712475,\n",
    " 13.32305605510539,\n",
    " 13.219475002509645,\n",
    " 13.135823722585684,\n",
    " 13.059746387686431,\n",
    " 13.003180296224688,\n",
    " 12.891075728769076,\n",
    " 12.74217998964513,\n",
    " 12.683901708048088,\n",
    " 12.645278120456048,\n",
    " 12.520181281567147,\n",
    " 12.450980586512637,\n",
    " 12.403961035120199,\n",
    " 12.333842760503307]"
   ]
  },
  {
   "cell_type": "code",
   "execution_count": 105,
   "metadata": {
    "collapsed": false
   },
   "outputs": [
    {
     "data": {
      "text/plain": [
       "[<matplotlib.lines.Line2D at 0x1383bb150>]"
      ]
     },
     "execution_count": 105,
     "metadata": {},
     "output_type": "execute_result"
    },
    {
     "data": {
      "image/png": "[encoded data removed]",
      "text/plain": [
       "<matplotlib.figure.Figure at 0x12b546150>"
      ]
     },
     "metadata": {},
     "output_type": "display_data"
    }
   ],
   "source": [
    "fig = plt.figure(figsize=(12,8))\n",
    "plt.plot(total_k, total_error)"
   ]
  },
  {
   "cell_type": "code",
   "execution_count": null,
   "metadata": {
    "collapsed": true
   },
   "outputs": [],
   "source": []
  },
  {
   "cell_type": "code",
   "execution_count": 122,
   "metadata": {
    "collapsed": true
   },
   "outputs": [],
   "source": [
    "###SOME SVD"
   ]
  },
  {
   "cell_type": "code",
   "execution_count": 109,
   "metadata": {
    "collapsed": false
   },
   "outputs": [],
   "source": [
    "from numpy.linalg import svd"
   ]
  },
  {
   "cell_type": "code",
   "execution_count": 110,
   "metadata": {
    "collapsed": false
   },
   "outputs": [],
   "source": [
    "U, sigma, VT = svd(name_vec)"
   ]
  },
  {
   "cell_type": "code",
   "execution_count": 111,
   "metadata": {
    "collapsed": true
   },
   "outputs": [],
   "source": [
    "total_energy = np.sum(sigma ** 2)"
   ]
  },
  {
   "cell_type": "code",
   "execution_count": 112,
   "metadata": {
    "collapsed": false
   },
   "outputs": [
    {
     "data": {
      "text/plain": [
       "4819.4999999999909"
      ]
     },
     "execution_count": 112,
     "metadata": {},
     "output_type": "execute_result"
    }
   ],
   "source": [
    "total_energy * .9"
   ]
  },
  {
   "cell_type": "code",
   "execution_count": 116,
   "metadata": {
    "collapsed": false
   },
   "outputs": [
    {
     "data": {
      "text/plain": [
       "<matplotlib.collections.LineCollection at 0x13ad4ec90>"
      ]
     },
     "execution_count": 116,
     "metadata": {},
     "output_type": "execute_result"
    },
    {
     "data": {
      "image/png": "[encoded data removed]",
      "text/plain": [
       "<matplotlib.figure.Figure at 0x13ad25750>"
      ]
     },
     "metadata": {},
     "output_type": "display_data"
    }
   ],
   "source": [
    "fig = plt.figure(figsize=(12,8))\n",
    "cumulative = np.cumsum(sigma ** 2)[:20]\n",
    "plt.plot(cumulative)\n",
    "plt.hlines(4819.5, 0,20)"
   ]
  },
  {
   "cell_type": "code",
   "execution_count": 119,
   "metadata": {
    "collapsed": false
   },
   "outputs": [],
   "source": [
    "VT_8 = VT[:8,:]"
   ]
  },
  {
   "cell_type": "code",
   "execution_count": 121,
   "metadata": {
    "collapsed": false
   },
   "outputs": [
    {
     "name": "stdout",
     "output_type": "stream",
     "text": [
      "[(2013, 'ND'), (2012, 'VT'), (2014, 'ND'), (2014, 'SD'), (2011, 'ND'), (2010, 'ND'), (2012, 'ND'), (2011, 'HI'), (2013, 'SD'), (2014, 'WY')]\n",
      "[(1995, 'WA'), (1997, 'ME'), (1999, 'WA'), (1996, 'WA'), (2000, 'OR'), (1996, 'CO'), (2000, 'WA'), (1997, 'WA'), (1999, 'OR'), (1997, 'CO')]\n",
      "[(1969, 'ND'), (1969, 'IA'), (1969, 'MN'), (1970, 'IA'), (1967, 'IA'), (1967, 'ND'), (1970, 'MN'), (1969, 'NE'), (1968, 'MN'), (1971, 'WI')]\n",
      "[(2012, 'ND'), (2013, 'IA'), (2011, 'IA'), (2012, 'IN'), (2011, 'IN'), (2012, 'IA'), (2013, 'IN'), (2011, 'ND'), (2010, 'ND'), (2010, 'IA')]\n",
      "[(1937, 'NH'), (1934, 'NH'), (1930, 'NH'), (1935, 'NH'), (1934, 'VT'), (1933, 'NH'), (1932, 'NH'), (1932, 'VT'), (1931, 'NH'), (1929, 'NH')]\n",
      "[(1911, 'CT'), (1914, 'CT'), (1917, 'CT'), (1912, 'CT'), (1916, 'RI'), (1916, 'CT'), (1913, 'CT'), (1915, 'RI'), (1915, 'CT'), (1918, 'CT')]\n",
      "[(1937, 'NE'), (1935, 'NE'), (1936, 'NE'), (1934, 'NE'), (1931, 'NE'), (1933, 'NE'), (1932, 'NE'), (1935, 'SD'), (1933, 'SD'), (1936, 'SD')]\n",
      "[(2013, 'WV'), (2011, 'WV'), (2012, 'WV'), (2014, 'WV'), (2012, 'MT'), (2011, 'ND'), (2011, 'MT'), (2010, 'ND'), (2012, 'ME'), (2013, 'VT')]\n"
     ]
    }
   ],
   "source": [
    "features = male_index\n",
    "for i, row in enumerate(VT_8):\n",
    "    top_features = [male_index[index] for index in row.argsort()[:-10-1:-1]]\n",
    "    print top_features"
   ]
  },
  {
   "cell_type": "code",
   "execution_count": null,
   "metadata": {
    "collapsed": true
   },
   "outputs": [],
   "source": []
  },
  {
   "cell_type": "code",
   "execution_count": null,
   "metadata": {
    "collapsed": true
   },
   "outputs": [],
   "source": []
  },
  {
   "cell_type": "code",
   "execution_count": 123,
   "metadata": {
    "collapsed": true
   },
   "outputs": [],
   "source": [
    "##TF-IDF matrix function"
   ]
  },
  {
   "cell_type": "code",
   "execution_count": 126,
   "metadata": {
    "collapsed": false
   },
   "outputs": [
    {
     "ename": "NameError",
     "evalue": "name 'n_samples' is not defined",
     "output_type": "error",
     "traceback": [
      "\u001b[0;31m---------------------------------------------------------------------------\u001b[0m",
      "\u001b[0;31mNameError\u001b[0m                                 Traceback (most recent call last)",
      "\u001b[0;32m<ipython-input-126-25000822bfd2>\u001b[0m in \u001b[0;36m<module>\u001b[0;34m()\u001b[0m\n\u001b[0;32m----> 1\u001b[0;31m \u001b[0mmy_idf\u001b[0m \u001b[0;34m=\u001b[0m \u001b[0mnp\u001b[0m\u001b[0;34m.\u001b[0m\u001b[0mlog\u001b[0m\u001b[0;34m(\u001b[0m\u001b[0;34m(\u001b[0m\u001b[0mfloat\u001b[0m\u001b[0;34m(\u001b[0m\u001b[0mn_samples\u001b[0m\u001b[0;34m)\u001b[0m \u001b[0;34m+\u001b[0m \u001b[0;36m1\u001b[0m\u001b[0;34m)\u001b[0m \u001b[0;34m/\u001b[0m \u001b[0;34m(\u001b[0m\u001b[0mdf\u001b[0m \u001b[0;34m+\u001b[0m \u001b[0;36m1\u001b[0m\u001b[0;34m)\u001b[0m\u001b[0;34m)\u001b[0m \u001b[0;34m+\u001b[0m \u001b[0;36m1.0\u001b[0m\u001b[0;34m\u001b[0m\u001b[0m\n\u001b[0m",
      "\u001b[0;31mNameError\u001b[0m: name 'n_samples' is not defined"
     ]
    }
   ],
   "source": [
    "my_idf = np.log((float(n_samples) + 1) / (df + 1)) + 1.0"
   ]
  },
  {
   "cell_type": "code",
   "execution_count": null,
   "metadata": {
    "collapsed": true
   },
   "outputs": [],
   "source": [
    "sklearn_idf = np.log(float(n_samples) / df) + 1.0"
   ]
  },
  {
   "cell_type": "code",
   "execution_count": 128,
   "metadata": {
    "collapsed": false
   },
   "outputs": [
    {
     "data": {
      "text/html": [
       "<div>\n",
       "<table border=\"1\" class=\"dataframe\">\n",
       "  <thead>\n",
       "    <tr style=\"text-align: right;\">\n",
       "      <th></th>\n",
       "      <th></th>\n",
       "      <th>Id</th>\n",
       "      <th>Name</th>\n",
       "      <th>Gender</th>\n",
       "      <th>Count_by_name</th>\n",
       "      <th>new_name</th>\n",
       "      <th>name_gender</th>\n",
       "      <th>tuple_index</th>\n",
       "      <th>Count</th>\n",
       "      <th>count_norm</th>\n",
       "    </tr>\n",
       "    <tr>\n",
       "      <th>Year</th>\n",
       "      <th>State</th>\n",
       "      <th></th>\n",
       "      <th></th>\n",
       "      <th></th>\n",
       "      <th></th>\n",
       "      <th></th>\n",
       "      <th></th>\n",
       "      <th></th>\n",
       "      <th></th>\n",
       "      <th></th>\n",
       "    </tr>\n",
       "  </thead>\n",
       "  <tbody>\n",
       "    <tr>\n",
       "      <th rowspan=\"5\" valign=\"top\">1910</th>\n",
       "      <th>AK</th>\n",
       "      <td>1</td>\n",
       "      <td>Mary</td>\n",
       "      <td>F</td>\n",
       "      <td>14</td>\n",
       "      <td>mary</td>\n",
       "      <td>(mary, F)</td>\n",
       "      <td>(1910, AK)</td>\n",
       "      <td>115</td>\n",
       "      <td>0.121739</td>\n",
       "    </tr>\n",
       "    <tr>\n",
       "      <th>AK</th>\n",
       "      <td>2</td>\n",
       "      <td>Annie</td>\n",
       "      <td>F</td>\n",
       "      <td>12</td>\n",
       "      <td>annie</td>\n",
       "      <td>(annie, F)</td>\n",
       "      <td>(1910, AK)</td>\n",
       "      <td>115</td>\n",
       "      <td>0.104348</td>\n",
       "    </tr>\n",
       "    <tr>\n",
       "      <th>AK</th>\n",
       "      <td>3</td>\n",
       "      <td>Anna</td>\n",
       "      <td>F</td>\n",
       "      <td>10</td>\n",
       "      <td>anna</td>\n",
       "      <td>(anna, F)</td>\n",
       "      <td>(1910, AK)</td>\n",
       "      <td>115</td>\n",
       "      <td>0.086957</td>\n",
       "    </tr>\n",
       "    <tr>\n",
       "      <th>AK</th>\n",
       "      <td>4</td>\n",
       "      <td>Margaret</td>\n",
       "      <td>F</td>\n",
       "      <td>8</td>\n",
       "      <td>margaret</td>\n",
       "      <td>(margaret, F)</td>\n",
       "      <td>(1910, AK)</td>\n",
       "      <td>115</td>\n",
       "      <td>0.069565</td>\n",
       "    </tr>\n",
       "    <tr>\n",
       "      <th>AK</th>\n",
       "      <td>5</td>\n",
       "      <td>Helen</td>\n",
       "      <td>F</td>\n",
       "      <td>7</td>\n",
       "      <td>helen</td>\n",
       "      <td>(helen, F)</td>\n",
       "      <td>(1910, AK)</td>\n",
       "      <td>115</td>\n",
       "      <td>0.060870</td>\n",
       "    </tr>\n",
       "  </tbody>\n",
       "</table>\n",
       "</div>"
      ],
      "text/plain": [
       "            Id      Name Gender  Count_by_name  new_name    name_gender  \\\n",
       "Year State                                                                \n",
       "1910 AK      1      Mary      F             14      mary      (mary, F)   \n",
       "     AK      2     Annie      F             12     annie     (annie, F)   \n",
       "     AK      3      Anna      F             10      anna      (anna, F)   \n",
       "     AK      4  Margaret      F              8  margaret  (margaret, F)   \n",
       "     AK      5     Helen      F              7     helen     (helen, F)   \n",
       "\n",
       "           tuple_index  Count  count_norm  \n",
       "Year State                                 \n",
       "1910 AK     (1910, AK)    115    0.121739  \n",
       "     AK     (1910, AK)    115    0.104348  \n",
       "     AK     (1910, AK)    115    0.086957  \n",
       "     AK     (1910, AK)    115    0.069565  \n",
       "     AK     (1910, AK)    115    0.060870  "
      ]
     },
     "execution_count": 128,
     "metadata": {},
     "output_type": "execute_result"
    }
   ],
   "source": [
    "df.head()"
   ]
  },
  {
   "cell_type": "code",
   "execution_count": 239,
   "metadata": {
    "collapsed": false
   },
   "outputs": [],
   "source": [
    "# norm_pivot = pd.pivot_table(df, values = 'Count_by_name', index = df.tuple_index, columns= df.name_gender)\n",
    "fem_pivot = pd.pivot_table(fem, values = 'Count_by_name', index = fem.tuple_index, columns= fem.name_gender)"
   ]
  },
  {
   "cell_type": "code",
   "execution_count": 240,
   "metadata": {
    "collapsed": false
   },
   "outputs": [],
   "source": [
    "fem_doc_freq = fem_pivot.count()"
   ]
  },
  {
   "cell_type": "code",
   "execution_count": 242,
   "metadata": {
    "collapsed": true
   },
   "outputs": [],
   "source": [
    "fem_pivot = fem_pivot.fillna(0)"
   ]
  },
  {
   "cell_type": "code",
   "execution_count": 219,
   "metadata": {
    "collapsed": true
   },
   "outputs": [],
   "source": [
    "fem_column_idf = np.log((fem_pivot.shape[0] + 1.) / (fem_doc_freq + 1.)) + 1"
   ]
  },
  {
   "cell_type": "code",
   "execution_count": 220,
   "metadata": {
    "collapsed": true
   },
   "outputs": [],
   "source": [
    "fem_processed = fem_pivot * fem_column_idf"
   ]
  },
  {
   "cell_type": "code",
   "execution_count": 221,
   "metadata": {
    "collapsed": false
   },
   "outputs": [
    {
     "data": {
      "text/plain": [
       "(5355, 20031)"
      ]
     },
     "execution_count": 221,
     "metadata": {},
     "output_type": "execute_result"
    }
   ],
   "source": []
  },
  {
   "cell_type": "code",
   "execution_count": 150,
   "metadata": {
    "collapsed": false
   },
   "outputs": [],
   "source": [
    "docf_dict = {i:value for i, value in series.iteritems()}"
   ]
  },
  {
   "cell_type": "code",
   "execution_count": 152,
   "metadata": {
    "collapsed": false
   },
   "outputs": [],
   "source": [
    "n_samples, n_names = norm_pivot.shape"
   ]
  },
  {
   "cell_type": "code",
   "execution_count": 154,
   "metadata": {
    "collapsed": false
   },
   "outputs": [],
   "source": [
    "# def my_idf(name_col, count_value, n_samples):\n",
    "#     doc_freq = docf_dict[name_col]\n",
    "    '''return''' np.log((float(n_samples) + 1) / (doc_freq + 1)) + 1.0"
   ]
  },
  {
   "cell_type": "code",
   "execution_count": 182,
   "metadata": {
    "collapsed": false
   },
   "outputs": [],
   "source": [
    "doc_frequency = np.sum(~np.isnan(norm_pivot), axis=0)"
   ]
  },
  {
   "cell_type": "code",
   "execution_count": 191,
   "metadata": {
    "collapsed": false
   },
   "outputs": [],
   "source": [
    "column_idf = np.log((norm_pivot.shape[0] + 1.) / (doc_frequency + 1.)) + 1"
   ]
  },
  {
   "cell_type": "code",
   "execution_count": 194,
   "metadata": {
    "collapsed": false
   },
   "outputs": [],
   "source": [
    "processed = norm_pivot.fillna(0) * column_idf"
   ]
  },
  {
   "cell_type": "code",
   "execution_count": 259,
   "metadata": {
    "collapsed": false
   },
   "outputs": [
    {
     "data": {
      "text/plain": [
       "(5355, 33170)"
      ]
     },
     "execution_count": 259,
     "metadata": {},
     "output_type": "execute_result"
    }
   ],
   "source": [
    "norm_pivot.shape"
   ]
  },
  {
   "cell_type": "code",
   "execution_count": 256,
   "metadata": {
    "collapsed": false
   },
   "outputs": [
    {
     "data": {
      "text/plain": [
       "58.267100910536136"
      ]
     },
     "execution_count": 256,
     "metadata": {},
     "output_type": "execute_result"
    }
   ],
   "source": [
    "processed.iloc[:,24].max()"
   ]
  },
  {
   "cell_type": "code",
   "execution_count": 257,
   "metadata": {
    "collapsed": false
   },
   "outputs": [
    {
     "data": {
      "text/plain": [
       "15.0"
      ]
     },
     "execution_count": 257,
     "metadata": {},
     "output_type": "execute_result"
    }
   ],
   "source": [
    "fem_processed.iloc[:,24].max()"
   ]
  },
  {
   "cell_type": "code",
   "execution_count": 227,
   "metadata": {
    "collapsed": false
   },
   "outputs": [
    {
     "data": {
      "text/plain": [
       "scipy.sparse.csr.csr_matrix"
      ]
     },
     "execution_count": 227,
     "metadata": {},
     "output_type": "execute_result"
    }
   ],
   "source": [
    "type(vectors)"
   ]
  },
  {
   "cell_type": "code",
   "execution_count": 233,
   "metadata": {
    "collapsed": false
   },
   "outputs": [],
   "source": [
    "vectors_df = pd.DataFrame(data=vectors, index=fem_index, columns=names)"
   ]
  },
  {
   "cell_type": "code",
   "execution_count": 253,
   "metadata": {
    "collapsed": false
   },
   "outputs": [
    {
     "data": {
      "text/html": [
       "<div>\n",
       "<table border=\"1\" class=\"dataframe\">\n",
       "  <thead>\n",
       "    <tr style=\"text-align: right;\">\n",
       "      <th>name_gender</th>\n",
       "      <th>(aadhya, F)</th>\n",
       "      <th>(aadya, F)</th>\n",
       "      <th>(aahana, F)</th>\n",
       "      <th>(aahna, F)</th>\n",
       "      <th>(aaima, F)</th>\n",
       "      <th>(aalaya, F)</th>\n",
       "      <th>(aalayah, F)</th>\n",
       "      <th>(aaleah, F)</th>\n",
       "      <th>(aaleyah, F)</th>\n",
       "      <th>(aalia, F)</th>\n",
       "      <th>...</th>\n",
       "      <th>(zykira, F)</th>\n",
       "      <th>(zykiria, F)</th>\n",
       "      <th>(zyla, F)</th>\n",
       "      <th>(zylah, F)</th>\n",
       "      <th>(zyon, F)</th>\n",
       "      <th>(zyonna, F)</th>\n",
       "      <th>(zyra, F)</th>\n",
       "      <th>(zyrah, F)</th>\n",
       "      <th>(zyria, F)</th>\n",
       "      <th>(zyriah, F)</th>\n",
       "    </tr>\n",
       "    <tr>\n",
       "      <th>tuple_index</th>\n",
       "      <th></th>\n",
       "      <th></th>\n",
       "      <th></th>\n",
       "      <th></th>\n",
       "      <th></th>\n",
       "      <th></th>\n",
       "      <th></th>\n",
       "      <th></th>\n",
       "      <th></th>\n",
       "      <th></th>\n",
       "      <th></th>\n",
       "      <th></th>\n",
       "      <th></th>\n",
       "      <th></th>\n",
       "      <th></th>\n",
       "      <th></th>\n",
       "      <th></th>\n",
       "      <th></th>\n",
       "      <th></th>\n",
       "      <th></th>\n",
       "      <th></th>\n",
       "    </tr>\n",
       "  </thead>\n",
       "  <tbody>\n",
       "    <tr>\n",
       "      <th>(1910, AK)</th>\n",
       "      <td>0.0</td>\n",
       "      <td>0.0</td>\n",
       "      <td>0.0</td>\n",
       "      <td>0.0</td>\n",
       "      <td>0.0</td>\n",
       "      <td>0.0</td>\n",
       "      <td>0.0</td>\n",
       "      <td>0.0</td>\n",
       "      <td>0.0</td>\n",
       "      <td>0.0</td>\n",
       "      <td>...</td>\n",
       "      <td>0.0</td>\n",
       "      <td>0.0</td>\n",
       "      <td>0.0</td>\n",
       "      <td>0.0</td>\n",
       "      <td>0.0</td>\n",
       "      <td>0.0</td>\n",
       "      <td>0.0</td>\n",
       "      <td>0.0</td>\n",
       "      <td>0.0</td>\n",
       "      <td>0.0</td>\n",
       "    </tr>\n",
       "    <tr>\n",
       "      <th>(1910, AL)</th>\n",
       "      <td>0.0</td>\n",
       "      <td>0.0</td>\n",
       "      <td>0.0</td>\n",
       "      <td>0.0</td>\n",
       "      <td>0.0</td>\n",
       "      <td>0.0</td>\n",
       "      <td>0.0</td>\n",
       "      <td>0.0</td>\n",
       "      <td>0.0</td>\n",
       "      <td>0.0</td>\n",
       "      <td>...</td>\n",
       "      <td>0.0</td>\n",
       "      <td>0.0</td>\n",
       "      <td>0.0</td>\n",
       "      <td>0.0</td>\n",
       "      <td>0.0</td>\n",
       "      <td>0.0</td>\n",
       "      <td>0.0</td>\n",
       "      <td>0.0</td>\n",
       "      <td>0.0</td>\n",
       "      <td>0.0</td>\n",
       "    </tr>\n",
       "    <tr>\n",
       "      <th>(1910, AR)</th>\n",
       "      <td>0.0</td>\n",
       "      <td>0.0</td>\n",
       "      <td>0.0</td>\n",
       "      <td>0.0</td>\n",
       "      <td>0.0</td>\n",
       "      <td>0.0</td>\n",
       "      <td>0.0</td>\n",
       "      <td>0.0</td>\n",
       "      <td>0.0</td>\n",
       "      <td>0.0</td>\n",
       "      <td>...</td>\n",
       "      <td>0.0</td>\n",
       "      <td>0.0</td>\n",
       "      <td>0.0</td>\n",
       "      <td>0.0</td>\n",
       "      <td>0.0</td>\n",
       "      <td>0.0</td>\n",
       "      <td>0.0</td>\n",
       "      <td>0.0</td>\n",
       "      <td>0.0</td>\n",
       "      <td>0.0</td>\n",
       "    </tr>\n",
       "    <tr>\n",
       "      <th>(1910, AZ)</th>\n",
       "      <td>0.0</td>\n",
       "      <td>0.0</td>\n",
       "      <td>0.0</td>\n",
       "      <td>0.0</td>\n",
       "      <td>0.0</td>\n",
       "      <td>0.0</td>\n",
       "      <td>0.0</td>\n",
       "      <td>0.0</td>\n",
       "      <td>0.0</td>\n",
       "      <td>0.0</td>\n",
       "      <td>...</td>\n",
       "      <td>0.0</td>\n",
       "      <td>0.0</td>\n",
       "      <td>0.0</td>\n",
       "      <td>0.0</td>\n",
       "      <td>0.0</td>\n",
       "      <td>0.0</td>\n",
       "      <td>0.0</td>\n",
       "      <td>0.0</td>\n",
       "      <td>0.0</td>\n",
       "      <td>0.0</td>\n",
       "    </tr>\n",
       "    <tr>\n",
       "      <th>(1910, CA)</th>\n",
       "      <td>0.0</td>\n",
       "      <td>0.0</td>\n",
       "      <td>0.0</td>\n",
       "      <td>0.0</td>\n",
       "      <td>0.0</td>\n",
       "      <td>0.0</td>\n",
       "      <td>0.0</td>\n",
       "      <td>0.0</td>\n",
       "      <td>0.0</td>\n",
       "      <td>0.0</td>\n",
       "      <td>...</td>\n",
       "      <td>0.0</td>\n",
       "      <td>0.0</td>\n",
       "      <td>0.0</td>\n",
       "      <td>0.0</td>\n",
       "      <td>0.0</td>\n",
       "      <td>0.0</td>\n",
       "      <td>0.0</td>\n",
       "      <td>0.0</td>\n",
       "      <td>0.0</td>\n",
       "      <td>0.0</td>\n",
       "    </tr>\n",
       "  </tbody>\n",
       "</table>\n",
       "<p>5 rows × 20031 columns</p>\n",
       "</div>"
      ],
      "text/plain": [
       "name_gender  (aadhya, F)  (aadya, F)  (aahana, F)  (aahna, F)  (aaima, F)  \\\n",
       "tuple_index                                                                 \n",
       "(1910, AK)           0.0         0.0          0.0         0.0         0.0   \n",
       "(1910, AL)           0.0         0.0          0.0         0.0         0.0   \n",
       "(1910, AR)           0.0         0.0          0.0         0.0         0.0   \n",
       "(1910, AZ)           0.0         0.0          0.0         0.0         0.0   \n",
       "(1910, CA)           0.0         0.0          0.0         0.0         0.0   \n",
       "\n",
       "name_gender  (aalaya, F)  (aalayah, F)  (aaleah, F)  (aaleyah, F)  (aalia, F)  \\\n",
       "tuple_index                                                                     \n",
       "(1910, AK)           0.0           0.0          0.0           0.0         0.0   \n",
       "(1910, AL)           0.0           0.0          0.0           0.0         0.0   \n",
       "(1910, AR)           0.0           0.0          0.0           0.0         0.0   \n",
       "(1910, AZ)           0.0           0.0          0.0           0.0         0.0   \n",
       "(1910, CA)           0.0           0.0          0.0           0.0         0.0   \n",
       "\n",
       "name_gender     ...       (zykira, F)  (zykiria, F)  (zyla, F)  (zylah, F)  \\\n",
       "tuple_index     ...                                                          \n",
       "(1910, AK)      ...               0.0           0.0        0.0         0.0   \n",
       "(1910, AL)      ...               0.0           0.0        0.0         0.0   \n",
       "(1910, AR)      ...               0.0           0.0        0.0         0.0   \n",
       "(1910, AZ)      ...               0.0           0.0        0.0         0.0   \n",
       "(1910, CA)      ...               0.0           0.0        0.0         0.0   \n",
       "\n",
       "name_gender  (zyon, F)  (zyonna, F)  (zyra, F)  (zyrah, F)  (zyria, F)  \\\n",
       "tuple_index                                                              \n",
       "(1910, AK)         0.0          0.0        0.0         0.0         0.0   \n",
       "(1910, AL)         0.0          0.0        0.0         0.0         0.0   \n",
       "(1910, AR)         0.0          0.0        0.0         0.0         0.0   \n",
       "(1910, AZ)         0.0          0.0        0.0         0.0         0.0   \n",
       "(1910, CA)         0.0          0.0        0.0         0.0         0.0   \n",
       "\n",
       "name_gender  (zyriah, F)  \n",
       "tuple_index               \n",
       "(1910, AK)           0.0  \n",
       "(1910, AL)           0.0  \n",
       "(1910, AR)           0.0  \n",
       "(1910, AZ)           0.0  \n",
       "(1910, CA)           0.0  \n",
       "\n",
       "[5 rows x 20031 columns]"
      ]
     },
     "execution_count": 253,
     "metadata": {},
     "output_type": "execute_result"
    }
   ],
   "source": [
    "fem_processed.head()"
   ]
  },
  {
   "cell_type": "code",
   "execution_count": null,
   "metadata": {
    "collapsed": true
   },
   "outputs": [],
   "source": []
  }
 ],
 "metadata": {
  "kernelspec": {
   "display_name": "Python 2",
   "language": "python",
   "name": "python2"
  },
  "language_info": {
   "codemirror_mode": {
    "name": "ipython",
    "version": 2
   },
   "file_extension": ".py",
   "mimetype": "text/x-python",
   "name": "python",
   "nbconvert_exporter": "python",
   "pygments_lexer": "ipython2",
   "version": "2.7.11"
  }
 },
 "nbformat": 4,
 "nbformat_minor": 0
}
