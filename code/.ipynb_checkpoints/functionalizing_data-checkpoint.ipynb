{
 "cells": [
  {
   "cell_type": "code",
   "execution_count": 178,
   "metadata": {
    "collapsed": true
   },
   "outputs": [],
   "source": [
    "import pandas as pd\n",
    "import matplotlib.pylab as plt\n",
    "%matplotlib inline\n",
    "import fuzzy as fy\n",
    "from collections import namedtuple\n",
    "from collections import defaultdict\n",
    "import numpy as np"
   ]
  },
  {
   "cell_type": "code",
   "execution_count": 179,
   "metadata": {
    "collapsed": true
   },
   "outputs": [],
   "source": [
    "df = pd.read_csv('StateNames.csv')"
   ]
  },
  {
   "cell_type": "code",
   "execution_count": null,
   "metadata": {
    "collapsed": true
   },
   "outputs": [],
   "source": [
    "nat = pd.read_csv('NationalNames.csv')"
   ]
  },
  {
   "cell_type": "code",
   "execution_count": 180,
   "metadata": {
    "collapsed": true
   },
   "outputs": [],
   "source": [
    "sample = df.sample(20000)"
   ]
  },
  {
   "cell_type": "code",
   "execution_count": 229,
   "metadata": {
    "collapsed": true
   },
   "outputs": [],
   "source": [
    "samp = nat.sample(20000)"
   ]
  },
  {
   "cell_type": "code",
   "execution_count": 181,
   "metadata": {
    "collapsed": true
   },
   "outputs": [],
   "source": [
    "df_decade = df[(df['Year'] > 2000)]"
   ]
  },
  {
   "cell_type": "code",
   "execution_count": 182,
   "metadata": {
    "collapsed": true
   },
   "outputs": [],
   "source": [
    "soundex = fy.Soundex(4)\n",
    "sample['Soundex'] = sample.Name.apply(soundex)\n",
    "sample['nyiis'] = sample.Name.apply(fy.nysiis)"
   ]
  },
  {
   "cell_type": "code",
   "execution_count": 230,
   "metadata": {
    "collapsed": true
   },
   "outputs": [],
   "source": [
    "samp['Soundex'] = samp.Name.apply(soundex)\n",
    "samp['nyiis'] = samp.Name.apply(fy.nysiis)"
   ]
  },
  {
   "cell_type": "code",
   "execution_count": 183,
   "metadata": {
    "collapsed": true
   },
   "outputs": [],
   "source": [
    "sample['new_name'] = sample.Name.str.lower()"
   ]
  },
  {
   "cell_type": "code",
   "execution_count": 231,
   "metadata": {
    "collapsed": true
   },
   "outputs": [],
   "source": [
    "samp['new_name'] = samp.Name.str.lower()"
   ]
  },
  {
   "cell_type": "code",
   "execution_count": 184,
   "metadata": {
    "collapsed": true
   },
   "outputs": [],
   "source": [
    "old_test = pd.read_table('old-testament.txt')\n",
    "old_test.columns = ['names']\n",
    "names_list = [name.lower() for name in old_test.names]\n",
    "cond_list = '|'.join(names_list)"
   ]
  },
  {
   "cell_type": "code",
   "execution_count": 185,
   "metadata": {
    "collapsed": true
   },
   "outputs": [],
   "source": [
    "new_col = sample.Name.str.contains(cond_list)\n",
    "sample = pd.concat([sample, new_col],axis=1)"
   ]
  },
  {
   "cell_type": "code",
   "execution_count": 186,
   "metadata": {
    "collapsed": true
   },
   "outputs": [],
   "source": [
    "col_list = sample.columns.tolist()\n",
    "col_list[9] = 'biblical'\n",
    "sample.columns = col_list"
   ]
  },
  {
   "cell_type": "code",
   "execution_count": 187,
   "metadata": {
    "collapsed": false
   },
   "outputs": [],
   "source": [
    "# sample.groupby(['Year','Name']).Count.sum()"
   ]
  },
  {
   "cell_type": "code",
   "execution_count": 188,
   "metadata": {
    "collapsed": true
   },
   "outputs": [],
   "source": [
    "sample = sample.set_index(['new_name', 'Year'])"
   ]
  },
  {
   "cell_type": "code",
   "execution_count": 232,
   "metadata": {
    "collapsed": true
   },
   "outputs": [],
   "source": [
    "samp = samp.set_index(['new_name', 'Year'])"
   ]
  },
  {
   "cell_type": "code",
   "execution_count": 189,
   "metadata": {
    "collapsed": true
   },
   "outputs": [],
   "source": [
    "dictionary = sample.to_dict(orient='index')"
   ]
  },
  {
   "cell_type": "code",
   "execution_count": 190,
   "metadata": {
    "collapsed": true
   },
   "outputs": [],
   "source": [
    "all_names = set()\n",
    "for k in dictionary:\n",
    "    all_names.add(k[0])"
   ]
  },
  {
   "cell_type": "code",
   "execution_count": 191,
   "metadata": {
    "collapsed": false
   },
   "outputs": [],
   "source": [
    "names_vals = defaultdict(int)\n",
    "\n",
    "for k in dictionary:\n",
    "    names_vals[k[0]] += dictionary[k]['Count']"
   ]
  },
  {
   "cell_type": "code",
   "execution_count": 193,
   "metadata": {
    "collapsed": false
   },
   "outputs": [],
   "source": [
    "name_group = ['fawn', 'trenton', 'aiden']"
   ]
  },
  {
   "cell_type": "code",
   "execution_count": 192,
   "metadata": {
    "collapsed": false
   },
   "outputs": [],
   "source": [
    "name_group_vals = defaultdict(int)\n",
    "\n",
    "for name in name_group:\n",
    "    for k in dictionary:\n",
    "        row_name = k[0]\n",
    "        if row_name == name:\n",
    "            name_group_vals[k[1]] += dictionary[k]['Count']"
   ]
  },
  {
   "cell_type": "code",
   "execution_count": 194,
   "metadata": {
    "collapsed": false
   },
   "outputs": [
    {
     "data": {
      "text/plain": [
       "defaultdict(int,\n",
       "            {1970: 5,\n",
       "             1985: 7,\n",
       "             1987: 6,\n",
       "             1992: 33,\n",
       "             1993: 38,\n",
       "             2000: 10,\n",
       "             2003: 94,\n",
       "             2011: 57,\n",
       "             2014: 835})"
      ]
     },
     "execution_count": 194,
     "metadata": {},
     "output_type": "execute_result"
    }
   ],
   "source": [
    "name_group_vals"
   ]
  },
  {
   "cell_type": "code",
   "execution_count": 195,
   "metadata": {
    "collapsed": false
   },
   "outputs": [],
   "source": [
    "#INPUT: A dictionary with keys = (name, year) and values of a dictionary with Counts for that \n",
    "# name and year comination; a list of names for which to sum their counts\n",
    "# OUTPUT: A dictionary with counts of the names given broken down by year (year is the key, \n",
    "#                                                                         count the value)\n",
    "\n",
    "def name_counter(values_dict, name_list):\n",
    "    output_dict = defaultdict(int)\n",
    "#     for name in name_list:\n",
    "    for k in values_dict:\n",
    "        row_name = k[0]\n",
    "        year = k[1]\n",
    "        if row_name in name_list:\n",
    "            output_dict[year] += values_dict[k]['Count']\n",
    "    return output_dict"
   ]
  },
  {
   "cell_type": "code",
   "execution_count": 196,
   "metadata": {
    "collapsed": false
   },
   "outputs": [],
   "source": [
    "###Takes a dictionary with counts of a group of names by year (year is the key)\n",
    "# and returns a plot of the accumulated sums of these names\n",
    "\n",
    "def name_plotter(input_dict):\n",
    "    years = input_dict.keys()\n",
    "    x_min = min(years)\n",
    "    x_max = max(years)\n",
    "    \n",
    "    X = []\n",
    "    Y = []\n",
    "    \n",
    "    for x, y in input_dict.iteritems():\n",
    "        X.append(x)\n",
    "        Y.append(y)\n",
    "    \n",
    "    zipped_vals = sorted(zip(X,Y))\n",
    "    sorted_x, sorted_y = zip(*zipped_vals)\n",
    "    \n",
    "    fig = plt.figure(figsize=(10,8))\n",
    "    plt.plot(sorted_x, sorted_y)\n",
    "    plt.xlabel('Year')\n",
    "    plt.ylabel('Name Count')"
   ]
  },
  {
   "cell_type": "code",
   "execution_count": 197,
   "metadata": {
    "collapsed": false
   },
   "outputs": [],
   "source": [
    "big_test = name_counter(dictionary,all_names)"
   ]
  },
  {
   "cell_type": "code",
   "execution_count": 198,
   "metadata": {
    "collapsed": false
   },
   "outputs": [
    {
     "data": {
      "image/png": "[encoded data removed]",
      "text/plain": [
       "<matplotlib.figure.Figure at 0x1150b8d50>"
      ]
     },
     "metadata": {},
     "output_type": "display_data"
    }
   ],
   "source": [
    "name_plotter(big_test)"
   ]
  },
  {
   "cell_type": "code",
   "execution_count": 199,
   "metadata": {
    "collapsed": false
   },
   "outputs": [],
   "source": [
    "benny_y = sample[sample.index.map(lambda x: x[0] == 'benny')].Count.values"
   ]
  },
  {
   "cell_type": "code",
   "execution_count": 200,
   "metadata": {
    "collapsed": false
   },
   "outputs": [],
   "source": [
    "benny_x = sample[sample.index.map(lambda x: x[0] == 'benny')].index.map(lambda x: x[1])"
   ]
  },
  {
   "cell_type": "code",
   "execution_count": 201,
   "metadata": {
    "collapsed": false
   },
   "outputs": [
    {
     "data": {
      "text/plain": [
       "array([1966, 1918, 1955, 1999, 1952, 1960, 1934])"
      ]
     },
     "execution_count": 201,
     "metadata": {},
     "output_type": "execute_result"
    }
   ],
   "source": [
    "benny_x"
   ]
  },
  {
   "cell_type": "code",
   "execution_count": 202,
   "metadata": {
    "collapsed": false
   },
   "outputs": [],
   "source": [
    "def plot_name(x,y):\n",
    "    zipped_vals = sorted(zip(x,y))\n",
    "    X,Y = zip(*zipped_vals)\n",
    "    \n",
    "    fig = plt.figure(figsize=(10,8))\n",
    "    plt.plot(X,Y)\n",
    "    plt.xlabel('Year')\n",
    "    plt.ylabel('Name Count')"
   ]
  },
  {
   "cell_type": "code",
   "execution_count": 203,
   "metadata": {
    "collapsed": false
   },
   "outputs": [
    {
     "data": {
      "image/png": "[encoded data removed]",
      "text/plain": [
       "<matplotlib.figure.Figure at 0x15d1fcc90>"
      ]
     },
     "metadata": {},
     "output_type": "display_data"
    }
   ],
   "source": [
    "plot_name(benny_x,benny_y)"
   ]
  },
  {
   "cell_type": "code",
   "execution_count": 204,
   "metadata": {
    "collapsed": false
   },
   "outputs": [
    {
     "data": {
      "text/plain": [
       "5427"
      ]
     },
     "execution_count": 204,
     "metadata": {},
     "output_type": "execute_result"
    }
   ],
   "source": [
    "names_set = set()\n",
    "for tup in sample.index.values:\n",
    "    names_set.add(tup[0])\n",
    "\n",
    "len(names_set)"
   ]
  },
  {
   "cell_type": "code",
   "execution_count": 208,
   "metadata": {
    "collapsed": false
   },
   "outputs": [],
   "source": [
    "def plot_loop(dataframe, names_list):\n",
    "    \n",
    "    fig = plt.figure(figsize=(10,8))\n",
    "    \n",
    "    for name in names_list:\n",
    "        y = dataframe[dataframe.index.map(lambda x: x[0] == name)].Count.values\n",
    "        x = dataframe[dataframe.index.map(lambda x: x[0] == name)].index.map(lambda x: x[1])\n",
    "    \n",
    "        zipped_vals = sorted(zip(x,y))\n",
    "        X,Y = zip(*zipped_vals)\n",
    "\n",
    "        plt.plot(X,Y)\n",
    "    plt.xlabel('Year')\n",
    "    plt.ylabel('Name Count')\n",
    "    plt.ylim([0,200])"
   ]
  },
  {
   "cell_type": "code",
   "execution_count": 212,
   "metadata": {
    "collapsed": true
   },
   "outputs": [],
   "source": [
    "subset = list(names_set)[0:20]"
   ]
  },
  {
   "cell_type": "code",
   "execution_count": 213,
   "metadata": {
    "collapsed": false
   },
   "outputs": [
    {
     "data": {
      "image/png": "[encoded data removed]",
      "text/plain": [
       "<matplotlib.figure.Figure at 0x11c9267d0>"
      ]
     },
     "metadata": {},
     "output_type": "display_data"
    }
   ],
   "source": [
    "plot_loop(sample, subset)"
   ]
  },
  {
   "cell_type": "code",
   "execution_count": 214,
   "metadata": {
    "collapsed": false,
    "scrolled": true
   },
   "outputs": [
    {
     "data": {
      "text/html": [
       "<div>\n",
       "<table border=\"1\" class=\"dataframe\">\n",
       "  <thead>\n",
       "    <tr style=\"text-align: right;\">\n",
       "      <th></th>\n",
       "      <th></th>\n",
       "      <th>Id</th>\n",
       "      <th>Name</th>\n",
       "      <th>Gender</th>\n",
       "      <th>State</th>\n",
       "      <th>Count</th>\n",
       "      <th>Soundex</th>\n",
       "      <th>nyiis</th>\n",
       "      <th>biblical</th>\n",
       "    </tr>\n",
       "    <tr>\n",
       "      <th>new_name</th>\n",
       "      <th>Year</th>\n",
       "      <th></th>\n",
       "      <th></th>\n",
       "      <th></th>\n",
       "      <th></th>\n",
       "      <th></th>\n",
       "      <th></th>\n",
       "      <th></th>\n",
       "      <th></th>\n",
       "    </tr>\n",
       "  </thead>\n",
       "  <tbody>\n",
       "    <tr>\n",
       "      <th>joanna</th>\n",
       "      <th>1967</th>\n",
       "      <td>1340021</td>\n",
       "      <td>JOANNA</td>\n",
       "      <td>F</td>\n",
       "      <td>HI</td>\n",
       "      <td>8</td>\n",
       "      <td>J500</td>\n",
       "      <td>JAN</td>\n",
       "      <td>False</td>\n",
       "    </tr>\n",
       "    <tr>\n",
       "      <th>xavier</th>\n",
       "      <th>2003</th>\n",
       "      <td>880500</td>\n",
       "      <td>XAVIER</td>\n",
       "      <td>M</td>\n",
       "      <td>CT</td>\n",
       "      <td>64</td>\n",
       "      <td>X160</td>\n",
       "      <td>XAVAR</td>\n",
       "      <td>False</td>\n",
       "    </tr>\n",
       "    <tr>\n",
       "      <th>debra</th>\n",
       "      <th>1969</th>\n",
       "      <td>5570892</td>\n",
       "      <td>DEBRA</td>\n",
       "      <td>F</td>\n",
       "      <td>WV</td>\n",
       "      <td>87</td>\n",
       "      <td>D160</td>\n",
       "      <td>DABR</td>\n",
       "      <td>False</td>\n",
       "    </tr>\n",
       "    <tr>\n",
       "      <th>carolyn</th>\n",
       "      <th>1935</th>\n",
       "      <td>3237637</td>\n",
       "      <td>CAROLYN</td>\n",
       "      <td>F</td>\n",
       "      <td>NE</td>\n",
       "      <td>82</td>\n",
       "      <td>C645</td>\n",
       "      <td>CARALAN</td>\n",
       "      <td>False</td>\n",
       "    </tr>\n",
       "    <tr>\n",
       "      <th>darian</th>\n",
       "      <th>2001</th>\n",
       "      <td>1046473</td>\n",
       "      <td>DARIAN</td>\n",
       "      <td>F</td>\n",
       "      <td>FL</td>\n",
       "      <td>6</td>\n",
       "      <td>D650</td>\n",
       "      <td>DARAN</td>\n",
       "      <td>False</td>\n",
       "    </tr>\n",
       "  </tbody>\n",
       "</table>\n",
       "</div>"
      ],
      "text/plain": [
       "                    Id     Name Gender State  Count Soundex    nyiis biblical\n",
       "new_name Year                                                                \n",
       "joanna   1967  1340021   JOANNA      F    HI      8    J500      JAN    False\n",
       "xavier   2003   880500   XAVIER      M    CT     64    X160    XAVAR    False\n",
       "debra    1969  5570892    DEBRA      F    WV     87    D160     DABR    False\n",
       "carolyn  1935  3237637  CAROLYN      F    NE     82    C645  CARALAN    False\n",
       "darian   2001  1046473   DARIAN      F    FL      6    D650    DARAN    False"
      ]
     },
     "execution_count": 214,
     "metadata": {},
     "output_type": "execute_result"
    }
   ],
   "source": [
    "sample.head()"
   ]
  },
  {
   "cell_type": "code",
   "execution_count": 215,
   "metadata": {
    "collapsed": true
   },
   "outputs": [],
   "source": [
    "sample['syl_1'] = sample.Soundex.str[0]\n",
    "sample['syl_2'] = sample.Soundex.str[1]\n",
    "sample['syl_3'] = sample.Soundex.str[2]\n",
    "sample['syl_4'] = sample.Soundex.str[3]"
   ]
  },
  {
   "cell_type": "code",
   "execution_count": 221,
   "metadata": {
    "collapsed": false
   },
   "outputs": [],
   "source": [
    "sample['sound_strip'] = sample.Soundex.map(lambda x: x.strip('0'))"
   ]
  },
  {
   "cell_type": "code",
   "execution_count": 225,
   "metadata": {
    "collapsed": false
   },
   "outputs": [],
   "source": [
    "sample['first_syl'] = sample.sound_strip.str[0]\n",
    "sample['last_syl'] = sample.sound_strip.str[-1]"
   ]
  },
  {
   "cell_type": "code",
   "execution_count": 233,
   "metadata": {
    "collapsed": false
   },
   "outputs": [],
   "source": [
    "samp['sound_strip'] = samp.Soundex.map(lambda x: x.strip('0'))\n",
    "samp['first_syl'] = samp.sound_strip.str[0]\n",
    "samp['last_syl'] = samp.sound_strip.str[-1]"
   ]
  },
  {
   "cell_type": "code",
   "execution_count": 234,
   "metadata": {
    "collapsed": false
   },
   "outputs": [
    {
     "data": {
      "text/html": [
       "<div>\n",
       "<table border=\"1\" class=\"dataframe\">\n",
       "  <thead>\n",
       "    <tr style=\"text-align: right;\">\n",
       "      <th></th>\n",
       "      <th></th>\n",
       "      <th>Id</th>\n",
       "      <th>Name</th>\n",
       "      <th>Gender</th>\n",
       "      <th>Count</th>\n",
       "      <th>Soundex</th>\n",
       "      <th>nyiis</th>\n",
       "      <th>sound_strip</th>\n",
       "      <th>first_syl</th>\n",
       "      <th>last_syl</th>\n",
       "    </tr>\n",
       "    <tr>\n",
       "      <th>new_name</th>\n",
       "      <th>Year</th>\n",
       "      <th></th>\n",
       "      <th></th>\n",
       "      <th></th>\n",
       "      <th></th>\n",
       "      <th></th>\n",
       "      <th></th>\n",
       "      <th></th>\n",
       "      <th></th>\n",
       "      <th></th>\n",
       "    </tr>\n",
       "  </thead>\n",
       "  <tbody>\n",
       "    <tr>\n",
       "      <th>auther</th>\n",
       "      <th>1955</th>\n",
       "      <td>523652</td>\n",
       "      <td>AUTHER</td>\n",
       "      <td>M</td>\n",
       "      <td>19</td>\n",
       "      <td>A360</td>\n",
       "      <td>ATAR</td>\n",
       "      <td>A36</td>\n",
       "      <td>A</td>\n",
       "      <td>6</td>\n",
       "    </tr>\n",
       "    <tr>\n",
       "      <th>zayra</th>\n",
       "      <th>1996</th>\n",
       "      <td>1227451</td>\n",
       "      <td>ZAYRA</td>\n",
       "      <td>F</td>\n",
       "      <td>22</td>\n",
       "      <td>Z600</td>\n",
       "      <td>ZYR</td>\n",
       "      <td>Z6</td>\n",
       "      <td>Z</td>\n",
       "      <td>6</td>\n",
       "    </tr>\n",
       "    <tr>\n",
       "      <th>eric</th>\n",
       "      <th>1893</th>\n",
       "      <td>33221</td>\n",
       "      <td>ERIC</td>\n",
       "      <td>M</td>\n",
       "      <td>13</td>\n",
       "      <td>E620</td>\n",
       "      <td>ERAC</td>\n",
       "      <td>E62</td>\n",
       "      <td>E</td>\n",
       "      <td>2</td>\n",
       "    </tr>\n",
       "    <tr>\n",
       "      <th>dae</th>\n",
       "      <th>1977</th>\n",
       "      <td>818247</td>\n",
       "      <td>DAE</td>\n",
       "      <td>F</td>\n",
       "      <td>5</td>\n",
       "      <td>D000</td>\n",
       "      <td>D</td>\n",
       "      <td>D</td>\n",
       "      <td>D</td>\n",
       "      <td>D</td>\n",
       "    </tr>\n",
       "    <tr>\n",
       "      <th>annisten</th>\n",
       "      <th>2009</th>\n",
       "      <td>1634449</td>\n",
       "      <td>ANNISTen</td>\n",
       "      <td>F</td>\n",
       "      <td>9</td>\n",
       "      <td>A523</td>\n",
       "      <td>ANASTAN</td>\n",
       "      <td>A523</td>\n",
       "      <td>A</td>\n",
       "      <td>3</td>\n",
       "    </tr>\n",
       "  </tbody>\n",
       "</table>\n",
       "</div>"
      ],
      "text/plain": [
       "                    Id      Name Gender  Count Soundex    nyiis sound_strip  \\\n",
       "new_name Year                                                                 \n",
       "auther   1955   523652    AUTHER      M     19    A360     ATAR         A36   \n",
       "zayra    1996  1227451     ZAYRA      F     22    Z600      ZYR          Z6   \n",
       "eric     1893    33221      ERIC      M     13    E620     ERAC         E62   \n",
       "dae      1977   818247       DAE      F      5    D000        D           D   \n",
       "annisten 2009  1634449  ANNISTen      F      9    A523  ANASTAN        A523   \n",
       "\n",
       "              first_syl last_syl  \n",
       "new_name Year                     \n",
       "auther   1955         A        6  \n",
       "zayra    1996         Z        6  \n",
       "eric     1893         E        2  \n",
       "dae      1977         D        D  \n",
       "annisten 2009         A        3  "
      ]
     },
     "execution_count": 234,
     "metadata": {},
     "output_type": "execute_result"
    }
   ],
   "source": [
    "samp.head()"
   ]
  },
  {
   "cell_type": "code",
   "execution_count": null,
   "metadata": {
    "collapsed": true
   },
   "outputs": [],
   "source": []
  }
 ],
 "metadata": {
  "kernelspec": {
   "display_name": "Python 2",
   "language": "python",
   "name": "python2"
  },
  "language_info": {
   "codemirror_mode": {
    "name": "ipython",
    "version": 2
   },
   "file_extension": ".py",
   "mimetype": "text/x-python",
   "name": "python",
   "nbconvert_exporter": "python",
   "pygments_lexer": "ipython2",
   "version": "2.7.11"
  }
 },
 "nbformat": 4,
 "nbformat_minor": 0
}
