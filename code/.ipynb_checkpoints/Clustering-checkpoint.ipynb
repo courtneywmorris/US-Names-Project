{
 "cells": [
  {
   "cell_type": "code",
   "execution_count": 237,
   "metadata": {
    "collapsed": false
   },
   "outputs": [],
   "source": [
    "import pandas as pd\n",
    "import matplotlib.pylab as plt\n",
    "%matplotlib inline\n",
    "import fuzzy as fy\n",
    "from slice import Slice\n",
    "from collections import namedtuple\n",
    "from hyphen import Hyphenator\n",
    "from hyphen.dictools import *\n",
    "from sklearn.cluster import KMeans\n",
    "from kmodes.kmodes import KModes\n",
    "import numpy as np\n",
    "from numpy.linalg import svd\n",
    "from sklearn.decomposition import NMF\n",
    "from numpy import array, matrix, linalg"
   ]
  },
  {
   "cell_type": "code",
   "execution_count": 141,
   "metadata": {
    "collapsed": true
   },
   "outputs": [],
   "source": [
    "df = pd.read_csv('StateNames.csv')"
   ]
  },
  {
   "cell_type": "code",
   "execution_count": 5,
   "metadata": {
    "collapsed": false
   },
   "outputs": [],
   "source": [
    "#This definition of popularity (75th percentile of the entire dataset)\n",
    "#could be more refined--could be stated as the 75th percentile\n",
    "#relative to that year's statistics\n",
    "popular = df[(df.Count >= 34)]"
   ]
  },
  {
   "cell_type": "code",
   "execution_count": 6,
   "metadata": {
    "collapsed": false
   },
   "outputs": [],
   "source": [
    "pops = popular.sample(100000)"
   ]
  },
  {
   "cell_type": "code",
   "execution_count": 14,
   "metadata": {
    "collapsed": true
   },
   "outputs": [],
   "source": [
    "def clean_data(df):\n",
    "    soundex = fy.Soundex(4)\n",
    "    \n",
    "    df['Soundex'] = df.Name.apply(soundex)\n",
    "#     df['nyiis'] = df.Name.apply(fy.nysiis)\n",
    "    df['new_name'] = df.Name.str.lower()\n",
    "    \n",
    "    df['sound_strip'] = df.Soundex.map(lambda x: x.strip('0'))\n",
    "    df['first_syl'] = df.sound_strip.str[0]\n",
    "    df['last_syl'] = df.sound_strip.str[-1]\n",
    "\n",
    "    #Read in biblical names, create biblical variable\n",
    "#     old_test = pd.read_table('old-testament.txt')\n",
    "#     old_test.columns = ['biblical']\n",
    "#     names_list = [name.lower() for name in old_test.biblical]\n",
    "#     cond_list = '|'.join(names_list)\n",
    "#     df['biblical'] = df.new_name.str.contains(cond_list)\n",
    "    \n",
    "    \n",
    "    df = df.drop(['Name', 'sound_strip', 'Soundex', 'Id'], axis=1)\n",
    "    \n",
    "    \n",
    "    return df"
   ]
  },
  {
   "cell_type": "code",
   "execution_count": 15,
   "metadata": {
    "collapsed": false
   },
   "outputs": [],
   "source": [
    "test = clean_data(pops)"
   ]
  },
  {
   "cell_type": "code",
   "execution_count": 16,
   "metadata": {
    "collapsed": false
   },
   "outputs": [
    {
     "data": {
      "text/html": [
       "<div>\n",
       "<table border=\"1\" class=\"dataframe\">\n",
       "  <thead>\n",
       "    <tr style=\"text-align: right;\">\n",
       "      <th></th>\n",
       "      <th>Id</th>\n",
       "      <th>Year</th>\n",
       "      <th>Gender</th>\n",
       "      <th>State</th>\n",
       "      <th>Count</th>\n",
       "      <th>nyiis</th>\n",
       "      <th>new_name</th>\n",
       "      <th>first_syl</th>\n",
       "      <th>last_syl</th>\n",
       "    </tr>\n",
       "  </thead>\n",
       "  <tbody>\n",
       "    <tr>\n",
       "      <th>4816735</th>\n",
       "      <td>4816736</td>\n",
       "      <td>1967</td>\n",
       "      <td>F</td>\n",
       "      <td>TX</td>\n",
       "      <td>111</td>\n",
       "      <td>RASALAND</td>\n",
       "      <td>rosalinda</td>\n",
       "      <td>R</td>\n",
       "      <td>5</td>\n",
       "    </tr>\n",
       "    <tr>\n",
       "      <th>4622567</th>\n",
       "      <td>4622568</td>\n",
       "      <td>1910</td>\n",
       "      <td>F</td>\n",
       "      <td>TN</td>\n",
       "      <td>83</td>\n",
       "      <td>FRANC</td>\n",
       "      <td>frances</td>\n",
       "      <td>F</td>\n",
       "      <td>2</td>\n",
       "    </tr>\n",
       "    <tr>\n",
       "      <th>1111142</th>\n",
       "      <td>1111143</td>\n",
       "      <td>1982</td>\n",
       "      <td>M</td>\n",
       "      <td>FL</td>\n",
       "      <td>40</td>\n",
       "      <td>HAD</td>\n",
       "      <td>howard</td>\n",
       "      <td>H</td>\n",
       "      <td>3</td>\n",
       "    </tr>\n",
       "    <tr>\n",
       "      <th>5330329</th>\n",
       "      <td>5330330</td>\n",
       "      <td>1934</td>\n",
       "      <td>F</td>\n",
       "      <td>WA</td>\n",
       "      <td>100</td>\n",
       "      <td>MARLAN</td>\n",
       "      <td>marlene</td>\n",
       "      <td>M</td>\n",
       "      <td>5</td>\n",
       "    </tr>\n",
       "    <tr>\n",
       "      <th>1695765</th>\n",
       "      <td>1695766</td>\n",
       "      <td>1985</td>\n",
       "      <td>M</td>\n",
       "      <td>IL</td>\n",
       "      <td>97</td>\n",
       "      <td>JANATAN</td>\n",
       "      <td>johnathan</td>\n",
       "      <td>J</td>\n",
       "      <td>5</td>\n",
       "    </tr>\n",
       "  </tbody>\n",
       "</table>\n",
       "</div>"
      ],
      "text/plain": [
       "              Id  Year Gender State  Count     nyiis   new_name first_syl  \\\n",
       "4816735  4816736  1967      F    TX    111  RASALAND  rosalinda         R   \n",
       "4622567  4622568  1910      F    TN     83     FRANC    frances         F   \n",
       "1111142  1111143  1982      M    FL     40       HAD     howard         H   \n",
       "5330329  5330330  1934      F    WA    100    MARLAN    marlene         M   \n",
       "1695765  1695766  1985      M    IL     97   JANATAN  johnathan         J   \n",
       "\n",
       "        last_syl  \n",
       "4816735        5  \n",
       "4622567        2  \n",
       "1111142        3  \n",
       "5330329        5  \n",
       "1695765        5  "
      ]
     },
     "execution_count": 16,
     "metadata": {},
     "output_type": "execute_result"
    }
   ],
   "source": [
    "test.head()"
   ]
  },
  {
   "cell_type": "code",
   "execution_count": 19,
   "metadata": {
    "collapsed": false
   },
   "outputs": [],
   "source": [
    "# en_US = Hyphenator('en_US')"
   ]
  },
  {
   "cell_type": "code",
   "execution_count": 21,
   "metadata": {
    "collapsed": false
   },
   "outputs": [],
   "source": [
    "test = test.drop('nyiis', axis=1)"
   ]
  },
  {
   "cell_type": "code",
   "execution_count": 24,
   "metadata": {
    "collapsed": false
   },
   "outputs": [],
   "source": [
    "lat_lon = pd.read_csv('state_latlon.csv')"
   ]
  },
  {
   "cell_type": "code",
   "execution_count": 29,
   "metadata": {
    "collapsed": false
   },
   "outputs": [],
   "source": [
    "test = pd.merge(test,lat_lon, how='left', left_on = 'State', right_on='state')"
   ]
  },
  {
   "cell_type": "code",
   "execution_count": 32,
   "metadata": {
    "collapsed": false
   },
   "outputs": [],
   "source": [
    "test = test.drop('state', axis=1)"
   ]
  },
  {
   "cell_type": "code",
   "execution_count": 35,
   "metadata": {
    "collapsed": true
   },
   "outputs": [],
   "source": [
    "replicate = test[:10]"
   ]
  },
  {
   "cell_type": "code",
   "execution_count": 61,
   "metadata": {
    "collapsed": false
   },
   "outputs": [],
   "source": [
    "# for row in replicate.iterrows():"
   ]
  },
  {
   "cell_type": "code",
   "execution_count": 52,
   "metadata": {
    "collapsed": false
   },
   "outputs": [],
   "source": [
    "test = test.drop('Id', axis=1)"
   ]
  },
  {
   "cell_type": "code",
   "execution_count": 63,
   "metadata": {
    "collapsed": false
   },
   "outputs": [],
   "source": [
    "test = test.drop('Count', axis=1)"
   ]
  },
  {
   "cell_type": "code",
   "execution_count": 64,
   "metadata": {
    "collapsed": false
   },
   "outputs": [
    {
     "data": {
      "text/plain": [
       "KModes(init='Cao', max_iter=100, n_clusters=8, n_init=1, verbose=0)"
      ]
     },
     "execution_count": 64,
     "metadata": {},
     "output_type": "execute_result"
    }
   ],
   "source": [
    "km = KModes()\n",
    "km.fit(test)"
   ]
  },
  {
   "cell_type": "code",
   "execution_count": 69,
   "metadata": {
    "collapsed": false
   },
   "outputs": [],
   "source": [
    "top_centroids = km.cluster_centroids_.argsort()[:,-1:-11:-1]"
   ]
  },
  {
   "cell_type": "code",
   "execution_count": 138,
   "metadata": {
    "collapsed": false
   },
   "outputs": [],
   "source": [
    "# for num, centroid in enumerate(top_centroids):\n",
    "#     print \"%d: %s\" % (num, \", \".join(test.columns[i] for i in centroid))"
   ]
  },
  {
   "cell_type": "code",
   "execution_count": 110,
   "metadata": {
    "collapsed": false
   },
   "outputs": [],
   "source": [
    "centroids = km.cluster_centroids_"
   ]
  },
  {
   "cell_type": "code",
   "execution_count": 103,
   "metadata": {
    "collapsed": false
   },
   "outputs": [],
   "source": [
    "# tuples = zip(km.enc_map_[0].keys(), km.enc_map_[0].values())\n",
    "encoded_vals = km.enc_map_"
   ]
  },
  {
   "cell_type": "code",
   "execution_count": 121,
   "metadata": {
    "collapsed": false
   },
   "outputs": [
    {
     "data": {
      "text/plain": [
       "array([[99, 0, 4, 1569, 9, 4, 14, 4],\n",
       "       [97, 1, 43, 1392, 0, 1, 2, 16],\n",
       "       [104, 1, 34, 3054, 12, 4, 35, 43],\n",
       "       [98, 0, 14, 2146, 12, 1, 28, 26],\n",
       "       [91, 0, 38, 206, 0, 4, 30, 39],\n",
       "       [94, 0, 35, 2109, 12, 4, 29, 33],\n",
       "       [98, 0, 9, 531, 2, 4, 1, 34],\n",
       "       [92, 0, 22, 2686, 18, 4, 38, 31]], dtype=object)"
      ]
     },
     "execution_count": 121,
     "metadata": {},
     "output_type": "execute_result"
    }
   ],
   "source": [
    "centroids"
   ]
  },
  {
   "cell_type": "code",
   "execution_count": 111,
   "metadata": {
    "collapsed": false
   },
   "outputs": [],
   "source": [
    "def inverse(encoded_list):\n",
    "    inv_list = []\n",
    "\n",
    "    for i in encoded_list:\n",
    "        inv_list.append({v: k for k, v in i.items()})\n",
    "    return inv_list\n"
   ]
  },
  {
   "cell_type": "code",
   "execution_count": 116,
   "metadata": {
    "collapsed": true
   },
   "outputs": [],
   "source": [
    "decoded_vals = inverse(encoded_vals)"
   ]
  },
  {
   "cell_type": "code",
   "execution_count": 134,
   "metadata": {
    "collapsed": false
   },
   "outputs": [],
   "source": [
    "def return_attributes(centroids, decoded_vals):\n",
    "    centroid_attributes = []\n",
    "    for i, row in enumerate(centroids.T):\n",
    "        row_attributes = []\n",
    "        for val in row:\n",
    "            row_attributes.append(decoded_vals[i][val])\n",
    "        centroid_attributes.append(row_attributes)\n",
    "    return np.array(centroid_attributes).T"
   ]
  },
  {
   "cell_type": "code",
   "execution_count": 135,
   "metadata": {
    "collapsed": false
   },
   "outputs": [
    {
     "data": {
      "text/plain": [
       "array([['2009', 'F', 'CA', 'joseph', 'J', '5', '36.17', '-119.7462'],\n",
       "       ['2007', 'M', 'TX', 'james', 'A', '2', '31.106', '-97.6475'],\n",
       "       ['2014', 'M', 'NY', 'william', 'M', '5', '42.1497', '-74.9384'],\n",
       "       ['2008', 'F', 'IL', 'mary', 'M', '2', '40.3363', '-89.0022'],\n",
       "       ['2001', 'F', 'PA', 'anna', 'A', '5', '40.5773', '-77.264'],\n",
       "       ['2004', 'F', 'OH', 'marilyn', 'M', '5', '40.3736', '-82.7755'],\n",
       "       ['2008', 'F', 'FL', 'catherine', 'C', '5', '27.8333', '-81.717'],\n",
       "       ['2002', 'F', 'MI', 'sarah', 'S', '5', '43.3504', '-84.5603']], \n",
       "      dtype='|S21')"
      ]
     },
     "execution_count": 135,
     "metadata": {},
     "output_type": "execute_result"
    }
   ],
   "source": [
    "return_attributes(centroids, decoded_vals)"
   ]
  },
  {
   "cell_type": "code",
   "execution_count": 137,
   "metadata": {
    "collapsed": false
   },
   "outputs": [
    {
     "data": {
      "text/plain": [
       "<pandas.core.groupby.DataFrameGroupBy object at 0x13692b4d0>"
      ]
     },
     "execution_count": 137,
     "metadata": {},
     "output_type": "execute_result"
    }
   ],
   "source": [
    "test.groupby(['Year','new_name'])  "
   ]
  },
  {
   "cell_type": "code",
   "execution_count": null,
   "metadata": {
    "collapsed": true
   },
   "outputs": [],
   "source": [
    "def pivot_data(df):"
   ]
  },
  {
   "cell_type": "code",
   "execution_count": 143,
   "metadata": {
    "collapsed": false
   },
   "outputs": [],
   "source": [
    "df['new_name'] = df.Name.str.lower()"
   ]
  },
  {
   "cell_type": "code",
   "execution_count": 147,
   "metadata": {
    "collapsed": false
   },
   "outputs": [],
   "source": [
    "df = df.set_index(['Year','State'])"
   ]
  },
  {
   "cell_type": "code",
   "execution_count": 150,
   "metadata": {
    "collapsed": false
   },
   "outputs": [],
   "source": [
    "#df.drop(['Year', 'State'])\n",
    "df['name_gender'] = zip(df.new_name, df.Gender)"
   ]
  },
  {
   "cell_type": "code",
   "execution_count": 151,
   "metadata": {
    "collapsed": false
   },
   "outputs": [
    {
     "data": {
      "text/html": [
       "<div>\n",
       "<table border=\"1\" class=\"dataframe\">\n",
       "  <thead>\n",
       "    <tr style=\"text-align: right;\">\n",
       "      <th></th>\n",
       "      <th></th>\n",
       "      <th>Id</th>\n",
       "      <th>Name</th>\n",
       "      <th>Gender</th>\n",
       "      <th>Count</th>\n",
       "      <th>new_name</th>\n",
       "      <th>name_gender</th>\n",
       "    </tr>\n",
       "    <tr>\n",
       "      <th>Year</th>\n",
       "      <th>State</th>\n",
       "      <th></th>\n",
       "      <th></th>\n",
       "      <th></th>\n",
       "      <th></th>\n",
       "      <th></th>\n",
       "      <th></th>\n",
       "    </tr>\n",
       "  </thead>\n",
       "  <tbody>\n",
       "    <tr>\n",
       "      <th rowspan=\"5\" valign=\"top\">1910</th>\n",
       "      <th>AK</th>\n",
       "      <td>1</td>\n",
       "      <td>Mary</td>\n",
       "      <td>F</td>\n",
       "      <td>14</td>\n",
       "      <td>mary</td>\n",
       "      <td>(mary, F)</td>\n",
       "    </tr>\n",
       "    <tr>\n",
       "      <th>AK</th>\n",
       "      <td>2</td>\n",
       "      <td>Annie</td>\n",
       "      <td>F</td>\n",
       "      <td>12</td>\n",
       "      <td>annie</td>\n",
       "      <td>(annie, F)</td>\n",
       "    </tr>\n",
       "    <tr>\n",
       "      <th>AK</th>\n",
       "      <td>3</td>\n",
       "      <td>Anna</td>\n",
       "      <td>F</td>\n",
       "      <td>10</td>\n",
       "      <td>anna</td>\n",
       "      <td>(anna, F)</td>\n",
       "    </tr>\n",
       "    <tr>\n",
       "      <th>AK</th>\n",
       "      <td>4</td>\n",
       "      <td>Margaret</td>\n",
       "      <td>F</td>\n",
       "      <td>8</td>\n",
       "      <td>margaret</td>\n",
       "      <td>(margaret, F)</td>\n",
       "    </tr>\n",
       "    <tr>\n",
       "      <th>AK</th>\n",
       "      <td>5</td>\n",
       "      <td>Helen</td>\n",
       "      <td>F</td>\n",
       "      <td>7</td>\n",
       "      <td>helen</td>\n",
       "      <td>(helen, F)</td>\n",
       "    </tr>\n",
       "  </tbody>\n",
       "</table>\n",
       "</div>"
      ],
      "text/plain": [
       "            Id      Name Gender  Count  new_name    name_gender\n",
       "Year State                                                     \n",
       "1910 AK      1      Mary      F     14      mary      (mary, F)\n",
       "     AK      2     Annie      F     12     annie     (annie, F)\n",
       "     AK      3      Anna      F     10      anna      (anna, F)\n",
       "     AK      4  Margaret      F      8  margaret  (margaret, F)\n",
       "     AK      5     Helen      F      7     helen     (helen, F)"
      ]
     },
     "execution_count": 151,
     "metadata": {},
     "output_type": "execute_result"
    }
   ],
   "source": [
    "df = df.drop(['Year', 'State', 'new_name'])"
   ]
  },
  {
   "cell_type": "code",
   "execution_count": 153,
   "metadata": {
    "collapsed": false
   },
   "outputs": [],
   "source": [
    "sample = df.sample(100000)"
   ]
  },
  {
   "cell_type": "code",
   "execution_count": 191,
   "metadata": {
    "collapsed": false
   },
   "outputs": [],
   "source": [
    "date_state_series = sample.groupby(sample.index).sum()['Count']"
   ]
  },
  {
   "cell_type": "code",
   "execution_count": 173,
   "metadata": {
    "collapsed": true
   },
   "outputs": [],
   "source": [
    "total_dict = date_state_series.to_dict()"
   ]
  },
  {
   "cell_type": "code",
   "execution_count": 175,
   "metadata": {
    "collapsed": true
   },
   "outputs": [],
   "source": [
    "sample['tuple_index'] = sample.index.values"
   ]
  },
  {
   "cell_type": "code",
   "execution_count": 205,
   "metadata": {
    "collapsed": false
   },
   "outputs": [],
   "source": [
    "sample = sample.join(date_state_series, how='left', on='tuple_index', lsuffix='name_count')"
   ]
  },
  {
   "cell_type": "code",
   "execution_count": 206,
   "metadata": {
    "collapsed": false
   },
   "outputs": [],
   "source": [
    "sample['count_norm'] = sample.Countname_count / sample.Count"
   ]
  },
  {
   "cell_type": "code",
   "execution_count": 207,
   "metadata": {
    "collapsed": false
   },
   "outputs": [
    {
     "data": {
      "text/html": [
       "<div>\n",
       "<table border=\"1\" class=\"dataframe\">\n",
       "  <thead>\n",
       "    <tr style=\"text-align: right;\">\n",
       "      <th></th>\n",
       "      <th></th>\n",
       "      <th>Id</th>\n",
       "      <th>Name</th>\n",
       "      <th>Gender</th>\n",
       "      <th>Countname_count</th>\n",
       "      <th>new_name</th>\n",
       "      <th>name_gender</th>\n",
       "      <th>tuple_index</th>\n",
       "      <th>Count</th>\n",
       "      <th>count_norm</th>\n",
       "    </tr>\n",
       "    <tr>\n",
       "      <th>Year</th>\n",
       "      <th>State</th>\n",
       "      <th></th>\n",
       "      <th></th>\n",
       "      <th></th>\n",
       "      <th></th>\n",
       "      <th></th>\n",
       "      <th></th>\n",
       "      <th></th>\n",
       "      <th></th>\n",
       "      <th></th>\n",
       "    </tr>\n",
       "  </thead>\n",
       "  <tbody>\n",
       "    <tr>\n",
       "      <th>2000</th>\n",
       "      <th>AR</th>\n",
       "      <td>195920</td>\n",
       "      <td>Caroline</td>\n",
       "      <td>F</td>\n",
       "      <td>44</td>\n",
       "      <td>caroline</td>\n",
       "      <td>(caroline, F)</td>\n",
       "      <td>(2000, AR)</td>\n",
       "      <td>395</td>\n",
       "      <td>0.111392</td>\n",
       "    </tr>\n",
       "    <tr>\n",
       "      <th>1954</th>\n",
       "      <th>NJ</th>\n",
       "      <td>3430033</td>\n",
       "      <td>Gabriel</td>\n",
       "      <td>M</td>\n",
       "      <td>6</td>\n",
       "      <td>gabriel</td>\n",
       "      <td>(gabriel, M)</td>\n",
       "      <td>(1954, NJ)</td>\n",
       "      <td>1784</td>\n",
       "      <td>0.003363</td>\n",
       "    </tr>\n",
       "    <tr>\n",
       "      <th>1973</th>\n",
       "      <th>MI</th>\n",
       "      <td>2598484</td>\n",
       "      <td>Brion</td>\n",
       "      <td>M</td>\n",
       "      <td>6</td>\n",
       "      <td>brion</td>\n",
       "      <td>(brion, M)</td>\n",
       "      <td>(1973, MI)</td>\n",
       "      <td>1158</td>\n",
       "      <td>0.005181</td>\n",
       "    </tr>\n",
       "    <tr>\n",
       "      <th>2001</th>\n",
       "      <th>TX</th>\n",
       "      <td>4890503</td>\n",
       "      <td>Lexia</td>\n",
       "      <td>F</td>\n",
       "      <td>8</td>\n",
       "      <td>lexia</td>\n",
       "      <td>(lexia, F)</td>\n",
       "      <td>(2001, TX)</td>\n",
       "      <td>4192</td>\n",
       "      <td>0.001908</td>\n",
       "    </tr>\n",
       "    <tr>\n",
       "      <th>2003</th>\n",
       "      <th>WA</th>\n",
       "      <td>5427310</td>\n",
       "      <td>Siddharth</td>\n",
       "      <td>M</td>\n",
       "      <td>5</td>\n",
       "      <td>siddharth</td>\n",
       "      <td>(siddharth, M)</td>\n",
       "      <td>(2003, WA)</td>\n",
       "      <td>733</td>\n",
       "      <td>0.006821</td>\n",
       "    </tr>\n",
       "  </tbody>\n",
       "</table>\n",
       "</div>"
      ],
      "text/plain": [
       "                 Id       Name Gender  Countname_count   new_name  \\\n",
       "Year State                                                          \n",
       "2000 AR      195920   Caroline      F               44   caroline   \n",
       "1954 NJ     3430033    Gabriel      M                6    gabriel   \n",
       "1973 MI     2598484      Brion      M                6      brion   \n",
       "2001 TX     4890503      Lexia      F                8      lexia   \n",
       "2003 WA     5427310  Siddharth      M                5  siddharth   \n",
       "\n",
       "               name_gender tuple_index  Count  count_norm  \n",
       "Year State                                                 \n",
       "2000 AR      (caroline, F)  (2000, AR)    395    0.111392  \n",
       "1954 NJ       (gabriel, M)  (1954, NJ)   1784    0.003363  \n",
       "1973 MI         (brion, M)  (1973, MI)   1158    0.005181  \n",
       "2001 TX         (lexia, F)  (2001, TX)   4192    0.001908  \n",
       "2003 WA     (siddharth, M)  (2003, WA)    733    0.006821  "
      ]
     },
     "execution_count": 207,
     "metadata": {},
     "output_type": "execute_result"
    }
   ],
   "source": []
  },
  {
   "cell_type": "code",
   "execution_count": 208,
   "metadata": {
    "collapsed": false
   },
   "outputs": [],
   "source": [
    "pivot = pd.pivot_table(sample, values='count_norm',index=sample.index, columns=sample.name_gender)"
   ]
  },
  {
   "cell_type": "code",
   "execution_count": 209,
   "metadata": {
    "collapsed": false
   },
   "outputs": [
    {
     "data": {
      "text/plain": [
       "Index([(1910, u'AL'), (1910, u'AR'), (1910, u'AZ'), (1910, u'CA'),\n",
       "       (1910, u'CO'), (1910, u'CT'), (1910, u'DC'), (1910, u'FL'),\n",
       "       (1910, u'GA'), (1910, u'HI'),\n",
       "       ...\n",
       "       (2014, u'SD'), (2014, u'TN'), (2014, u'TX'), (2014, u'UT'),\n",
       "       (2014, u'VA'), (2014, u'VT'), (2014, u'WA'), (2014, u'WI'),\n",
       "       (2014, u'WV'), (2014, u'WY')],\n",
       "      dtype='object', length=5317)"
      ]
     },
     "execution_count": 209,
     "metadata": {},
     "output_type": "execute_result"
    }
   ],
   "source": []
  },
  {
   "cell_type": "code",
   "execution_count": 210,
   "metadata": {
    "collapsed": false
   },
   "outputs": [
    {
     "name": "stdout",
     "output_type": "stream",
     "text": [
      "<class 'pandas.core.frame.DataFrame'>\n",
      "Index: 5317 entries, (1910, AL) to (2014, WY)\n",
      "Columns: 10991 entries, (aaden, M) to (zyriah, F)\n",
      "dtypes: float64(10991)\n",
      "memory usage: 445.9+ MB\n"
     ]
    }
   ],
   "source": [
    "pivot.info()"
   ]
  },
  {
   "cell_type": "code",
   "execution_count": 212,
   "metadata": {
    "collapsed": false
   },
   "outputs": [],
   "source": [
    "#Pivoted data with (names, sex) as features and (year, state) as the index\n",
    "pivot = pivot.fillna(0)"
   ]
  },
  {
   "cell_type": "code",
   "execution_count": 214,
   "metadata": {
    "collapsed": true
   },
   "outputs": [],
   "source": [
    "U, sigma, VT = svd(pivot)"
   ]
  },
  {
   "cell_type": "code",
   "execution_count": 215,
   "metadata": {
    "collapsed": false
   },
   "outputs": [
    {
     "data": {
      "text/plain": [
       "(5317, 5317)"
      ]
     },
     "execution_count": 215,
     "metadata": {},
     "output_type": "execute_result"
    }
   ],
   "source": [
    "U.shape"
   ]
  },
  {
   "cell_type": "code",
   "execution_count": 216,
   "metadata": {
    "collapsed": false
   },
   "outputs": [
    {
     "data": {
      "text/plain": [
       "(10991, 10991)"
      ]
     },
     "execution_count": 216,
     "metadata": {},
     "output_type": "execute_result"
    }
   ],
   "source": [
    "VT.shape"
   ]
  },
  {
   "cell_type": "code",
   "execution_count": 218,
   "metadata": {
    "collapsed": false
   },
   "outputs": [],
   "source": [
    "year_state = pivot.index.values"
   ]
  },
  {
   "cell_type": "code",
   "execution_count": 219,
   "metadata": {
    "collapsed": true
   },
   "outputs": [],
   "source": [
    "names = pivot.columns"
   ]
  },
  {
   "cell_type": "code",
   "execution_count": 222,
   "metadata": {
    "collapsed": false
   },
   "outputs": [],
   "source": [
    "U = pd.DataFrame(U, index=year_state)"
   ]
  },
  {
   "cell_type": "code",
   "execution_count": 223,
   "metadata": {
    "collapsed": true
   },
   "outputs": [],
   "source": [
    "VT = pd.DataFrame(VT, columns=names)"
   ]
  },
  {
   "cell_type": "code",
   "execution_count": 254,
   "metadata": {
    "collapsed": false
   },
   "outputs": [],
   "source": [
    "# U.iloc[:,:2]\n",
    "# sigma[:20]\n",
    "# VT.iloc[:10,:]"
   ]
  },
  {
   "cell_type": "code",
   "execution_count": 263,
   "metadata": {
    "collapsed": true
   },
   "outputs": [],
   "source": [
    "nmf = NMF(n_components=10)\n",
    "W_sklearn = nmf.fit_transform(pivot)\n",
    "H_sklearn = nmf.components_"
   ]
  },
  {
   "cell_type": "code",
   "execution_count": 234,
   "metadata": {
    "collapsed": true
   },
   "outputs": [],
   "source": [
    "def reconst_mse(target, left, right):\n",
    "    return (array(target - left.dot(right))**2).mean()\n",
    "\n",
    "def describe_nmf_results(document_term_mat, W, H, n_top_words = 15):\n",
    "    print(\"Reconstruction error: %f\") %(reconst_mse(document_term_mat, W, H))\n",
    "    for topic_num, topic in enumerate(H):\n",
    "        print(\"Topic %d:\" % topic_num)\n",
    "        print(\" \".join([feature_words[i] \\\n",
    "                for i in topic.argsort()[:-n_top_words - 1:-1]]))\n",
    "    return"
   ]
  },
  {
   "cell_type": "code",
   "execution_count": 241,
   "metadata": {
    "collapsed": false
   },
   "outputs": [],
   "source": [
    "# describe_nmf_results(pivot, W_sklearn, H_sklearn)"
   ]
  },
  {
   "cell_type": "markdown",
   "metadata": {},
   "source": [
    "![image](nmf_image.png)"
   ]
  },
  {
   "cell_type": "code",
   "execution_count": 243,
   "metadata": {
    "collapsed": true
   },
   "outputs": [],
   "source": [
    "#I've structured the features and rows differently than we did in the sprint\n",
    "# The names are the features of my original matrix \n",
    "features = pivot.columns"
   ]
  },
  {
   "cell_type": "code",
   "execution_count": 245,
   "metadata": {
    "collapsed": false
   },
   "outputs": [
    {
     "data": {
      "text/plain": [
       "(5317, 15)"
      ]
     },
     "execution_count": 245,
     "metadata": {},
     "output_type": "execute_result"
    }
   ],
   "source": [
    "#This matrix is vertically shaped, with latent features as the columns\n",
    "W_sklearn.shape"
   ]
  },
  {
   "cell_type": "code",
   "execution_count": 246,
   "metadata": {
    "collapsed": false
   },
   "outputs": [
    {
     "data": {
      "text/plain": [
       "(15, 10991)"
      ]
     },
     "execution_count": 246,
     "metadata": {},
     "output_type": "execute_result"
    }
   ],
   "source": [
    "#This matrix is horizontally shaped, with latent features as the rows\n",
    "H_sklearn.shape"
   ]
  },
  {
   "cell_type": "code",
   "execution_count": 290,
   "metadata": {
    "collapsed": false
   },
   "outputs": [],
   "source": [
    "def print_top_features(H, features, top_features):\n",
    "    for latent_num, latent in enumerate(H):\n",
    "        print \"Latent %d\" % latent_num\n",
    "        print [features[i] for i in latent.argsort()[:-top_features-1:-1]]\n",
    "        print \n",
    "\n",
    "# def print_index_features(W, features, top_features):\n",
    "#     for latent_num, latent in enumerate(W.T):\n",
    "#         print \"Latent %d\" % latent_num\n",
    "#         print [features[i] for i in latent.argsort()[:-top_features-1:-1]]\n",
    "#         print "
   ]
  },
  {
   "cell_type": "code",
   "execution_count": 291,
   "metadata": {
    "collapsed": false
   },
   "outputs": [
    {
     "name": "stdout",
     "output_type": "stream",
     "text": [
      "Latent 0\n",
      "[('mary', 'F'), ('deborah', 'F'), ('ronald', 'M'), ('ruth', 'F'), ('betty', 'F'), ('joyce', 'F'), ('jean', 'F'), ('joan', 'F'), ('daniel', 'M'), ('nancy', 'F')]\n",
      "\n",
      "Latent 1\n",
      "[('robert', 'M'), ('barbara', 'F'), ('elizabeth', 'F'), ('dorothy', 'F'), ('patricia', 'F'), ('francis', 'M'), ('jane', 'F'), ('matthew', 'M'), ('betty', 'F'), ('mildred', 'F')]\n",
      "\n",
      "Latent 2\n",
      "[('john', 'M'), ('sarah', 'F'), ('mark', 'M'), ('jennifer', 'F'), ('daniel', 'M'), ('tina', 'F'), ('crystal', 'F'), ('teresa', 'F'), ('kyle', 'M'), ('frank', 'M')]\n",
      "\n",
      "Latent 3\n",
      "[('william', 'M'), ('edward', 'M'), ('anna', 'F'), ('kenneth', 'M'), ('jessica', 'F'), ('hazel', 'F'), ('virginia', 'F'), ('sharon', 'F'), ('timothy', 'M'), ('harold', 'M')]\n",
      "\n",
      "Latent 4\n",
      "[('michael', 'M'), ('amy', 'F'), ('joseph', 'M'), ('betty', 'F'), ('jessica', 'F'), ('christina', 'F'), ('timothy', 'M'), ('tyler', 'M'), ('albert', 'M'), ('stephen', 'M')]\n",
      "\n",
      "Latent 5\n",
      "[('thomas', 'M'), ('christopher', 'M'), ('joseph', 'M'), ('elizabeth', 'F'), ('matthew', 'M'), ('patricia', 'F'), ('kenneth', 'M'), ('edward', 'M'), ('betty', 'F'), ('sarah', 'F')]\n",
      "\n",
      "Latent 6\n",
      "[('james', 'M'), ('elizabeth', 'F'), ('patricia', 'F'), ('catherine', 'F'), ('raymond', 'M'), ('michelle', 'F'), ('albert', 'M'), ('anthony', 'M'), ('jean', 'F'), ('harold', 'M')]\n",
      "\n",
      "Latent 7\n",
      "[('charles', 'M'), ('raymond', 'M'), ('elizabeth', 'F'), ('daniel', 'M'), ('george', 'M'), ('paul', 'M'), ('carol', 'F'), ('virginia', 'F'), ('dorothy', 'F'), ('pamela', 'F')]\n",
      "\n",
      "Latent 8\n",
      "[('david', 'M'), ('sarah', 'F'), ('patricia', 'F'), ('timothy', 'M'), ('eric', 'M'), ('doris', 'F'), ('steven', 'M'), ('rebecca', 'F'), ('carol', 'F'), ('brandon', 'M')]\n",
      "\n",
      "Latent 9\n",
      "[('richard', 'M'), ('joseph', 'M'), ('marie', 'F'), ('kenneth', 'M'), ('anna', 'F'), ('karen', 'F'), ('jonathan', 'M'), ('susan', 'F'), ('jeffrey', 'M'), ('theodore', 'M')]\n",
      "\n"
     ]
    }
   ],
   "source": [
    "print_top_features(H_sklearn, features, 10)"
   ]
  },
  {
   "cell_type": "code",
   "execution_count": 286,
   "metadata": {
    "collapsed": false
   },
   "outputs": [],
   "source": [
    "table_index = pivot.index"
   ]
  },
  {
   "cell_type": "code",
   "execution_count": 295,
   "metadata": {
    "collapsed": true
   },
   "outputs": [],
   "source": [
    "name_pivot = pd.pivot_table(sample, values='count_norm',index=sample.name_gender, columns=sample.index)\n",
    "name_pivot = name_pivot.fillna(0)"
   ]
  },
  {
   "cell_type": "code",
   "execution_count": 296,
   "metadata": {
    "collapsed": false
   },
   "outputs": [],
   "source": [
    "nmf = NMF(n_components=10)\n",
    "W_sklearn = nmf.fit_transform(name_pivot)\n",
    "H_sklearn = nmf.components_"
   ]
  },
  {
   "cell_type": "code",
   "execution_count": 298,
   "metadata": {
    "collapsed": true
   },
   "outputs": [],
   "source": [
    "state_features = name_pivot.columns"
   ]
  },
  {
   "cell_type": "code",
   "execution_count": 299,
   "metadata": {
    "collapsed": false
   },
   "outputs": [
    {
     "name": "stdout",
     "output_type": "stream",
     "text": [
      "Latent 0\n",
      "[(1942, 'NV'), (1929, 'NH'), (1939, 'NH'), (1946, 'NH'), (1957, 'MA'), (1912, 'NE'), (1946, 'NV'), (1943, 'NV'), (1935, 'AK'), (1998, 'NH')]\n",
      "\n",
      "Latent 1\n",
      "[(1926, 'MN'), (1940, 'MO'), (1934, 'TN'), (1929, 'SC'), (1945, 'DE'), (1945, 'WV'), (1928, 'VT'), (1958, 'NE'), (1917, 'WV'), (1925, 'VT')]\n",
      "\n",
      "Latent 2\n",
      "[(1916, 'NV'), (1944, 'DE'), (1939, 'RI'), (1911, 'CO'), (1969, 'RI'), (1931, 'NY'), (1920, 'MT'), (1979, 'NH'), (1922, 'MS'), (1972, 'DE')]\n",
      "\n",
      "Latent 3\n",
      "[(1926, 'AK'), (1951, 'PA'), (1917, 'OR'), (1922, 'OH'), (1937, 'IN'), (1961, 'DE'), (1925, 'NV'), (1932, 'VA'), (1965, 'MT'), (1910, 'WY')]\n",
      "\n",
      "Latent 4\n",
      "[(1945, 'VT'), (1968, 'WY'), (1949, 'DE'), (1980, 'IL'), (1956, 'WA'), (1947, 'IL'), (1988, 'KS'), (1981, 'AZ'), (1941, 'WA'), (1955, 'MD')]\n",
      "\n",
      "Latent 5\n",
      "[(1913, 'WY'), (1912, 'WY'), (1934, 'DC'), (1977, 'DE'), (1981, 'AK'), (1969, 'AK'), (1950, 'IL'), (1968, 'NJ'), (1963, 'VT'), (1991, 'IA')]\n",
      "\n",
      "Latent 6\n",
      "[(1974, 'NV'), (1969, 'CT'), (1952, 'IL'), (1967, 'AK'), (1956, 'ME'), (1944, 'OH'), (1922, 'AK'), (1975, 'MN'), (1974, 'FL'), (1963, 'KY')]\n",
      "\n",
      "Latent 7\n",
      "[(1931, 'NE'), (1926, 'NH'), (1941, 'RI'), (1952, 'NH'), (1933, 'DE'), (1944, 'WI'), (1924, 'OH'), (1949, 'OR'), (1932, 'MI'), (1917, 'NV')]\n",
      "\n",
      "Latent 8\n",
      "[(1917, 'MA'), (1931, 'MD'), (1921, 'GA'), (1957, 'MI'), (1927, 'MA'), (1957, 'NE'), (1937, 'SD'), (1915, 'KY'), (1934, 'MT'), (1931, 'CT')]\n",
      "\n",
      "Latent 9\n",
      "[(1952, 'MA'), (1929, 'WV'), (1917, 'VT'), (1921, 'PA'), (1921, 'NH'), (1942, 'OH'), (1944, 'NY'), (1927, 'AR'), (1948, 'AR'), (1941, 'NJ')]\n",
      "\n"
     ]
    }
   ],
   "source": [
    "print_top_features(H_sklearn,state_features, 10)"
   ]
  },
  {
   "cell_type": "code",
   "execution_count": null,
   "metadata": {
    "collapsed": true
   },
   "outputs": [],
   "source": []
  }
 ],
 "metadata": {
  "kernelspec": {
   "display_name": "Python 2",
   "language": "python",
   "name": "python2"
  },
  "language_info": {
   "codemirror_mode": {
    "name": "ipython",
    "version": 2
   },
   "file_extension": ".py",
   "mimetype": "text/x-python",
   "name": "python",
   "nbconvert_exporter": "python",
   "pygments_lexer": "ipython2",
   "version": "2.7.11"
  }
 },
 "nbformat": 4,
 "nbformat_minor": 0
}
