{
 "cells": [
  {
   "cell_type": "code",
   "execution_count": 50,
   "metadata": {
    "collapsed": false
   },
   "outputs": [],
   "source": [
    "import pandas as pd\n",
    "import numpy as np\n",
    "from tf_idf import tf_idf_matrix, my_tfidf\n",
    "from run_nmf import run_tfidf_nmf, print_top_features, run_nmf\n",
    "from clean_data import clean_data_from_frame\n",
    "import matplotlib.pylab as plt\n",
    "%matplotlib inline\n",
    "from sklearn.feature_extraction.text import TfidfTransformer"
   ]
  },
  {
   "cell_type": "code",
   "execution_count": 2,
   "metadata": {
    "collapsed": false
   },
   "outputs": [],
   "source": [
    "df = pd.read_csv('../../StateNames.csv')"
   ]
  },
  {
   "cell_type": "code",
   "execution_count": 3,
   "metadata": {
    "collapsed": false
   },
   "outputs": [],
   "source": [
    "df_clean = clean_data_from_frame(df)"
   ]
  },
  {
   "cell_type": "code",
   "execution_count": 4,
   "metadata": {
    "collapsed": false
   },
   "outputs": [],
   "source": [
    "male_vectors = tf_idf_matrix(df, 'M')"
   ]
  },
  {
   "cell_type": "code",
   "execution_count": 7,
   "metadata": {
    "collapsed": true
   },
   "outputs": [],
   "source": [
    "female_vectors = tf_idf_matrix(df, 'F')"
   ]
  },
  {
   "cell_type": "code",
   "execution_count": 20,
   "metadata": {
    "collapsed": true
   },
   "outputs": [],
   "source": [
    "def run_tfidf_nmf(df, n_factors):\n",
    "    transposed_df = df.T\n",
    "    features = transposed_df.columns\n",
    "\n",
    "    W, H, nmf, error = run_nmf(transposed_df,n_factors)\n",
    "\n",
    "    print \"SKlearn error: %f\" %error\n",
    "    print print_top_features(W,H,features,20)\n",
    "\n",
    "    return W, H, nmf"
   ]
  },
  {
   "cell_type": "code",
   "execution_count": 25,
   "metadata": {
    "collapsed": true
   },
   "outputs": [],
   "source": [
    "def print_top_features(W, H, features, top_features):\n",
    "    # print \"Reconstruction Error: %f\" %reconst_mse(data_matrix, W, H)\n",
    "    for latent_num, latent in enumerate(H):\n",
    "        print \"Latent Feature %d\" % (int(latent_num) + 1)\n",
    "        print [features[i] for i in latent.argsort()[:-top_features-1:-1]]\n",
    "        print"
   ]
  },
  {
   "cell_type": "code",
   "execution_count": 5,
   "metadata": {
    "collapsed": false
   },
   "outputs": [],
   "source": [
    "# W, H, male_nmf = run_tfidf_nmf(male_vectors, 30)"
   ]
  },
  {
   "cell_type": "code",
   "execution_count": 27,
   "metadata": {
    "collapsed": false
   },
   "outputs": [],
   "source": [
    "transposed_df = male_vectors.T\n",
    "features = transposed_df.columns"
   ]
  },
  {
   "cell_type": "code",
   "execution_count": 30,
   "metadata": {
    "collapsed": true
   },
   "outputs": [],
   "source": [
    "W, H, nmf, error = run_nmf(transposed_df, 15)"
   ]
  },
  {
   "cell_type": "code",
   "execution_count": 31,
   "metadata": {
    "collapsed": false
   },
   "outputs": [
    {
     "name": "stdout",
     "output_type": "stream",
     "text": [
      "Latent Feature 1\n",
      "[(1961, 'CA'), (1960, 'CA'), (1962, 'CA'), (1959, 'CA'), (1963, 'CA'), (1958, 'CA'), (1964, 'CA'), (1957, 'CA'), (1960, 'OH'), (1961, 'OH'), (1956, 'CA'), (1959, 'OH'), (1962, 'OH'), (1965, 'CA'), (1963, 'OH'), (1958, 'OH'), (1961, 'IL'), (1960, 'IL'), (1955, 'CA'), (1962, 'IL')]\n",
      "\n",
      "Latent Feature 2\n",
      "[(1966, 'NY'), (1969, 'NY'), (1970, 'NY'), (1968, 'NY'), (1967, 'NY'), (1965, 'NY'), (1971, 'NY'), (1964, 'NY'), (1972, 'NY'), (1990, 'CA'), (1963, 'NY'), (1989, 'CA'), (1962, 'NY'), (1990, 'NY'), (1988, 'CA'), (1991, 'CA'), (1988, 'NY'), (1961, 'NY'), (1987, 'CA'), (1987, 'NY')]\n",
      "\n",
      "Latent Feature 3\n",
      "[(1927, 'TX'), (1925, 'TX'), (1930, 'TX'), (1929, 'TX'), (1928, 'TX'), (1924, 'TX'), (1926, 'TX'), (1920, 'GA'), (1922, 'GA'), (1942, 'NC'), (1924, 'NC'), (1921, 'GA'), (1923, 'TX'), (1943, 'GA'), (1919, 'GA'), (1932, 'TX'), (1931, 'TX'), (1928, 'NC'), (1942, 'GA'), (1923, 'NC')]\n",
      "\n",
      "Latent Feature 4\n",
      "[(2014, 'CA'), (2013, 'CA'), (2012, 'CA'), (2011, 'CA'), (2014, 'TX'), (2013, 'TX'), (2012, 'TX'), (2010, 'CA'), (2011, 'TX'), (2009, 'CA'), (2010, 'TX'), (2008, 'CA'), (2009, 'TX'), (2014, 'FL'), (2013, 'FL'), (2014, 'NY'), (2013, 'NY'), (2012, 'NY'), (2012, 'FL'), (2008, 'TX')]\n",
      "\n",
      "Latent Feature 5\n",
      "[(1990, 'CA'), (1991, 'CA'), (1992, 'CA'), (1993, 'CA'), (1994, 'CA'), (1989, 'CA'), (1995, 'CA'), (1988, 'CA'), (1996, 'CA'), (1981, 'CA'), (1987, 'CA'), (1980, 'CA'), (1986, 'CA'), (1982, 'CA'), (1985, 'CA'), (1983, 'CA'), (1984, 'CA'), (1997, 'CA'), (1979, 'CA'), (1998, 'CA')]\n",
      "\n",
      "Latent Feature 6\n",
      "[(1954, 'TX'), (1957, 'TX'), (1952, 'TX'), (1955, 'TX'), (1953, 'TX'), (1958, 'TX'), (1956, 'TX'), (1947, 'TX'), (1951, 'TX'), (1959, 'TX'), (1948, 'TX'), (1950, 'TX'), (1949, 'TX'), (1960, 'TX'), (1946, 'TX'), (1961, 'TX'), (1962, 'TX'), (1947, 'CA'), (1963, 'TX'), (1948, 'CA')]\n",
      "\n",
      "Latent Feature 7\n",
      "[(1974, 'CA'), (1971, 'CA'), (1973, 'CA'), (1975, 'CA'), (1976, 'CA'), (1977, 'CA'), (1972, 'CA'), (1974, 'OH'), (1978, 'CA'), (1970, 'CA'), (1976, 'OH'), (1975, 'OH'), (1977, 'OH'), (1979, 'CA'), (1980, 'CA'), (1973, 'OH'), (1977, 'NY'), (1978, 'OH'), (1977, 'TX'), (1974, 'MI')]\n",
      "\n",
      "Latent Feature 8\n",
      "[(1951, 'NY'), (1952, 'NY'), (1947, 'NY'), (1950, 'NY'), (1953, 'NY'), (1954, 'NY'), (1949, 'NY'), (1948, 'NY'), (1955, 'NY'), (1946, 'NY'), (1952, 'PA'), (1951, 'PA'), (1952, 'CA'), (1953, 'PA'), (1956, 'NY'), (1953, 'CA'), (1950, 'PA'), (1957, 'NY'), (1949, 'PA'), (1954, 'PA')]\n",
      "\n",
      "Latent Feature 9\n",
      "[(1994, 'CA'), (1993, 'CA'), (1992, 'CA'), (1995, 'CA'), (1996, 'CA'), (1991, 'CA'), (1997, 'CA'), (1994, 'OH'), (1995, 'OH'), (1993, 'OH'), (1994, 'TX'), (1993, 'TX'), (1995, 'TX'), (1998, 'CA'), (1996, 'OH'), (1992, 'OH'), (1990, 'CA'), (1994, 'MI'), (1997, 'OH'), (1996, 'TX')]\n",
      "\n",
      "Latent Feature 10\n",
      "[(2006, 'CA'), (2007, 'CA'), (2005, 'CA'), (2008, 'CA'), (2004, 'CA'), (2003, 'CA'), (2009, 'CA'), (2002, 'CA'), (2010, 'CA'), (2001, 'CA'), (2000, 'CA'), (2011, 'CA'), (1999, 'CA'), (2012, 'CA'), (2007, 'TX'), (2006, 'TX'), (1998, 'CA'), (1997, 'CA'), (2005, 'TX'), (2013, 'CA')]\n",
      "\n",
      "Latent Feature 11\n",
      "[(1930, 'IL'), (1931, 'IL'), (1930, 'OH'), (1929, 'IL'), (1928, 'OH'), (1932, 'IL'), (1929, 'OH'), (1934, 'IL'), (1931, 'OH'), (1928, 'IL'), (1927, 'OH'), (1935, 'IL'), (1933, 'IL'), (1932, 'OH'), (1927, 'IL'), (1936, 'PA'), (1936, 'IL'), (1937, 'PA'), (1935, 'PA'), (1934, 'PA')]\n",
      "\n",
      "Latent Feature 12\n",
      "[(2003, 'TX'), (2004, 'TX'), (2002, 'TX'), (2005, 'TX'), (2001, 'TX'), (2006, 'TX'), (2000, 'TX'), (2003, 'CA'), (2007, 'TX'), (2002, 'CA'), (2004, 'OH'), (2004, 'CA'), (2003, 'OH'), (2006, 'OH'), (2005, 'OH'), (2002, 'OH'), (1999, 'TX'), (2007, 'OH'), (2005, 'CA'), (2008, 'TX')]\n",
      "\n",
      "Latent Feature 13\n",
      "[(1918, 'NY'), (1920, 'NY'), (1918, 'PA'), (1921, 'NY'), (1917, 'NY'), (1923, 'NY'), (1922, 'NY'), (1924, 'NY'), (1919, 'NY'), (1921, 'PA'), (1916, 'NY'), (1925, 'NY'), (1920, 'PA'), (1917, 'PA'), (1922, 'PA'), (1919, 'PA'), (1923, 'PA'), (1915, 'NY'), (1924, 'PA'), (1926, 'NY')]\n",
      "\n",
      "Latent Feature 14\n",
      "[(1988, 'CA'), (1985, 'CA'), (1987, 'CA'), (1985, 'TX'), (1989, 'CA'), (1987, 'TX'), (1984, 'CA'), (1986, 'TX'), (1988, 'TX'), (1986, 'CA'), (1983, 'CA'), (1984, 'TX'), (1989, 'TX'), (1983, 'TX'), (1982, 'CA'), (1990, 'CA'), (1982, 'TX'), (1981, 'CA'), (1990, 'TX'), (1981, 'TX')]\n",
      "\n",
      "Latent Feature 15\n",
      "[(2003, 'NY'), (2004, 'NY'), (2002, 'NY'), (2005, 'NY'), (2001, 'NY'), (1989, 'NY'), (2006, 'NY'), (1999, 'NY'), (2000, 'NY'), (2007, 'NY'), (2008, 'NY'), (1998, 'NY'), (2009, 'NY'), (1990, 'NY'), (1997, 'NY'), (1992, 'NY'), (1996, 'NY'), (2010, 'NY'), (1995, 'NY'), (1993, 'NY')]\n",
      "\n"
     ]
    }
   ],
   "source": [
    "###non-normalized term-frequency results\n",
    "print_top_features(W,H,features,20)"
   ]
  },
  {
   "cell_type": "code",
   "execution_count": 34,
   "metadata": {
    "collapsed": false
   },
   "outputs": [
    {
     "name": "stdout",
     "output_type": "stream",
     "text": [
      "Latent Feature 1\n",
      "[(1955, 'NY'), (1954, 'NY'), (1956, 'NY'), (1952, 'NY'), (1953, 'NY'), (1951, 'NY'), (1957, 'NY'), (1958, 'NY'), (1959, 'NY'), (1960, 'NY'), (1950, 'NY'), (1961, 'NY'), (1962, 'NY'), (1949, 'NY'), (1963, 'NY'), (1964, 'NY'), (1948, 'NY'), (1965, 'NY'), (1947, 'NY'), (1955, 'PA')]\n",
      "\n",
      "Latent Feature 2\n",
      "[(1987, 'CA'), (1986, 'CA'), (1985, 'CA'), (1988, 'CA'), (1986, 'TX'), (1985, 'TX'), (1987, 'TX'), (1984, 'TX'), (1984, 'CA'), (1989, 'CA'), (1983, 'TX'), (1988, 'TX'), (1983, 'CA'), (1990, 'CA'), (1987, 'NY'), (1985, 'OH'), (1986, 'OH'), (1987, 'OH'), (1986, 'NY'), (1982, 'TX')]\n",
      "\n",
      "Latent Feature 3\n",
      "[(1918, 'PA'), (1920, 'PA'), (1921, 'PA'), (1918, 'NY'), (1917, 'PA'), (1917, 'NY'), (1919, 'PA'), (1916, 'NY'), (1920, 'NY'), (1916, 'PA'), (1919, 'NY'), (1915, 'PA'), (1915, 'NY'), (1921, 'NY'), (1922, 'PA'), (1923, 'PA'), (1924, 'PA'), (1922, 'NY'), (1923, 'NY'), (1924, 'NY')]\n",
      "\n",
      "Latent Feature 4\n",
      "[(2001, 'TX'), (2000, 'TX'), (2002, 'TX'), (1999, 'TX'), (2003, 'TX'), (2001, 'OH'), (1998, 'TX'), (2000, 'OH'), (2000, 'CA'), (2002, 'OH'), (2004, 'TX'), (1999, 'OH'), (2001, 'CA'), (1997, 'TX'), (2003, 'OH'), (1999, 'CA'), (1998, 'CA'), (1998, 'OH'), (2002, 'CA'), (2001, 'PA')]\n",
      "\n",
      "Latent Feature 5\n",
      "[(1963, 'CA'), (1964, 'CA'), (1965, 'CA'), (1966, 'CA'), (1967, 'CA'), (1962, 'CA'), (1965, 'NY'), (1961, 'CA'), (1966, 'NY'), (1968, 'CA'), (1964, 'NY'), (1963, 'NY'), (1967, 'NY'), (1969, 'CA'), (1960, 'CA'), (1968, 'NY'), (1965, 'PA'), (1965, 'OH'), (1966, 'PA'), (1963, 'OH')]\n",
      "\n",
      "Latent Feature 6\n",
      "[(1942, 'NY'), (1938, 'NY'), (1937, 'NY'), (1941, 'NY'), (1943, 'NY'), (1939, 'NY'), (1940, 'NY'), (1936, 'NY'), (1935, 'NY'), (1942, 'PA'), (1934, 'NY'), (1946, 'NY'), (1944, 'NY'), (1932, 'NY'), (1933, 'NY'), (1941, 'PA'), (1943, 'PA'), (1945, 'NY'), (1940, 'PA'), (1938, 'PA')]\n",
      "\n",
      "Latent Feature 7\n",
      "[(1947, 'CA'), (1947, 'OH'), (1948, 'CA'), (1947, 'PA'), (1947, 'TX'), (1949, 'CA'), (1948, 'TX'), (1949, 'TX'), (1948, 'OH'), (1947, 'IL'), (1947, 'NY'), (1948, 'PA'), (1949, 'OH'), (1948, 'IL'), (1950, 'TX'), (1946, 'CA'), (1949, 'PA'), (1947, 'MI'), (1949, 'IL'), (1950, 'CA')]\n",
      "\n",
      "Latent Feature 8\n",
      "[(2014, 'CA'), (2013, 'CA'), (2012, 'CA'), (2011, 'CA'), (2014, 'TX'), (2010, 'CA'), (2013, 'TX'), (2012, 'TX'), (2009, 'CA'), (2011, 'TX'), (2010, 'TX'), (2008, 'CA'), (2009, 'TX'), (2007, 'CA'), (2008, 'TX'), (2014, 'FL'), (2013, 'FL'), (2014, 'NY'), (2006, 'CA'), (2013, 'NY')]\n",
      "\n",
      "Latent Feature 9\n",
      "[(1991, 'CA'), (1990, 'CA'), (1992, 'CA'), (1989, 'CA'), (1993, 'CA'), (1990, 'TX'), (1992, 'TX'), (1993, 'TX'), (1994, 'CA'), (1991, 'TX'), (1992, 'NY'), (1991, 'NY'), (1993, 'NY'), (1990, 'NY'), (1989, 'TX'), (1988, 'CA'), (1994, 'TX'), (1995, 'CA'), (1990, 'OH'), (1994, 'NY')]\n",
      "\n",
      "Latent Feature 10\n",
      "[(2006, 'CA'), (2007, 'CA'), (2005, 'CA'), (2004, 'CA'), (2003, 'CA'), (2002, 'CA'), (2008, 'CA'), (2001, 'CA'), (2000, 'CA'), (2009, 'CA'), (1999, 'CA'), (2010, 'CA'), (1998, 'CA'), (2011, 'CA'), (1997, 'CA'), (2012, 'CA'), (2006, 'TX'), (2005, 'TX'), (2007, 'TX'), (2004, 'TX')]\n",
      "\n",
      "Latent Feature 11\n",
      "[(1927, 'PA'), (1928, 'PA'), (1929, 'PA'), (1926, 'PA'), (1927, 'OH'), (1935, 'TX'), (1930, 'PA'), (1927, 'IL'), (1928, 'IL'), (1929, 'IL'), (1928, 'OH'), (1925, 'PA'), (1925, 'OH'), (1930, 'IL'), (1926, 'IL'), (1924, 'PA'), (1929, 'OH'), (1926, 'OH'), (1930, 'OH'), (1934, 'TX')]\n",
      "\n",
      "Latent Feature 12\n",
      "[(1919, 'GA'), (1920, 'GA'), (1922, 'GA'), (1921, 'TX'), (1920, 'TX'), (1922, 'TX'), (1924, 'TX'), (1921, 'GA'), (1919, 'TX'), (1918, 'GA'), (1925, 'TX'), (1918, 'TX'), (1925, 'AL'), (1923, 'TX'), (1925, 'GA'), (1923, 'GA'), (1917, 'TX'), (1924, 'GA'), (1919, 'AL'), (1924, 'AL')]\n",
      "\n",
      "Latent Feature 13\n",
      "[(1991, 'CA'), (1992, 'CA'), (1990, 'CA'), (1993, 'CA'), (1994, 'CA'), (1989, 'CA'), (1995, 'CA'), (1988, 'CA'), (1996, 'CA'), (1987, 'CA'), (1982, 'CA'), (1981, 'CA'), (1986, 'CA'), (1985, 'CA'), (1983, 'CA'), (1984, 'CA'), (1980, 'CA'), (1997, 'CA'), (1979, 'CA'), (1998, 'CA')]\n",
      "\n",
      "Latent Feature 14\n",
      "[(1956, 'CA'), (1955, 'CA'), (1957, 'CA'), (1954, 'CA'), (1956, 'OH'), (1955, 'OH'), (1957, 'OH'), (1953, 'CA'), (1955, 'TX'), (1958, 'CA'), (1956, 'TX'), (1954, 'TX'), (1954, 'OH'), (1957, 'TX'), (1956, 'IL'), (1959, 'CA'), (1955, 'IL'), (1956, 'PA'), (1957, 'IL'), (1957, 'PA')]\n",
      "\n",
      "Latent Feature 15\n",
      "[(1976, 'CA'), (1975, 'CA'), (1977, 'CA'), (1974, 'CA'), (1972, 'CA'), (1979, 'CA'), (1978, 'CA'), (1973, 'CA'), (1980, 'CA'), (1971, 'CA'), (1981, 'CA'), (1974, 'NY'), (1972, 'NY'), (1973, 'NY'), (1976, 'NY'), (1970, 'CA'), (1982, 'CA'), (1975, 'NY'), (1977, 'NY'), (1971, 'NY')]\n",
      "\n"
     ]
    }
   ],
   "source": [
    "transposed_df = female_vectors.T\n",
    "features = transposed_df.columns\n",
    "W, H, nmf, error = run_nmf(transposed_df, 15)\n",
    "print_top_features(W,H,features,20)"
   ]
  },
  {
   "cell_type": "code",
   "execution_count": 17,
   "metadata": {
    "collapsed": true
   },
   "outputs": [],
   "source": [
    "#Looks like I'm getting back the most populous states\n",
    "pd.set_option('max_rows',500)"
   ]
  },
  {
   "cell_type": "code",
   "execution_count": 14,
   "metadata": {
    "collapsed": false
   },
   "outputs": [],
   "source": [
    "# df_clean.sort_values('Count', ascending=False)\n",
    "count_tab = pd.pivot_table(df_clean,values='Count',index=df_clean.index.values, columns='Gender')"
   ]
  },
  {
   "cell_type": "code",
   "execution_count": 19,
   "metadata": {
    "collapsed": false
   },
   "outputs": [],
   "source": [
    "# count_tab.sort_values(by='M',ascending=False)"
   ]
  },
  {
   "cell_type": "code",
   "execution_count": 20,
   "metadata": {
    "collapsed": true
   },
   "outputs": [],
   "source": [
    "pivot = pd.pivot_table(df_clean, values = 'Count_by_name',index = df_clean.tuple_index, columns=df_clean.Name)"
   ]
  },
  {
   "cell_type": "code",
   "execution_count": 22,
   "metadata": {
    "collapsed": false
   },
   "outputs": [],
   "source": [
    "pivot = pivot.fillna(0)"
   ]
  },
  {
   "cell_type": "code",
   "execution_count": 25,
   "metadata": {
    "collapsed": true
   },
   "outputs": [],
   "source": [
    "computed = pivot / pivot.max(axis=1)"
   ]
  },
  {
   "cell_type": "code",
   "execution_count": 28,
   "metadata": {
    "collapsed": false
   },
   "outputs": [],
   "source": [
    "max_values = pivot.max(axis=1)"
   ]
  },
  {
   "cell_type": "code",
   "execution_count": 44,
   "metadata": {
    "collapsed": false
   },
   "outputs": [
    {
     "data": {
      "text/plain": [
       "pandas.core.series.Series"
      ]
     },
     "execution_count": 44,
     "metadata": {},
     "output_type": "execute_result"
    }
   ],
   "source": [
    "type(max_values)"
   ]
  },
  {
   "cell_type": "code",
   "execution_count": 50,
   "metadata": {
    "collapsed": false
   },
   "outputs": [],
   "source": [
    "new_pivot = (.5 + .5*(pivot.T/max_values)).T"
   ]
  },
  {
   "cell_type": "code",
   "execution_count": null,
   "metadata": {
    "collapsed": true
   },
   "outputs": [],
   "source": []
  },
  {
   "cell_type": "code",
   "execution_count": null,
   "metadata": {
    "collapsed": true
   },
   "outputs": [],
   "source": []
  },
  {
   "cell_type": "code",
   "execution_count": 6,
   "metadata": {
    "collapsed": false
   },
   "outputs": [
    {
     "name": "stdout",
     "output_type": "stream",
     "text": [
      "SKlearn error: 44.513984\n",
      "Latent Feature 1\n",
      "[(1989, 'DC'), (1922, 'HI'), (1920, 'HI'), (1923, 'HI'), (1924, 'HI'), (1921, 'HI'), (1939, 'UT'), (1940, 'UT'), (1947, 'ND'), (1919, 'HI'), (1946, 'ND'), (1925, 'HI'), (1948, 'ND'), (1949, 'ND'), (1950, 'ND'), (1940, 'ND'), (1940, 'IA'), (1947, 'ID'), (1939, 'ND'), (1939, 'NE')]\n",
      "\n",
      "Latent Feature 2\n",
      "[(2008, 'SD'), (2007, 'WY'), (2008, 'ND'), (2007, 'SD'), (2005, 'SD'), (2006, 'MT'), (2007, 'ND'), (2009, 'MT'), (2008, 'IA'), (2009, 'IA'), (2008, 'MT'), (2006, 'IA'), (2009, 'ND'), (2007, 'ID'), (2006, 'WY'), (2008, 'NE'), (2007, 'IA'), (2006, 'ID'), (2006, 'SD'), (2006, 'ND')]\n",
      "\n",
      "Latent Feature 3\n",
      "[(1993, 'VT'), (1988, 'SD'), (1990, 'ND'), (1989, 'SD'), (1987, 'ND'), (1990, 'IA'), (1988, 'ND'), (1987, 'SD'), (1992, 'ME'), (1994, 'VT'), (1989, 'ID'), (1991, 'IA'), (1992, 'KS'), (1991, 'SD'), (1993, 'WV'), (1991, 'NE'), (1994, 'WV'), (1993, 'ND'), (1992, 'OR'), (1991, 'ND')]\n",
      "\n",
      "Latent Feature 4\n",
      "[(1977, 'ND'), (1976, 'MN'), (1977, 'SD'), (1978, 'ND'), (1975, 'IA'), (1977, 'IA'), (1976, 'NE'), (1978, 'IA'), (1972, 'IA'), (1976, 'IA'), (1975, 'SD'), (1975, 'MN'), (1975, 'ND'), (1976, 'ID'), (1973, 'ND'), (1972, 'ND'), (1976, 'ND'), (1979, 'SD'), (1974, 'MN'), (1974, 'ND')]\n",
      "\n",
      "Latent Feature 5\n",
      "[(2006, 'AZ'), (2005, 'AZ'), (2007, 'AZ'), (2006, 'NM'), (2008, 'TX'), (2009, 'TX'), (2004, 'AZ'), (2007, 'TX'), (2006, 'CA'), (2008, 'AZ'), (2009, 'AZ'), (2009, 'NM'), (2006, 'TX'), (2007, 'NM'), (2007, 'CA'), (2005, 'CA'), (2003, 'AZ'), (2002, 'AZ'), (2005, 'TX'), (2011, 'TX')]\n",
      "\n",
      "Latent Feature 6\n",
      "[(1963, 'ND'), (1962, 'ND'), (1962, 'SD'), (1963, 'SD'), (1965, 'ND'), (1964, 'ND'), (1960, 'SD'), (1959, 'MN'), (1965, 'SD'), (1964, 'IA'), (1963, 'MN'), (1958, 'MN'), (1961, 'SD'), (1961, 'ND'), (1960, 'ND'), (1964, 'MN'), (1962, 'MN'), (1962, 'IA'), (1964, 'SD'), (1959, 'ND')]\n",
      "\n",
      "Latent Feature 7\n",
      "[(2014, 'SD'), (2013, 'OK'), (2014, 'ND'), (2014, 'OK'), (2013, 'ND'), (2014, 'WV'), (2013, 'NE'), (2014, 'IA'), (2014, 'AR'), (2014, 'MT'), (2014, 'ID'), (2013, 'ID'), (2014, 'WY'), (2013, 'KS'), (2013, 'WY'), (2014, 'NE'), (2014, 'KS'), (2012, 'ND'), (2012, 'OK'), (2014, 'MO')]\n",
      "\n",
      "Latent Feature 8\n",
      "[(2010, 'MS'), (2009, 'MS'), (2007, 'LA'), (2012, 'MS'), (2007, 'MS'), (2009, 'LA'), (2008, 'MS'), (2008, 'LA'), (2014, 'MS'), (2011, 'LA'), (2013, 'MS'), (2006, 'LA'), (2011, 'MS'), (2010, 'LA'), (2012, 'LA'), (2006, 'MS'), (2013, 'LA'), (2005, 'LA'), (2014, 'LA'), (2007, 'SC')]\n",
      "\n",
      "Latent Feature 9\n",
      "[(2010, 'MA'), (2009, 'MA'), (2012, 'MA'), (2014, 'NJ'), (2013, 'NY'), (2013, 'CT'), (2009, 'RI'), (2011, 'MA'), (2013, 'NJ'), (2007, 'MA'), (2008, 'MA'), (2014, 'NY'), (2012, 'CT'), (2011, 'CT'), (2012, 'NY'), (2014, 'MA'), (2009, 'CT'), (2012, 'NJ'), (2010, 'CT'), (2006, 'MA')]\n",
      "\n",
      "Latent Feature 10\n",
      "[(2008, 'HI'), (2009, 'HI'), (2011, 'HI'), (2010, 'HI'), (2007, 'HI'), (2006, 'HI'), (2005, 'HI'), (2012, 'HI'), (2013, 'HI'), (2003, 'HI'), (2014, 'HI'), (2004, 'HI'), (2001, 'HI'), (2002, 'HI'), (2000, 'HI'), (2012, 'NM'), (2014, 'NM'), (2010, 'NM'), (1999, 'HI'), (2013, 'NM')]\n",
      "\n",
      "Latent Feature 11\n",
      "[(1930, 'NM'), (1936, 'NM'), (1938, 'NM'), (1934, 'TX'), (1930, 'TX'), (1929, 'TX'), (1933, 'TX'), (1935, 'TX'), (1931, 'TX'), (1910, 'TX'), (1928, 'TX'), (1932, 'TX'), (1934, 'NM'), (1936, 'TX'), (1939, 'NM'), (1937, 'TX'), (1940, 'NM'), (1910, 'MS'), (1931, 'NM'), (1933, 'NM')]\n",
      "\n",
      "Latent Feature 12\n",
      "[(1922, 'HI'), (1920, 'HI'), (1921, 'HI'), (1924, 'HI'), (1923, 'HI'), (1919, 'HI'), (1925, 'HI'), (1918, 'HI'), (1917, 'HI'), (1926, 'HI'), (1915, 'HI'), (1916, 'HI'), (1927, 'HI'), (1914, 'HI'), (1912, 'HI'), (1913, 'HI'), (1929, 'HI'), (1928, 'HI'), (1930, 'HI'), (1931, 'HI')]\n",
      "\n",
      "Latent Feature 13\n",
      "[(1999, 'LA'), (2001, 'MT'), (2001, 'LA'), (1998, 'LA'), (1999, 'MT'), (2000, 'LA'), (1999, 'SD'), (1998, 'OK'), (1996, 'AR'), (1996, 'OK'), (1998, 'MT'), (1998, 'SD'), (1998, 'WY'), (2002, 'LA'), (1999, 'AR'), (1996, 'KS'), (1999, 'ND'), (1997, 'WY'), (2001, 'AR'), (1995, 'OK')]\n",
      "\n",
      "Latent Feature 14\n",
      "[(1940, 'ND'), (1941, 'ND'), (1946, 'ND'), (1947, 'ND'), (1942, 'SD'), (1941, 'IA'), (1941, 'SD'), (1939, 'ND'), (1942, 'ND'), (1940, 'IA'), (1943, 'SD'), (1942, 'IA'), (1939, 'NE'), (1940, 'SD'), (1940, 'NE'), (1942, 'NE'), (1945, 'IA'), (1939, 'SD'), (1944, 'SD'), (1939, 'IA')]\n",
      "\n",
      "Latent Feature 15\n",
      "[(1916, 'ME'), (1915, 'SD'), (1917, 'ND'), (1917, 'VT'), (1917, 'SD'), (1915, 'WI'), (1918, 'SD'), (1917, 'NE'), (1910, 'VT'), (1911, 'ND'), (1911, 'ME'), (1917, 'ME'), (1914, 'NH'), (1914, 'ME'), (1915, 'NE'), (1919, 'ME'), (1917, 'WI'), (1916, 'WI'), (1912, 'WI'), (1918, 'ME')]\n",
      "\n",
      "None\n"
     ]
    }
   ],
   "source": [
    "##with improved term frequency normalization\n",
    "W, H, nmf = run_tfidf_nmf(male_vectors, 15)"
   ]
  },
  {
   "cell_type": "code",
   "execution_count": null,
   "metadata": {
    "collapsed": true
   },
   "outputs": [],
   "source": [
    "def print_W_H_features(W, H, W_features, H_features, top_features, data_matrix):\n",
    "    print \"Reconstruction Error: %f\" %reconst_mse(data_matrix, W, H)\n",
    "    for latent_num, latent in enumerate(H):\n",
    "        print \"Latent Feature %d\" % (int(latent_num) + 1)\n",
    "        print [H_features[i] for i in latent.argsort()[:-top_features-1:-1]]\n",
    "        print [W_features[i] for i in W]"
   ]
  },
  {
   "cell_type": "code",
   "execution_count": 8,
   "metadata": {
    "collapsed": false
   },
   "outputs": [
    {
     "name": "stdout",
     "output_type": "stream",
     "text": [
      "SKlearn error: 57.502870\n",
      "Latent Feature 1\n",
      "[(1960, 'CA'), (1977, 'LA'), (1969, 'CA'), (1962, 'UT'), (1961, 'CA'), (1959, 'CA'), (1968, 'CA'), (1961, 'UT'), (1970, 'CA'), (1964, 'CA'), (1967, 'CA'), (1962, 'CA'), (1915, 'TX'), (1960, 'UT'), (1980, 'LA'), (1978, 'LA'), (1976, 'LA'), (1916, 'TX'), (1918, 'TX'), (1966, 'CA')]\n",
      "\n",
      "Latent Feature 2\n",
      "[(2005, 'SD'), (2006, 'SD'), (2006, 'ND'), (2006, 'MT'), (2007, 'ND'), (2007, 'WY'), (2008, 'WY'), (2007, 'UT'), (2009, 'SD'), (2007, 'MT'), (2008, 'MT'), (2002, 'UT'), (2005, 'WY'), (2007, 'SD'), (2006, 'WY'), (2005, 'NE'), (2005, 'MT'), (2008, 'ID'), (2005, 'ID'), (2008, 'ND')]\n",
      "\n",
      "Latent Feature 3\n",
      "[(1989, 'ND'), (1993, 'WV'), (1990, 'SD'), (1994, 'WV'), (1992, 'DE'), (1992, 'WV'), (1994, 'KY'), (1992, 'SD'), (1989, 'SD'), (1995, 'WV'), (1994, 'IN'), (1991, 'SD'), (1992, 'KY'), (1993, 'KY'), (1990, 'ND'), (1992, 'IA'), (1994, 'OH'), (1993, 'PA'), (1994, 'LA'), (1995, 'KY')]\n",
      "\n",
      "Latent Feature 4\n",
      "[(1961, 'WY'), (1969, 'OK'), (1970, 'LA'), (1968, 'OK'), (1961, 'ID'), (1962, 'WY'), (1962, 'ID'), (1970, 'WY'), (1962, 'OR'), (1962, 'MT'), (1969, 'IA'), (1964, 'ND'), (1969, 'IN'), (1970, 'MO'), (1969, 'KS'), (1969, 'OR'), (1964, 'KS'), (1969, 'LA'), (1969, 'AR'), (1962, 'KS')]\n",
      "\n",
      "Latent Feature 5\n",
      "[(1958, 'OK'), (1957, 'OK'), (1957, 'WV'), (1956, 'OK'), (1954, 'IN'), (1954, 'OK'), (1959, 'OK'), (1953, 'IN'), (1957, 'IN'), (1958, 'VA'), (1956, 'CA'), (1957, 'VA'), (1956, 'HI'), (1955, 'WV'), (1957, 'FL'), (1957, 'NV'), (1957, 'TN'), (1956, 'WV'), (1956, 'NC'), (1957, 'CO')]\n",
      "\n",
      "Latent Feature 6\n",
      "[(2014, 'IA'), (2014, 'ND'), (2014, 'MT'), (2014, 'SD'), (2013, 'IA'), (2014, 'NE'), (2013, 'NE'), (2014, 'KS'), (2012, 'SD'), (2014, 'OK'), (2014, 'LA'), (2013, 'UT'), (2013, 'SD'), (2012, 'ND'), (2014, 'ID'), (2014, 'MN'), (2014, 'IN'), (2014, 'AK'), (2014, 'WV'), (2014, 'WI')]\n",
      "\n",
      "Latent Feature 7\n",
      "[(2001, 'AZ'), (2003, 'NM'), (2005, 'NM'), (2004, 'NM'), (2002, 'AZ'), (2000, 'AZ'), (2003, 'AZ'), (1998, 'CA'), (1999, 'CA'), (2004, 'AZ'), (1999, 'AZ'), (2001, 'NM'), (2007, 'AZ'), (2006, 'NM'), (2002, 'NM'), (1998, 'AZ'), (2001, 'CA'), (2000, 'CA'), (2000, 'NM'), (1998, 'NM')]\n",
      "\n",
      "Latent Feature 8\n",
      "[(1946, 'MA'), (1946, 'NH'), (1943, 'RI'), (1945, 'HI'), (1945, 'NH'), (1944, 'RI'), (1941, 'OR'), (1946, 'RI'), (1943, 'NH'), (1939, 'WA'), (1944, 'ME'), (1945, 'CT'), (1945, 'RI'), (1945, 'MA'), (1940, 'WA'), (1940, 'OR'), (1944, 'CT'), (1946, 'HI'), (1944, 'NH'), (1947, 'HI')]\n",
      "\n",
      "Latent Feature 9\n",
      "[(1910, 'SD'), (1918, 'ND'), (1912, 'ND'), (1917, 'ND'), (1920, 'ND'), (1919, 'ND'), (1913, 'SD'), (1915, 'ND'), (1914, 'ND'), (1913, 'ND'), (1911, 'ME'), (1915, 'SD'), (1921, 'ND'), (1914, 'SD'), (1916, 'SD'), (1910, 'MN'), (1918, 'SD'), (1922, 'ND'), (1910, 'WI'), (1912, 'SD')]\n",
      "\n",
      "Latent Feature 10\n",
      "[(1922, 'HI'), (1917, 'HI'), (1920, 'HI'), (1919, 'HI'), (1923, 'HI'), (1925, 'HI'), (1918, 'HI'), (1924, 'HI'), (1927, 'HI'), (1926, 'HI'), (1916, 'HI'), (1921, 'HI'), (1915, 'HI'), (1929, 'HI'), (1928, 'HI'), (1913, 'HI'), (1914, 'HI'), (1930, 'HI'), (1931, 'HI'), (1932, 'HI')]\n",
      "\n",
      "Latent Feature 11\n",
      "[(1981, 'AK'), (1977, 'WV'), (1979, 'LA'), (1980, 'ME'), (1979, 'ME'), (1981, 'NM'), (1981, 'LA'), (1979, 'WY'), (1982, 'DC'), (1980, 'AK'), (1980, 'DC'), (1978, 'LA'), (1980, 'MN'), (1980, 'NM'), (1980, 'IN'), (1978, 'WV'), (1977, 'LA'), (1981, 'DC'), (1981, 'IN'), (1980, 'SD')]\n",
      "\n",
      "Latent Feature 12\n",
      "[(2008, 'DC'), (2014, 'NJ'), (2005, 'DC'), (2006, 'NJ'), (2004, 'DC'), (2008, 'NJ'), (2003, 'DC'), (2007, 'NJ'), (2006, 'NY'), (2008, 'NY'), (2006, 'DC'), (2009, 'DC'), (2013, 'NJ'), (2007, 'NY'), (2014, 'NY'), (2011, 'NJ'), (2009, 'NY'), (2012, 'NJ'), (2002, 'DC'), (2011, 'DC')]\n",
      "\n",
      "Latent Feature 13\n",
      "[(1930, 'UT'), (1928, 'UT'), (1929, 'UT'), (1935, 'OK'), (1932, 'UT'), (1933, 'ID'), (1934, 'ID'), (1927, 'UT'), (1936, 'OK'), (1934, 'OR'), (1931, 'ID'), (1932, 'ID'), (1930, 'WA'), (1932, 'OR'), (1931, 'SD'), (1931, 'NE'), (1930, 'NE'), (1933, 'NE'), (1931, 'WA'), (1934, 'OK')]\n",
      "\n",
      "Latent Feature 14\n",
      "[(2011, 'MS'), (2010, 'MS'), (2010, 'LA'), (2012, 'MS'), (2009, 'LA'), (2009, 'MS'), (2010, 'GA'), (2008, 'LA'), (2011, 'GA'), (2011, 'LA'), (2008, 'MS'), (2013, 'MS'), (2011, 'AL'), (2009, 'AL'), (2011, 'SC'), (2008, 'AL'), (2009, 'AR'), (2009, 'GA'), (2009, 'SC'), (2007, 'LA')]\n",
      "\n",
      "Latent Feature 15\n",
      "[(1998, 'MS'), (1997, 'MS'), (1999, 'MS'), (1999, 'LA'), (1999, 'GA'), (1997, 'SC'), (1998, 'LA'), (2001, 'MS'), (1996, 'LA'), (1998, 'SC'), (1999, 'SC'), (2000, 'GA'), (1997, 'GA'), (1998, 'GA'), (2000, 'LA'), (1997, 'AL'), (2000, 'MS'), (1996, 'AL'), (2000, 'AL'), (2000, 'SC')]\n",
      "\n",
      "None\n"
     ]
    }
   ],
   "source": [
    "W_, H_, nmf_ = run_tfidf_nmf(female_vectors, 15)"
   ]
  },
  {
   "cell_type": "code",
   "execution_count": 9,
   "metadata": {
    "collapsed": true
   },
   "outputs": [],
   "source": [
    "transposed = male_vectors.T\n",
    "W, H, nmf, error = run_nmf(transposed,10)"
   ]
  },
  {
   "cell_type": "code",
   "execution_count": 20,
   "metadata": {
    "collapsed": true
   },
   "outputs": [],
   "source": [
    "def print_W_H_features(W, H, W_features, H_features, top_features, data_matrix):\n",
    "    print \"Reconstruction Error: %f\" %reconst_mse(data_matrix, W, H)\n",
    "    for latent_num, latent in enumerate(H):\n",
    "        print \"Latent Feature %d\" % (int(latent_num) + 1)\n",
    "        print [H_features[i] for i in latent.argsort()[:-top_features-1:-1]]\n",
    "        W_latent = W[:,latent_num]\n",
    "        print [W_features[i] for i in W_latent.argsort()[:-top_features-1:-1]]\n",
    "        print"
   ]
  },
  {
   "cell_type": "code",
   "execution_count": 31,
   "metadata": {
    "collapsed": true
   },
   "outputs": [],
   "source": [
    "def reconst_mse(target, left, right):\n",
    "    return (np.array(target - left.dot(right))**2).sum()"
   ]
  },
  {
   "cell_type": "code",
   "execution_count": 32,
   "metadata": {
    "collapsed": false
   },
   "outputs": [],
   "source": [
    "H_features = transposed.columns\n",
    "W_features = male_vectors.columns"
   ]
  },
  {
   "cell_type": "code",
   "execution_count": 33,
   "metadata": {
    "collapsed": false
   },
   "outputs": [
    {
     "name": "stdout",
     "output_type": "stream",
     "text": [
      "Reconstruction Error: 2544.010958\n",
      "Latent Feature 1\n",
      "[(1989, 'DC'), (1922, 'HI'), (1920, 'HI'), (1924, 'HI'), (1921, 'HI'), (1923, 'HI'), (1919, 'HI'), (1925, 'HI'), (1926, 'HI'), (1918, 'HI'), (1917, 'HI'), (1990, 'DC'), (1916, 'HI'), (1927, 'HI'), (1957, 'AR'), (1948, 'OK'), (1958, 'AR'), (1947, 'OK'), (1959, 'OK'), (1949, 'OK')]\n",
      "['Ott', 'Ovide', 'Aristide', 'Ovey', 'Loveless', 'Elzy', 'Moir', 'Alvey', 'Carvel', 'Minter', 'Waitman', 'Erman', 'Abbie', 'Cebert', 'Therion', 'Saford', 'Aswell', 'Moultrie', 'Dolph', 'Herold']\n",
      "\n",
      "Latent Feature 2\n",
      "[(2008, 'SD'), (2007, 'WY'), (2007, 'SD'), (2004, 'WY'), (2005, 'SD'), (2006, 'IA'), (2007, 'LA'), (2006, 'MT'), (2008, 'ND'), (2005, 'WY'), (2003, 'SD'), (2006, 'WY'), (2006, 'ND'), (2004, 'MT'), (2006, 'SD'), (2008, 'AR'), (2007, 'ND'), (2007, 'IA'), (2006, 'LA'), (2004, 'SD')]\n",
      "['Ethan', 'Logan', 'Aiden', 'Hunter', 'Brayden', 'Landon', 'Caleb', 'Gavin', 'Kaden', 'Jayden', 'Hayden', 'Jacob', 'Jackson', 'Noah', 'Mason', 'Dylan', 'Wyatt', 'Connor', 'Caden', 'Carter']\n",
      "\n",
      "Latent Feature 3\n",
      "[(1995, 'AR'), (1993, 'ND'), (1992, 'KS'), (1994, 'AR'), (1994, 'MT'), (1994, 'SD'), (1993, 'MT'), (1994, 'KS'), (1994, 'VT'), (1993, 'SD'), (1994, 'IN'), (1993, 'VT'), (1993, 'KS'), (1992, 'IA'), (1993, 'OK'), (1996, 'AR'), (1996, 'OK'), (1994, 'MO'), (1992, 'ND'), (1992, 'OR')]\n",
      "['Joshua', 'Tyler', 'Brandon', 'Zachary', 'Justin', 'Jacob', 'Cody', 'Ryan', 'Christopher', 'Matthew', 'Austin', 'Michael', 'Jordan', 'Nicholas', 'Kyle', 'Dylan', 'Andrew', 'Jonathan', 'Dustin', 'Daniel']\n",
      "\n",
      "Latent Feature 4\n",
      "[(1978, 'ND'), (1979, 'SD'), (1977, 'ND'), (1978, 'IA'), (1980, 'NE'), (1979, 'NE'), (1976, 'MN'), (1977, 'SD'), (1979, 'ND'), (1979, 'IA'), (1977, 'IA'), (1978, 'SD'), (1980, 'ME'), (1976, 'NE'), (1977, 'MN'), (1976, 'ID'), (1978, 'VT'), (1979, 'VT'), (1977, 'NE'), (1979, 'KS')]\n",
      "['Christopher', 'Jason', 'Joshua', 'Michael', 'Matthew', 'Jeremy', 'Justin', 'Brian', 'Ryan', 'Brandon', 'David', 'Kevin', 'Eric', 'Aiden', 'Jonathan', 'Daniel', 'Jayden', 'Jeffrey', 'Scott', 'Chad']\n",
      "\n",
      "Latent Feature 5\n",
      "[(2006, 'AZ'), (2005, 'AZ'), (2007, 'AZ'), (2006, 'NM'), (2008, 'TX'), (2004, 'AZ'), (2007, 'TX'), (2009, 'TX'), (2006, 'CA'), (2009, 'NM'), (2009, 'AZ'), (2008, 'AZ'), (2006, 'TX'), (2007, 'NM'), (2005, 'CA'), (2007, 'CA'), (2002, 'AZ'), (2003, 'AZ'), (2005, 'TX'), (2011, 'TX')]\n",
      "['Jose', 'Angel', 'Jesus', 'Juan', 'Luis', 'Diego', 'Alejandro', 'Carlos', 'Miguel', 'Adrian', 'Daniel', 'Gabriel', 'Joshua', 'Manuel', 'Christian', 'Francisco', 'David', 'Eduardo', 'Jorge', 'Christopher']\n",
      "\n",
      "Latent Feature 6\n",
      "[(1963, 'ND'), (1962, 'SD'), (1960, 'MT'), (1960, 'SD'), (1958, 'SD'), (1962, 'ND'), (1957, 'SD'), (1959, 'ND'), (1957, 'ND'), (1958, 'MN'), (1956, 'SD'), (1963, 'SD'), (1959, 'MT'), (1956, 'ID'), (1955, 'ND'), (1959, 'MN'), (1961, 'MT'), (1960, 'ND'), (1958, 'ND'), (1953, 'SD')]\n",
      "['Michael', 'David', 'Richard', 'Gary', 'Mark', 'Robert', 'Steven', 'Ronald', 'Larry', 'Kevin', 'Aiden', 'John', 'Jayden', 'Jeffrey', 'Timothy', 'Dennis', 'Kenneth', 'James', 'Scott', 'Thomas']\n",
      "\n",
      "Latent Feature 7\n",
      "[(2014, 'SD'), (2013, 'OK'), (2014, 'OK'), (2014, 'ND'), (2013, 'ND'), (2013, 'NE'), (2014, 'ID'), (2013, 'ID'), (2014, 'IA'), (2014, 'WV'), (2014, 'MT'), (2014, 'AR'), (2013, 'WY'), (2014, 'WY'), (2012, 'ND'), (2013, 'KS'), (2012, 'OK'), (2014, 'KS'), (2014, 'NE'), (2013, 'UT')]\n",
      "['Liam', 'Aiden', 'Mason', 'Bentley', 'Jaxon', 'Easton', 'Carter', 'Wyatt', 'Jayden', 'Jackson', 'Brayden', 'Landon', 'Hudson', 'Logan', 'Noah', 'Cooper', 'Jace', 'Ryker', 'Ryder', 'Elijah']\n",
      "\n",
      "Latent Feature 8\n",
      "[(2013, 'NY'), (2009, 'RI'), (2012, 'NY'), (2014, 'NJ'), (2013, 'NJ'), (2010, 'MA'), (2011, 'NY'), (2012, 'NJ'), (2014, 'NY'), (2009, 'MA'), (2010, 'NY'), (2013, 'CT'), (2012, 'CT'), (2011, 'CT'), (2010, 'NJ'), (2011, 'NJ'), (2009, 'CT'), (2010, 'CT'), (2011, 'MA'), (2008, 'RI')]\n",
      "['Jayden', 'Aiden', 'Ethan', 'Joshua', 'Ryan', 'Liam', 'Noah', 'Dylan', 'Logan', 'Alexander', 'Michael', 'Matthew', 'Mason', 'Elijah', 'Aidan', 'Jacob', 'Christopher', 'Nicholas', 'Connor', 'Lucas']\n",
      "\n",
      "Latent Feature 9\n",
      "[(2010, 'MS'), (2009, 'MS'), (2012, 'MS'), (2014, 'MS'), (2008, 'MS'), (2013, 'MS'), (2007, 'MS'), (2011, 'MS'), (2009, 'LA'), (2007, 'LA'), (2006, 'MS'), (2008, 'LA'), (2011, 'LA'), (2010, 'LA'), (2012, 'LA'), (2013, 'LA'), (2005, 'MS'), (2010, 'GA'), (2013, 'SC'), (2011, 'AL')]\n",
      "['Joshua', 'James', 'Jayden', 'Christopher', 'Aiden', 'William', 'Brandon', 'Justin', 'Landon', 'Elijah', 'Larry', 'Willie', 'Charles', 'Jeremiah', 'Brayden', 'Christian', 'Jonathan', 'Bryson', 'Caleb', 'David']\n",
      "\n",
      "Latent Feature 10\n",
      "[(1922, 'HI'), (1924, 'HI'), (1920, 'HI'), (1921, 'HI'), (1923, 'HI'), (1919, 'HI'), (1925, 'HI'), (1926, 'HI'), (1918, 'HI'), (1917, 'HI'), (1915, 'HI'), (1916, 'HI'), (1927, 'HI'), (1914, 'HI'), (1912, 'HI'), (1913, 'HI'), (1929, 'HI'), (1931, 'HI'), (1930, 'HI'), (1916, 'ME')]\n",
      "['Robert', 'Richard', 'John', 'George', 'Donald', 'William', 'Masao', 'Yoshio', 'Joseph', 'Harold', 'Edward', 'Aiden', 'Frank', 'Raymond', 'Hiroshi', 'Joshua', 'Kenneth', 'Kiyoshi', 'Hideo', 'Albert']\n",
      "\n"
     ]
    }
   ],
   "source": [
    "print_W_H_features(W, H, W_features, H_features, 20, transposed)"
   ]
  },
  {
   "cell_type": "code",
   "execution_count": 42,
   "metadata": {
    "collapsed": false
   },
   "outputs": [
    {
     "data": {
      "text/plain": [
       "[39.53032932669974,\n",
       " 38.612731887722404,\n",
       " 37.757367673950846,\n",
       " 37.043123899865485,\n",
       " 36.31767460612842,\n",
       " 35.69197549749814,\n",
       " 35.09561344372245,\n",
       " 34.56712223081152,\n",
       " 34.10522483470769,\n",
       " 33.64559230208954,\n",
       " 33.26139165557047,\n",
       " 32.896186486272576,\n",
       " 32.51920145348527,\n",
       " 32.12959062244839,\n",
       " 31.75075147844323]"
      ]
     },
     "execution_count": 42,
     "metadata": {},
     "output_type": "execute_result"
    }
   ],
   "source": [
    "k_list = [x for x in range(52,76,2)]\n",
    "error_list3 = []\n",
    "\n",
    "for k in k_list:\n",
    "    w, h, male_nmf, error = run_nmf(transposed, k)\n",
    "    error_list3.append(error)\n",
    "\n",
    "error_list3"
   ]
  },
  {
   "cell_type": "code",
   "execution_count": null,
   "metadata": {
    "collapsed": true
   },
   "outputs": [],
   "source": [
    "transposed_df = female_vectors.T"
   ]
  },
  {
   "cell_type": "code",
   "execution_count": null,
   "metadata": {
    "collapsed": true
   },
   "outputs": [],
   "source": [
    "k_list_f = [x for x in range(2,51,2)]\n",
    "error_list_f = []\n",
    "\n",
    "for k in k_list_f:\n",
    "    w, h, female_nmf, error = run_nmf(transposed_df, k)\n",
    "    error_list_f.append(error)\n",
    "\n",
    "error_list_f"
   ]
  },
  {
   "cell_type": "code",
   "execution_count": 40,
   "metadata": {
    "collapsed": false
   },
   "outputs": [
    {
     "data": {
      "text/plain": [
       "[85.16654142339642,\n",
       " 66.98656003882914,\n",
       " 58.789589948657785,\n",
       " 53.994947590796215,\n",
       " 50.440235238352464,\n",
       " 47.84744282860595,\n",
       " 45.48567818837474,\n",
       " 43.583333839114964,\n",
       " 41.984344529560026,\n",
       " 40.62895534061652]"
      ]
     },
     "execution_count": 40,
     "metadata": {},
     "output_type": "execute_result"
    }
   ],
   "source": [
    "error_list"
   ]
  },
  {
   "cell_type": "code",
   "execution_count": 43,
   "metadata": {
    "collapsed": true
   },
   "outputs": [],
   "source": [
    "male_error = error_list + error_list2"
   ]
  },
  {
   "cell_type": "code",
   "execution_count": 48,
   "metadata": {
    "collapsed": false
   },
   "outputs": [
    {
     "data": {
      "text/plain": [
       "[<matplotlib.lines.Line2D at 0x1c1a02ad0>]"
      ]
     },
     "execution_count": 48,
     "metadata": {},
     "output_type": "execute_result"
    },
    {
     "data": {
      "image/png": "[encoded data removed]",
      "text/plain": [
       "<matplotlib.figure.Figure at 0x1d06f3050>"
      ]
     },
     "metadata": {},
     "output_type": "display_data"
    }
   ],
   "source": [
    "plt.plot([x for x in range(2,51,2)], male_error)"
   ]
  },
  {
   "cell_type": "code",
   "execution_count": 49,
   "metadata": {
    "collapsed": false
   },
   "outputs": [
    {
     "data": {
      "text/plain": [
       "[85.16654142339642,\n",
       " 66.98656003882914,\n",
       " 58.789589948657785,\n",
       " 53.994947590796215,\n",
       " 50.440235238352464,\n",
       " 47.84744282860595,\n",
       " 45.48567818837474,\n",
       " 43.583333839114964,\n",
       " 41.984344529560026,\n",
       " 40.62895534061652,\n",
       " 39.53032932669974,\n",
       " 38.612731887722404,\n",
       " 37.757367673950846,\n",
       " 37.043123899865485,\n",
       " 36.31767460612842,\n",
       " 35.69197549749814,\n",
       " 35.09561344372245,\n",
       " 34.56712223081152,\n",
       " 34.10522483470769,\n",
       " 33.64559230208954,\n",
       " 33.26139165557047,\n",
       " 32.896186486272576,\n",
       " 32.51920145348527,\n",
       " 32.12959062244839,\n",
       " 31.75075147844323]"
      ]
     },
     "execution_count": 49,
     "metadata": {},
     "output_type": "execute_result"
    }
   ],
   "source": [
    "male_error"
   ]
  },
  {
   "cell_type": "code",
   "execution_count": null,
   "metadata": {
    "collapsed": true
   },
   "outputs": [],
   "source": []
  },
  {
   "cell_type": "code",
   "execution_count": 51,
   "metadata": {
    "collapsed": true
   },
   "outputs": [],
   "source": [
    "new_male = df_clean[df_clean.Gender == 'M']"
   ]
  },
  {
   "cell_type": "code",
   "execution_count": 52,
   "metadata": {
    "collapsed": true
   },
   "outputs": [],
   "source": [
    "transformer = TfidfTransformer()"
   ]
  },
  {
   "cell_type": "code",
   "execution_count": 55,
   "metadata": {
    "collapsed": false
   },
   "outputs": [],
   "source": [
    "new_pivot = pd.pivot_table(new_male, values='Count_by_name',index='new_name', columns='tuple_index')"
   ]
  },
  {
   "cell_type": "code",
   "execution_count": 57,
   "metadata": {
    "collapsed": false
   },
   "outputs": [],
   "source": [
    "new_pivot = new_pivot.fillna(0)"
   ]
  },
  {
   "cell_type": "code",
   "execution_count": 60,
   "metadata": {
    "collapsed": false
   },
   "outputs": [],
   "source": [
    "matrix = transformer.fit_transform(new_pivot)"
   ]
  },
  {
   "cell_type": "code",
   "execution_count": 61,
   "metadata": {
    "collapsed": true
   },
   "outputs": [],
   "source": [
    "W, H, nmf, error = run_nmf(matrix,15)"
   ]
  },
  {
   "cell_type": "code",
   "execution_count": 65,
   "metadata": {
    "collapsed": false
   },
   "outputs": [],
   "source": [
    "H_features = new_pivot.columns\n",
    "W_index = new_pivot.index.values"
   ]
  },
  {
   "cell_type": "code",
   "execution_count": 66,
   "metadata": {
    "collapsed": false
   },
   "outputs": [
    {
     "name": "stdout",
     "output_type": "stream",
     "text": [
      "Reconstruction Error: 9833.035046\n",
      "Latent Feature 1\n",
      "[(2005, 'CA'), (2006, 'CA'), (2004, 'CA'), (2003, 'CA'), (2007, 'CA'), (2002, 'CA'), (2001, 'CA'), (2000, 'CA'), (1999, 'CA'), (1998, 'CA'), (2008, 'CA'), (1997, 'CA'), (1996, 'CA'), (2005, 'TX'), (2006, 'TX'), (2004, 'TX'), (2007, 'TX'), (2003, 'TX'), (2002, 'TX'), (1995, 'CA')]\n",
      "['saahil', 'andru', 'oswaldo', 'ulices', 'sriram', 'isac', 'andruw', 'harjot', 'brallan', 'luisangel', 'zahid', 'aldair', 'marck', 'diego', 'alexis', 'imanol', 'anmol', 'adal', 'ab', 'denilson']\n",
      "\n",
      "Latent Feature 2\n",
      "[(1961, 'CA'), (1960, 'CA'), (1962, 'CA'), (1963, 'CA'), (1959, 'CA'), (1958, 'CA'), (1964, 'CA'), (1965, 'CA'), (1957, 'CA'), (1969, 'CA'), (1970, 'CA'), (1967, 'CA'), (1968, 'CA'), (1966, 'CA'), (1956, 'CA'), (1970, 'NY'), (1955, 'CA'), (1954, 'CA'), (1971, 'CA'), (1959, 'NY')]\n",
      "['craig', 'gregory', 'mark', 'keith', 'daryl', 'jon', 'kirk', 'chris', 'jeffrey', 'steven', 'timothy', 'douglas', 'david', 'gregg', 'scott', 'michael', 'cary', 'jeffery', 'rodney', 'greg']\n",
      "\n",
      "Latent Feature 3\n",
      "[(2012, 'NY'), (2013, 'NY'), (2014, 'NY'), (2011, 'NY'), (2010, 'NY'), (2008, 'NY'), (2009, 'NY'), (2007, 'NY'), (2006, 'NY'), (2005, 'NY'), (2003, 'NY'), (2004, 'NY'), (2002, 'NY'), (2001, 'NY'), (2000, 'NY'), (1998, 'NY'), (1999, 'NY'), (1997, 'NY'), (1996, 'NY'), (1995, 'NY')]\n",
      "['shimon', 'yakov', 'moshe', 'mordechai', 'shulem', 'usher', 'yechiel', 'menachem', 'hershy', 'meir', 'elimelech', 'shaya', 'yosef', 'shlomo', 'yitzchok', 'lipa', 'simcha', 'zev', 'lazer', 'shlome']\n",
      "\n",
      "Latent Feature 4\n",
      "[(1948, 'TX'), (1947, 'TX'), (1949, 'TX'), (1924, 'TX'), (1946, 'TX'), (1930, 'TX'), (1929, 'TX'), (1928, 'TX'), (1950, 'TX'), (1925, 'TX'), (1927, 'TX'), (1945, 'TX'), (1952, 'TX'), (1951, 'TX'), (1931, 'TX'), (1953, 'TX'), (1934, 'TX'), (1935, 'TX'), (1944, 'TX'), (1926, 'TX')]\n",
      "['domingo', 'guadalupe', 'margarito', 'agapito', 'eusebio', 'natividad', 'isabel', 'catarino', 'candelario', 'lupe', 'apolonio', 'eulalio', 'teodoro', 'seferino', 'severo', 'anastacio', 'librado', 'celestino', 'encarnacion', 'weldon']\n",
      "\n",
      "Latent Feature 5\n",
      "[(2014, 'FL'), (2012, 'FL'), (2014, 'OH'), (2013, 'OH'), (2011, 'FL'), (2013, 'FL'), (2012, 'OH'), (2010, 'FL'), (2009, 'FL'), (2011, 'OH'), (2010, 'OH'), (2014, 'PA'), (2014, 'GA'), (2009, 'OH'), (2013, 'GA'), (2013, 'PA'), (2012, 'GA'), (2012, 'PA'), (2014, 'NC'), (2008, 'FL')]\n",
      "['camden', 'carter', 'brayden', 'caiden', 'brycen', 'landen', 'kaiden', 'cayden', 'landyn', 'zander', 'landon', 'brody', 'cohen', 'cooper', 'kamden', 'kayden', 'sawyer', 'rylan', 'maddox', 'jackson']\n",
      "\n",
      "Latent Feature 6\n",
      "[(1991, 'CA'), (1990, 'CA'), (1992, 'CA'), (1989, 'CA'), (1993, 'CA'), (1988, 'CA'), (1994, 'CA'), (1986, 'CA'), (1987, 'CA'), (1985, 'CA'), (1995, 'CA'), (1984, 'CA'), (1983, 'CA'), (1982, 'CA'), (1996, 'CA'), (1981, 'CA'), (1997, 'CA'), (1980, 'CA'), (1998, 'CA'), (1979, 'CA')]\n",
      "['alejandra', 'rocio', 'daisy', 'gabriela', 'yesenia', 'mayra', 'bijan', 'adriana', 'liliana', 'karina', 'ana', 'vanessa', 'arash', 'hagop', 'thong', 'kao', 'xiong', 'phong', 'pao', 'chistian']\n",
      "\n",
      "Latent Feature 7\n",
      "[(2014, 'CA'), (2014, 'TX'), (2014, 'NY'), (2014, 'FL'), (2014, 'NJ'), (2007, 'CA'), (2013, 'NY'), (2011, 'CA'), (2014, 'WA'), (2014, 'IL'), (2014, 'UT'), (2012, 'NJ'), (2013, 'NJ'), (2014, 'AZ'), (2014, 'OH'), (2014, 'MI'), (2006, 'CA'), (2013, 'WA'), (2014, 'PA'), (2010, 'NJ')]\n",
      "['noeh', 'klyde', 'hamad', 'navarro', 'yichen', 'iktan', 'asiah', 'gurfateh', 'arihant', 'taniela', 'ilay', 'lio', 'rivan', 'merrik', 'mayank', 'nirvan', 'viyan', 'ciel', 'caspar', 'kavir']\n",
      "\n",
      "Latent Feature 8\n",
      "[(1999, 'TX'), (1998, 'TX'), (2000, 'TX'), (1997, 'TX'), (1995, 'TX'), (1996, 'TX'), (2001, 'TX'), (1994, 'TX'), (1994, 'NY'), (1993, 'TX'), (1995, 'NY'), (1993, 'NY'), (1992, 'TX'), (2002, 'TX'), (1994, 'IL'), (1992, 'NY'), (1993, 'IL'), (1996, 'IL'), (1996, 'NY'), (1997, 'FL')]\n",
      "['zachery', 'darius', 'zachary', 'jarrett', 'marquis', 'devon', 'zackery', 'deonte', 'deandre', 'marquise', 'austin', 'devonte', 'tyler', 'cody', 'devin', 'jordon', 'trevon', 'johnathon', 'dakota', 'dandre']\n",
      "\n",
      "Latent Feature 9\n",
      "[(1989, 'DC'), (1990, 'DC'), (1986, 'NY'), (1984, 'TX'), (1979, 'NY'), (1984, 'NY'), (1980, 'CA'), (1986, 'TX'), (1983, 'TX'), (1982, 'NY'), (1970, 'NY'), (1985, 'NY'), (1977, 'NY'), (1989, 'CA'), (1982, 'TX'), (1987, 'NY'), (1988, 'NY'), (1976, 'NY'), (1962, 'NY'), (1985, 'CA')]\n",
      "['arielle', 'elise', 'elisabeth', 'latisha', 'suzanne', 'cara', 'tanisha', 'rashida', 'alissa', 'asha', 'nadia', 'latonya', 'ikea', 'colleen', 'india', 'latoya', 'brittani', 'dionne', 'precious', 'candace']\n",
      "\n",
      "Latent Feature 10\n",
      "[(2010, 'CA'), (2009, 'CA'), (2011, 'CA'), (2008, 'CA'), (2007, 'CA'), (2006, 'CA'), (2009, 'TX'), (2010, 'TX'), (2011, 'TX'), (2009, 'NY'), (2008, 'TX'), (2009, 'FL'), (2012, 'TX'), (2010, 'FL'), (2008, 'NJ'), (2011, 'FL'), (2009, 'NJ'), (2011, 'NJ'), (2010, 'NY'), (2010, 'NJ')]\n",
      "['julyan', 'jocsan', 'rai', 'jullien', 'koston', 'kieren', 'ethanjames', 'zedekiah', 'dezi', 'zekiel', 'jeffren', 'izmael', 'matteus', 'yosgart', 'cypress', 'andersen', 'isaia', 'yosgar', 'broxton', 'gurnoor']\n",
      "\n",
      "Latent Feature 11\n",
      "[(2013, 'CA'), (2011, 'CA'), (2013, 'TX'), (2013, 'FL'), (2014, 'NY'), (2014, 'FL'), (2013, 'NJ'), (2014, 'NJ'), (2013, 'NY'), (2014, 'WA'), (2013, 'IL'), (2014, 'IL'), (2014, 'PA'), (2006, 'CA'), (2013, 'WA'), (2012, 'WA'), (2011, 'NJ'), (2004, 'CA'), (2012, 'NY'), (2012, 'NJ')]\n",
      "['jishnu', 'kyo', 'caellum', 'hamish', 'kassius', 'vonn', 'sagan', 'saatvik', 'oswin', 'mataio', 'aum', 'stavro', 'marcjacob', 'rowyn', 'mantej', 'zayed', 'balthazar', 'ej', 'cheveyo', 'yahshua']\n",
      "\n",
      "Latent Feature 12\n",
      "[(1917, 'NY'), (1918, 'NY'), (1920, 'NY'), (1922, 'NY'), (1924, 'NY'), (1915, 'NY'), (1916, 'NY'), (1923, 'NY'), (1921, 'NY'), (1926, 'NY'), (1925, 'NY'), (1919, 'NY'), (1927, 'NY'), (1928, 'NY'), (1929, 'NY'), (1918, 'PA'), (1930, 'NY'), (1914, 'NY'), (1921, 'PA'), (1924, 'PA')]\n",
      "['herbert', 'herman', 'harold', 'walter', 'willard', 'clarence', 'chester', 'lester', 'earl', 'howard', 'wilbur', 'fred', 'harry', 'milton', 'willis', 'george', 'eugene', 'henry', 'wallace', 'elmer']\n",
      "\n",
      "Latent Feature 13\n",
      "[(2014, 'TX'), (2013, 'TX'), (2012, 'TX'), (2011, 'TX'), (2010, 'TX'), (2009, 'TX'), (2008, 'TX'), (2007, 'TX'), (2006, 'TX'), (2005, 'TX'), (2004, 'TX'), (2003, 'TX'), (2002, 'TX'), (2001, 'TX'), (2000, 'TX'), (1999, 'TX'), (2014, 'FL'), (1998, 'TX'), (2013, 'FL'), (1997, 'TX')]\n",
      "['witten', 'haygen', 'kutter', 'rhyder', 'granger', 'brazos', 'xzavian', 'kaeson', 'townes', 'kacen', 'caison', 'holt', 'ediel', 'kase', 'kinsler', 'slayton', 'ranger', 'burhanuddin', 'kasyn', 'zaeden']\n",
      "\n",
      "Latent Feature 14\n",
      "[(2012, 'CA'), (2011, 'CA'), (2008, 'CA'), (2012, 'TX'), (2004, 'CA'), (2012, 'FL'), (2012, 'NY'), (2013, 'FL'), (2011, 'TX'), (2012, 'NJ'), (2014, 'WA'), (2013, 'NJ'), (2012, 'IL'), (2014, 'FL'), (2013, 'WA'), (2012, 'WA'), (2013, 'IL'), (2012, 'AZ'), (2014, 'NJ'), (2010, 'NJ')]\n",
      "['athos', 'aydeen', 'viren', 'izacc', 'harsha', 'leeam', 'leeon', 'yegor', 'giordan', 'auguste', 'yerick', 'edrik', 'nicasio', 'xian', 'shailen', 'escher', 'paxon', 'soul', 'rivaan', 'kalden']\n",
      "\n",
      "Latent Feature 15\n",
      "[(2004, 'KY'), (1990, 'DC'), (2005, 'TX'), (2003, 'PA'), (1994, 'CA'), (2004, 'TX'), (1988, 'CA'), (2006, 'TX'), (1993, 'CA'), (1921, 'GA'), (1930, 'GA'), (2008, 'MD'), (1929, 'NC'), (2005, 'PA'), (1930, 'TX'), (1918, 'NC'), (1995, 'TX'), (2007, 'TX'), (1947, 'NY'), (2003, 'TX')]\n",
      "['carly', 'brooklynn', 'alana', 'zoey', 'savanna', 'savannah', 'lily', 'autumn', 'lilly', 'gracie', 'mariah', 'serenity', 'jayla', 'alexia', 'breanna', 'abigayle', 'aliyah', 'shayla', 'kirsten', 'layla']\n",
      "\n"
     ]
    }
   ],
   "source": [
    "print_W_H_features(W, H, W_index, H_features, 20, matrix)"
   ]
  },
  {
   "cell_type": "code",
   "execution_count": null,
   "metadata": {
    "collapsed": true
   },
   "outputs": [],
   "source": []
  },
  {
   "cell_type": "code",
   "execution_count": null,
   "metadata": {
    "collapsed": true
   },
   "outputs": [],
   "source": []
  },
  {
   "cell_type": "code",
   "execution_count": 68,
   "metadata": {
    "collapsed": true
   },
   "outputs": [],
   "source": [
    "new_female = df_clean[df_clean.Gender == 'F']\n",
    "fem_pivot = pd.pivot_table(new_female, values='Count_by_name',index='new_name', columns='tuple_index').fillna(0)"
   ]
  },
  {
   "cell_type": "code",
   "execution_count": 202,
   "metadata": {
    "collapsed": true
   },
   "outputs": [],
   "source": []
  },
  {
   "cell_type": "code",
   "execution_count": 69,
   "metadata": {
    "collapsed": false
   },
   "outputs": [],
   "source": [
    "fem_matrix = transformer.fit_transform(fem_pivot)"
   ]
  },
  {
   "cell_type": "code",
   "execution_count": 70,
   "metadata": {
    "collapsed": true
   },
   "outputs": [],
   "source": [
    "H_features = fem_pivot.columns\n",
    "W_index = fem_pivot.index.values"
   ]
  },
  {
   "cell_type": "code",
   "execution_count": 72,
   "metadata": {
    "collapsed": true
   },
   "outputs": [],
   "source": [
    "W, H, nmf, error = run_nmf(fem_matrix,15)"
   ]
  },
  {
   "cell_type": "code",
   "execution_count": 110,
   "metadata": {
    "collapsed": false
   },
   "outputs": [
    {
     "name": "stdout",
     "output_type": "stream",
     "text": [
      "Reconstruction Error: 15012.339721\n",
      "Latent Feature 1\n",
      "[(2014, 'FL'), (2012, 'FL'), (2011, 'FL'), (2013, 'FL'), (2010, 'FL'), (2009, 'FL'), (2008, 'FL'), (2007, 'FL'), (2008, 'GA'), (2011, 'GA'), (2012, 'GA'), (2013, 'OH'), (2014, 'OH'), (2013, 'GA'), (2010, 'GA'), (2012, 'OH'), (2009, 'GA'), (2014, 'GA'), (2011, 'OH'), (2009, 'OH'), (2010, 'OH'), (2006, 'FL'), (2008, 'OH'), (2007, 'GA'), (2011, 'IL'), (2012, 'IL'), (2010, 'IL'), (2012, 'PA'), (2013, 'IL'), (2009, 'IL'), (2007, 'OH'), (2010, 'NC'), (2014, 'NC'), (2011, 'NC'), (2014, 'IL'), (2013, 'NC'), (2014, 'PA'), (2012, 'NC'), (2011, 'PA'), (2009, 'NC')]\n",
      "['ryleigh', 'alivia', 'janiyah', 'amiyah', 'raegan', 'addison', 'amiya', 'harmony', 'kyleigh', 'braelyn', 'jaliyah', 'aniyah', 'gracelyn', 'piper', 'peyton', 'zion', 'kaliyah', 'alayna', 'hayden', 'reese', 'jamiyah', 'emerson', 'willow', 'kamiyah', 'rylee', 'janiya', 'maleah', 'addyson', 'ava', 'lilly', 'nevaeh', 'reagan', 'journey', 'london', 'payton', 'azaria', 'kamari', 'kaydence', 'jayda', 'cadence']\n",
      "\n",
      "Latent Feature 2\n",
      "[(1980, 'CA'), (1979, 'CA'), (1981, 'CA'), (1982, 'CA'), (1978, 'CA'), (1977, 'CA'), (1976, 'CA'), (1983, 'CA'), (1984, 'CA'), (1975, 'CA'), (1985, 'CA'), (1979, 'TX'), (1980, 'TX'), (1981, 'TX'), (1974, 'CA'), (1977, 'NY'), (1982, 'TX'), (1986, 'CA'), (1976, 'NY'), (1978, 'TX'), (1973, 'CA'), (1978, 'NY'), (1979, 'NY'), (1971, 'CA'), (1980, 'NY'), (1975, 'NY'), (1983, 'TX'), (1981, 'NY'), (1972, 'CA'), (1982, 'NY'), (1970, 'CA'), (1977, 'TX'), (1985, 'TX'), (1984, 'NY'), (1984, 'TX'), (1985, 'NY'), (1987, 'CA'), (1983, 'NY'), (1986, 'NY'), (1974, 'NY')]\n",
      "['jennifer', 'latisha', 'jason', 'heather', 'amie', 'shana', 'tasha', 'keri', 'kristy', 'shanna', 'tanisha', 'tara', 'christina', 'brandie', 'melissa', 'shannon', 'april', 'catrina', 'brandy', 'stefanie', 'christopher', 'chrystal', 'latasha', 'aimee', 'tamika', 'keisha', 'jamie', 'ami', 'erica', 'trisha', 'cristin', 'lakisha', 'kristin', 'mandy', 'nichole', 'candice', 'brandi', 'tamisha', 'shanon', 'erin']\n",
      "\n",
      "Latent Feature 3\n",
      "[(1961, 'CA'), (1962, 'CA'), (1960, 'CA'), (1963, 'CA'), (1964, 'CA'), (1959, 'CA'), (1958, 'CA'), (1957, 'CA'), (1965, 'CA'), (1956, 'CA'), (1966, 'CA'), (1967, 'CA'), (1968, 'CA'), (1955, 'CA'), (1961, 'NY'), (1964, 'NY'), (1963, 'NY'), (1960, 'NY'), (1959, 'NY'), (1969, 'CA'), (1954, 'CA'), (1962, 'NY'), (1958, 'NY'), (1957, 'NY'), (1965, 'NY'), (1970, 'CA'), (1956, 'NY'), (1953, 'CA'), (1955, 'NY'), (1966, 'NY'), (1954, 'NY'), (1967, 'NY'), (1952, 'CA'), (1961, 'TX'), (1960, 'TX'), (1962, 'TX'), (1959, 'TX'), (1964, 'TX'), (1968, 'NY'), (1963, 'TX')]\n",
      "['nanette', 'sheryl', 'karen', 'cheryl', 'pamela', 'terri', 'cynthia', 'terry', 'denise', 'penny', 'cathleen', 'kim', 'terrie', 'patti', 'robin', 'cathy', 'laurie', 'paula', 'lorrie', 'susan', 'chris', 'teri', 'toni', 'lynn', 'sherrie', 'kathy', 'jeri', 'rene', 'debora', 'suzanne', 'kathi', 'annette', 'debbie', 'nannette', 'geri', 'suzette', 'sheila', 'marla', 'vicki', 'suzan']\n",
      "\n",
      "Latent Feature 4\n",
      "[(1924, 'TX'), (1925, 'TX'), (1922, 'TX'), (1923, 'TX'), (1921, 'TX'), (1927, 'TX'), (1926, 'TX'), (1920, 'TX'), (1928, 'TX'), (1929, 'TX'), (1919, 'TX'), (1930, 'TX'), (1918, 'TX'), (1932, 'TX'), (1931, 'TX'), (1916, 'TX'), (1917, 'TX'), (1934, 'TX'), (1915, 'TX'), (1933, 'TX'), (1935, 'TX'), (1936, 'TX'), (1937, 'TX'), (1938, 'TX'), (1914, 'TX'), (1939, 'TX'), (1940, 'TX'), (1943, 'TX'), (1948, 'TX'), (1947, 'TX'), (1941, 'TX'), (1946, 'TX'), (1944, 'TX'), (1945, 'TX'), (1942, 'TX'), (1949, 'TX'), (1951, 'TX'), (1913, 'TX'), (1950, 'TX'), (1952, 'TX')]\n",
      "['bennie', 'tommie', 'jimmie', 'winnie', 'ola', 'lorine', 'johnnie', 'eddie', 'sammie', 'frankie', 'johnie', 'ima', 'jewel', 'ora', 'francis', 'ollie', 'birdie', 'ester', 'willie', 'odessa', 'syble', 'georgie', 'nell', 'santos', 'jesusa', 'linnie', 'josefa', 'ouida', 'ophelia', 'melba', 'dovie', 'artie', 'berta', 'freddie', 'refugia', 'dollie', 'felipa', 'ira', 'tomasa', 'loyce']\n",
      "\n",
      "Latent Feature 5\n",
      "[(2014, 'TX'), (2012, 'TX'), (2013, 'TX'), (2014, 'GA'), (2014, 'OH'), (2014, 'NY'), (2014, 'NC'), (2014, 'FL'), (2014, 'IL'), (2013, 'OH'), (2014, 'TN'), (2010, 'CA'), (2014, 'IN'), (2014, 'OK'), (2013, 'FL'), (2014, 'LA'), (2014, 'MO'), (2014, 'PA'), (2011, 'TX'), (2013, 'GA'), (2013, 'IN'), (2014, 'MI'), (2014, 'AZ'), (2013, 'TN'), (2014, 'AL'), (2012, 'UT'), (2013, 'OK'), (2013, 'UT'), (2012, 'GA'), (2014, 'UT'), (2013, 'NC'), (2014, 'KY'), (2014, 'WA'), (2013, 'IL'), (2014, 'VA'), (2013, 'NY'), (2014, 'CO'), (2013, 'MO'), (2014, 'AR'), (2011, 'UT')]\n",
      "['wylie', 'cashlynn', 'blyss', 'everlie', 'navey', 'analynn', 'liliah', 'amzie', 'everett', 'jenisha', 'jenisis', 'naiovy', 'roze', 'greenley', 'jleigh', 'munachiso', 'allyzon', 'evaleigh', 'misk', 'callyn', 'liviana', 'aleiya', 'kolette', 'kinzleigh', 'alazne', 'reygan', 'evoleht', 'kynzlie', 'graceyn', 'oluwademilade', 'oluwanifemi', 'grettell', 'oluwatomisin', 'leanah', 'xaylee', 'auriella', 'avriana', 'zeniyah', 'yazleemar', 'hartlee']\n",
      "\n",
      "Latent Feature 6\n",
      "[(2014, 'NY'), (2013, 'NY'), (2012, 'NY'), (2011, 'NY'), (2007, 'NY'), (2010, 'NY'), (2009, 'NY'), (2008, 'NY'), (2006, 'NY'), (2005, 'NY'), (2004, 'NY'), (2003, 'NY'), (2001, 'NY'), (2002, 'NY'), (2000, 'NY'), (1999, 'NY'), (1998, 'NY'), (1996, 'NY'), (1997, 'NY'), (1995, 'NY'), (1994, 'NY'), (1993, 'NY'), (1992, 'NY'), (1991, 'NY'), (1990, 'NY'), (1989, 'NY'), (1988, 'NY'), (1987, 'NY'), (2014, 'NJ'), (1986, 'NY'), (1984, 'NY'), (2012, 'NJ'), (2013, 'NJ'), (2011, 'NJ'), (1985, 'NY'), (2009, 'NJ'), (2010, 'NJ'), (2007, 'NJ'), (2008, 'NJ'), (1982, 'NY')]\n",
      "['faigy', 'malky', 'rivky', 'shaindy', 'raizy', 'baila', 'gitty', 'pessy', 'goldy', 'fraidy', 'hindy', 'etty', 'yides', 'henny', 'yitty', 'zissy', 'chany', 'blimy', 'liba', 'fatoumata', 'rifky', 'perl', 'breindy', 'chaya', 'rivka', 'chavy', 'mirel', 'aissatou', 'blima', 'malka', 'roizy', 'tzirel', 'fradel', 'brucha', 'atara', 'faiga', 'bruchy', 'trany', 'frimet', 'raizel']\n",
      "\n",
      "Latent Feature 7\n",
      "[(1998, 'TX'), (1997, 'TX'), (1996, 'TX'), (1999, 'TX'), (1995, 'TX'), (1993, 'TX'), (2000, 'TX'), (1994, 'TX'), (2001, 'TX'), (1992, 'TX'), (2002, 'TX'), (1991, 'TX'), (1990, 'TX'), (1997, 'FL'), (2003, 'TX'), (1996, 'FL'), (1998, 'FL'), (1994, 'FL'), (1995, 'FL'), (1989, 'TX'), (1995, 'NY'), (1999, 'FL'), (1996, 'OH'), (1997, 'OH'), (1994, 'NY'), (1995, 'OH'), (1993, 'FL'), (2000, 'FL'), (1998, 'OH'), (1994, 'OH'), (1996, 'NY'), (1996, 'IL'), (1994, 'IL'), (1998, 'NY'), (1993, 'NY'), (1997, 'NY'), (1998, 'IL'), (1995, 'IL'), (1999, 'OH'), (1992, 'FL')]\n",
      "['katlyn', 'cierra', 'taylor', 'jordan', 'kierra', 'haley', 'morgan', 'raven', 'alexus', 'tiara', 'ciera', 'ashton', 'diamond', 'shelby', 'kaitlin', 'lexus', 'tori', 'kayla', 'kelsie', 'alexandria', 'kelsi', 'halie', 'caitlyn', 'kelsey', 'katlin', 'hayley', 'tyler', 'tierra', 'hannah', 'ashleigh', 'kaitlyn', 'cayla', 'katelin', 'sierra', 'myranda', 'deja', 'cheyenne', 'katlynn', 'darian', 'breanna']\n",
      "\n",
      "Latent Feature 8\n",
      "[(2014, 'CA'), (2013, 'TX'), (2014, 'FL'), (2014, 'NY'), (2014, 'IL'), (2013, 'FL'), (2014, 'NJ'), (2013, 'NJ'), (2014, 'MI'), (2014, 'WA'), (2013, 'NY'), (2014, 'OH'), (2014, 'AZ'), (2013, 'IL'), (2012, 'TX'), (2014, 'VA'), (2014, 'PA'), (2012, 'FL'), (2012, 'IL'), (2013, 'MI'), (2013, 'OH'), (2005, 'CA'), (2014, 'CO'), (2010, 'CA'), (2014, 'NC'), (2013, 'WA'), (2011, 'NY'), (2014, 'MA'), (2014, 'UT'), (2013, 'AZ'), (2014, 'WI'), (2013, 'MN'), (1993, 'CA'), (2014, 'IN'), (2002, 'CA'), (2013, 'PA'), (2012, 'MI'), (2011, 'PA'), (2014, 'MN'), (2012, 'WA')]\n",
      "['evalin', 'miral', 'videl', 'harleyquinn', 'indy', 'ellarose', 'posey', 'zoejane', 'prajna', 'crosby', 'setayesh', 'leoni', 'sloka', 'aarini', 'zanayah', 'marigold', 'oliana', 'mithra', 'jaanvi', 'quetzal', 'aaria', 'asenet', 'zanna', 'kaylonnie', 'khalessi', 'lanah', 'arna', 'jasneet', 'asmi', 'elara', 'dailynn', 'savreen', 'rosha', 'maisey', 'hiyab', 'alik', 'roselie', 'savvy', 'gursirat', 'veera']\n",
      "\n",
      "Latent Feature 9\n",
      "[(2013, 'TX'), (2012, 'TX'), (2011, 'TX'), (2009, 'TX'), (2010, 'TX'), (2008, 'TX'), (2007, 'TX'), (2006, 'TX'), (2005, 'TX'), (2004, 'TX'), (2003, 'TX'), (2002, 'TX'), (2001, 'TX'), (2000, 'TX'), (1999, 'TX'), (1998, 'TX'), (2012, 'OK'), (1995, 'TX'), (1997, 'TX'), (2010, 'OK'), (2013, 'OK'), (2009, 'UT'), (2009, 'OK'), (2008, 'UT'), (2014, 'OK'), (1996, 'TX'), (2014, 'LA'), (2011, 'OK'), (2012, 'UT'), (2013, 'UT'), (2012, 'LA'), (2010, 'UT'), (2011, 'UT'), (2009, 'AZ'), (2008, 'OK'), (2012, 'CA'), (2004, 'UT'), (1994, 'TX'), (2013, 'TN'), (2012, 'TN')]\n",
      "['layton', 'zailey', 'landrie', 'ameris', 'landree', 'abcde', 'aracelli', 'landrey', 'devany', 'debanhi', 'jlynn', 'natalyn', 'atlee', 'landri', 'landry', 'alizay', 'kynadee', 'presli', 'ainslee', 'kambry', 'alayiah', 'alizae', 'constanza', 'braleigh', 'haylen', 'tailyn', 'analee', 'devanny', 'zaylie', 'kynzie', 'kyndle', 'amery', 'aariyah', 'cambry', 'jazalyn', 'zaylin', 'kendalyn', 'taylyn', 'evolett', 'arilyn']\n",
      "\n",
      "Latent Feature 10\n",
      "[(2013, 'CA'), (2012, 'CA'), (2011, 'CA'), (2012, 'TX'), (2006, 'CA'), (2013, 'FL'), (2014, 'FL'), (2011, 'TX'), (2012, 'NY'), (2012, 'FL'), (2005, 'CA'), (2013, 'NY'), (2014, 'NY'), (2012, 'IL'), (2012, 'NJ'), (2013, 'IL'), (2013, 'NJ'), (2014, 'NJ'), (2013, 'TX'), (2011, 'NY'), (2003, 'CA'), (2014, 'WA'), (2004, 'CA'), (2012, 'WA'), (2013, 'AZ'), (2013, 'PA'), (2013, 'WA'), (2014, 'PA'), (2014, 'AZ'), (2011, 'NJ'), (2011, 'FL'), (2014, 'IL'), (2012, 'AZ'), (2011, 'WA'), (2010, 'NJ'), (2012, 'PA'), (2011, 'IL'), (2013, 'VA'), (2013, 'CO'), (2010, 'FL')]\n",
      "['anni', 'cateleya', 'belladonna', 'maylani', 'maybelline', 'brixton', 'manreet', 'mialani', 'maneh', 'mehar', 'ailee', 'olina', 'elizabella', 'aneya', 'siyona', 'ximenna', 'saiya', 'tonantzin', 'elize', 'yuli', 'laylonie', 'reet', 'kaede', 'zaidee', 'amberrose', 'simrit', 'annarose', 'aerilyn', 'cici', 'ellanore', 'eztli', 'kayleeann', 'dalexa', 'kataleyah', 'aleksia', 'chaitra', 'solstice', 'yeila', 'hade', 'stellarose']\n",
      "\n",
      "Latent Feature 11\n",
      "[(1918, 'NY'), (1921, 'NY'), (1922, 'NY'), (1917, 'NY'), (1924, 'NY'), (1916, 'NY'), (1915, 'NY'), (1920, 'NY'), (1927, 'NY'), (1923, 'NY'), (1919, 'NY'), (1925, 'NY'), (1926, 'NY'), (1918, 'PA'), (1928, 'NY'), (1921, 'PA'), (1917, 'PA'), (1920, 'PA'), (1929, 'NY'), (1924, 'PA'), (1922, 'PA'), (1919, 'PA'), (1923, 'PA'), (1925, 'PA'), (1916, 'PA'), (1930, 'NY'), (1915, 'PA'), (1914, 'NY'), (1926, 'PA'), (1927, 'PA'), (1931, 'NY'), (1928, 'PA'), (1932, 'NY'), (1929, 'PA'), (1918, 'IL'), (1930, 'PA'), (1933, 'NY'), (1913, 'NY'), (1934, 'NY'), (1916, 'IL')]\n",
      "['florence', 'eleanor', 'harriet', 'winifred', 'marion', 'helen', 'josephine', 'dorothea', 'ruth', 'agnes', 'gertrude', 'marie', 'genevieve', 'marian', 'irene', 'elinor', 'rose', 'dorothy', 'edythe', 'marguerite', 'marjorie', 'margaret', 'blanche', 'eleanore', 'adele', 'edith', 'june', 'angeline', 'esther', 'frances', 'alice', 'lillian', 'pearl', 'elsie', 'beatrice', 'jennie', 'henrietta', 'jean', 'margery', 'carmella']\n",
      "\n",
      "Latent Feature 12\n",
      "[(1991, 'CA'), (1990, 'CA'), (1992, 'CA'), (1993, 'CA'), (1989, 'CA'), (1994, 'CA'), (1988, 'CA'), (1995, 'CA'), (1987, 'CA'), (1986, 'CA'), (1996, 'CA'), (1985, 'CA'), (1984, 'CA'), (1983, 'CA'), (1997, 'CA'), (1982, 'CA'), (1981, 'CA'), (1998, 'CA'), (1980, 'CA'), (1999, 'CA'), (1992, 'TX'), (1990, 'TX'), (1991, 'TX'), (1993, 'TX'), (1994, 'TX'), (1979, 'CA'), (1989, 'TX'), (1995, 'TX'), (1978, 'CA'), (1988, 'TX'), (1977, 'CA'), (1986, 'TX'), (1987, 'TX'), (1996, 'TX'), (1976, 'CA'), (1985, 'TX'), (1975, 'CA'), (1984, 'TX'), (1997, 'TX'), (1982, 'TX')]\n",
      "['celene', 'edgar', 'alejandro', 'cintia', 'delmy', 'javier', 'erendira', 'tran', 'faviola', 'martiza', 'maira', 'talin', 'eduardo', 'raynisha', 'lisett', 'marrisa', 'champagne', 'mayra', 'livier', 'sergio', 'cristian', 'yecenia', 'neda', 'shabnam', 'kc', 'nou', 'yee', 'berenis', 'erendida', 'lai', 'bao', 'byanka', 'tannia', 'mariadejesus', 'jannet', 'edlin', 'andreina', 'andres', 'soua', 'miguel']\n",
      "\n",
      "Latent Feature 13\n",
      "[(2003, 'CA'), (2001, 'CA'), (2002, 'CA'), (2004, 'CA'), (2000, 'CA'), (2005, 'CA'), (2006, 'CA'), (1999, 'CA'), (1998, 'CA'), (1997, 'CA'), (1996, 'CA'), (2004, 'TX'), (2003, 'TX'), (2002, 'TX'), (2005, 'TX'), (2001, 'TX'), (2000, 'TX'), (1995, 'CA'), (2006, 'TX'), (1999, 'TX'), (1998, 'TX'), (1994, 'CA'), (2008, 'CA'), (2007, 'TX'), (1997, 'TX'), (2008, 'TX'), (2005, 'FL'), (1996, 'TX'), (2004, 'FL'), (1993, 'CA'), (2004, 'IL'), (2002, 'IL'), (2003, 'IL'), (2006, 'FL'), (2001, 'IL'), (2004, 'NY'), (2003, 'FL'), (2005, 'IL'), (2002, 'AZ'), (2000, 'IL')]\n",
      "['zitlaly', 'anahy', 'aparna', 'gissell', 'yazmeen', 'kazandra', 'morelia', 'xiana', 'xitlalic', 'jissel', 'gisselle', 'celest', 'citlally', 'gissele', 'citlalli', 'myrka', 'zitlali', 'taiz', 'alondra', 'sayra', 'muskaan', 'pricila', 'neida', 'yuliza', 'citlaly', 'desteny', 'lessly', 'jisel', 'jakelin', 'luzelena', 'laisha', 'lizbeth', 'prisila', 'gissel', 'citlali', 'litzi', 'angeles', 'erandy', 'sitlali', 'faythe']\n",
      "\n",
      "Latent Feature 14\n",
      "[(2009, 'CA'), (2010, 'CA'), (2008, 'CA'), (2011, 'CA'), (2006, 'CA'), (2005, 'CA'), (2009, 'TX'), (2010, 'TX'), (2008, 'TX'), (2004, 'CA'), (2009, 'FL'), (2009, 'NY'), (2008, 'IL'), (2010, 'FL'), (2009, 'IL'), (2008, 'FL'), (2008, 'NY'), (2008, 'AZ'), (2010, 'NY'), (2009, 'NJ'), (2011, 'NJ'), (2010, 'IL'), (2011, 'FL'), (2010, 'NJ'), (2009, 'AZ'), (2008, 'NJ'), (2010, 'AZ'), (2011, 'IL'), (2011, 'NY'), (2011, 'AZ'), (2007, 'AZ'), (2011, 'TX'), (2009, 'WA'), (2008, 'WA'), (2012, 'NJ'), (2010, 'WA'), (2007, 'NJ'), (2006, 'AZ'), (2007, 'FL'), (2009, 'PA')]\n",
      "['audreena', 'myleen', 'dorsa', 'maleiah', 'miette', 'gianelle', 'delailah', 'inika', 'meliyah', 'jasline', 'aimar', 'suriya', 'jaslyne', 'suriah', 'yexalen', 'jaydeen', 'neveen', 'aeva', 'yeira', 'sravya', 'jazline', 'bijou', 'zarai', 'riyana', 'emmalina', 'mio', 'kriti', 'jaeleen', 'surya', 'nico', 'simar', 'jazleen', 'jaydee', 'eleny', 'allisson', 'allysson', 'greydis', 'xitllali', 'mahathi', 'gweneth']\n",
      "\n",
      "Latent Feature 15\n",
      "[(2007, 'CA'), (2006, 'CA'), (2007, 'TX'), (2008, 'CA'), (2005, 'CA'), (2006, 'TX'), (2007, 'FL'), (2008, 'TX'), (2012, 'CA'), (2007, 'NY'), (2004, 'CA'), (2006, 'FL'), (2008, 'FL'), (2011, 'FL'), (2009, 'TX'), (2007, 'AZ'), (2006, 'NY'), (2011, 'CA'), (2006, 'AZ'), (2007, 'NJ'), (2007, 'IL'), (2005, 'TX'), (2009, 'FL'), (2006, 'NJ'), (2006, 'IL'), (2008, 'AZ'), (2008, 'NJ'), (2008, 'PA'), (2008, 'IL'), (2010, 'FL'), (2008, 'NY'), (2007, 'WA'), (2007, 'PA'), (2005, 'IL'), (2005, 'AZ'), (2005, 'FL'), (2007, 'GA'), (2008, 'NC'), (2007, 'MI'), (2005, 'WA')]\n",
      "['arihana', 'zaraya', 'goretti', 'joelie', 'suheidy', 'sua', 'naiema', 'haidi', 'alejah', 'misel', 'kaelly', 'annya', 'bindi', 'katelen', 'anina', 'sibylla', 'seriyah', 'aryona', 'caelin', 'saliha', 'jewelisa', 'ahlana', 'ivannia', 'vianet', 'aidsa', 'ayram', 'ayleth', 'padma', 'aylet', 'aviv', 'janesa', 'syanna', 'jenaveve', 'fianna', 'fergie', 'ashwika', 'micel', 'tatevik', 'yanell', 'breanah']\n",
      "\n"
     ]
    }
   ],
   "source": [
    "print_W_H_features(W, H, W_index, H_features, 40, fem_matrix)"
   ]
  },
  {
   "cell_type": "code",
   "execution_count": null,
   "metadata": {
    "collapsed": true
   },
   "outputs": [],
   "source": [
    "transposed_fem = fem_pivot.T"
   ]
  },
  {
   "cell_type": "code",
   "execution_count": 203,
   "metadata": {
    "collapsed": false
   },
   "outputs": [],
   "source": [
    "# transposed_fem[transposed_fem.darian > 0].darian.sort_values(ascending=False)"
   ]
  },
  {
   "cell_type": "code",
   "execution_count": 252,
   "metadata": {
    "collapsed": true
   },
   "outputs": [],
   "source": [
    "def return_W_H_features(W, H, W_features, H_features, top_features):\n",
    "    master_dict = {}\n",
    "    \n",
    "    for latent_num, latent in enumerate(H):\n",
    "        master_key = (int(latent_num) + 1)\n",
    "        feature_dict = {}\n",
    "        \n",
    "        top_h_features = [H_features[i] for i in latent.argsort()[:-top_features-1:-1]]\n",
    "        W_latent = W[:,latent_num]\n",
    "        top_w_features = [W_features[i] for i in W_latent.argsort()[:-top_features-1:-1]]\n",
    "        \n",
    "        feature_dict['H'] = top_h_features\n",
    "        feature_dict['W'] = top_w_features\n",
    "        master_dict[master_key] = feature_dict\n",
    "    \n",
    "    return master_dict"
   ]
  },
  {
   "cell_type": "code",
   "execution_count": 78,
   "metadata": {
    "collapsed": true
   },
   "outputs": [],
   "source": [
    "feature_dict = return_W_H_features(W, H, W_index, H_features, 40)"
   ]
  },
  {
   "cell_type": "code",
   "execution_count": 83,
   "metadata": {
    "collapsed": false
   },
   "outputs": [],
   "source": [
    "states = set()\n",
    "\n",
    "for tup in feature_dict[1]['H']:\n",
    "    states.add(tup[1])"
   ]
  },
  {
   "cell_type": "code",
   "execution_count": 106,
   "metadata": {
    "collapsed": false
   },
   "outputs": [],
   "source": [
    "csv_df = pd.DataFrame(feature_dict[1]['H'], columns = ['year', 'state'])"
   ]
  },
  {
   "cell_type": "code",
   "execution_count": 107,
   "metadata": {
    "collapsed": false
   },
   "outputs": [],
   "source": [
    "csv_df.year = csv_df['year'].astype(str) + '0101'"
   ]
  },
  {
   "cell_type": "code",
   "execution_count": 108,
   "metadata": {
    "collapsed": false
   },
   "outputs": [],
   "source": [
    "csv_df['date'] = pd.to_datetime(csv_df.year, format='%Y%m%d')"
   ]
  },
  {
   "cell_type": "code",
   "execution_count": 109,
   "metadata": {
    "collapsed": false
   },
   "outputs": [],
   "source": [
    "csv_df.to_csv('test.csv')"
   ]
  },
  {
   "cell_type": "code",
   "execution_count": 116,
   "metadata": {
    "collapsed": false
   },
   "outputs": [],
   "source": []
  },
  {
   "cell_type": "code",
   "execution_count": 194,
   "metadata": {
    "collapsed": false
   },
   "outputs": [],
   "source": [
    "# transposed_fem[transposed_fem.brandi > 0].brandi.sort_values(ascending=False)"
   ]
  },
  {
   "cell_type": "code",
   "execution_count": 152,
   "metadata": {
    "collapsed": false
   },
   "outputs": [
    {
     "data": {
      "text/plain": [
       "tuple_index\n",
       "(2014, CA)    11.0\n",
       "(2014, FL)     7.0\n",
       "(2013, TX)     7.0\n",
       "(2013, NY)     7.0\n",
       "(2014, NY)     5.0\n",
       "(2013, NJ)     5.0\n",
       "Name: daenerys, dtype: float64"
      ]
     },
     "execution_count": 152,
     "metadata": {},
     "output_type": "execute_result"
    }
   ],
   "source": [
    "transposed_fem[transposed_fem.daenerys > 0].daenerys.sort_values(ascending=False)"
   ]
  },
  {
   "cell_type": "code",
   "execution_count": 138,
   "metadata": {
    "collapsed": false
   },
   "outputs": [],
   "source": [
    "pd.set_option('max_rows',300)"
   ]
  },
  {
   "cell_type": "code",
   "execution_count": 150,
   "metadata": {
    "collapsed": true
   },
   "outputs": [],
   "source": [
    "user = pd.DataFrame(0, index=np.arange(1), columns=transposed_fem.columns)"
   ]
  },
  {
   "cell_type": "code",
   "execution_count": 177,
   "metadata": {
    "collapsed": false
   },
   "outputs": [],
   "source": [
    "got_dict = {'arya':35,\n",
    "           'brienne':5,\n",
    "           'daenerys':10,\n",
    "           \"shae\":15,\n",
    "           \"yara\":25,\n",
    "           \"margery\":10,\n",
    "           \"katlyn\":10,\n",
    "           'sansa': 10}"
   ]
  },
  {
   "cell_type": "code",
   "execution_count": 156,
   "metadata": {
    "collapsed": false
   },
   "outputs": [],
   "source": []
  },
  {
   "cell_type": "code",
   "execution_count": 158,
   "metadata": {
    "collapsed": true
   },
   "outputs": [],
   "source": [
    "user_dict = user.to_dict()"
   ]
  },
  {
   "cell_type": "code",
   "execution_count": 183,
   "metadata": {
    "collapsed": true
   },
   "outputs": [],
   "source": [
    "user_dict = {name:0 for name in transposed_fem.columns}"
   ]
  },
  {
   "cell_type": "code",
   "execution_count": 188,
   "metadata": {
    "collapsed": false
   },
   "outputs": [
    {
     "name": "stdout",
     "output_type": "stream",
     "text": [
      "sansa has never been recorded in this dataset and will not be included in the calculation\n"
     ]
    }
   ],
   "source": [
    "for key, value in got_dict.iteritems():\n",
    "    if key in user_dict:\n",
    "        user_dict[key] = value\n",
    "    else:\n",
    "        print \"{key} has never been recorded in this dataset and will not be included in the calculation\".format(key=key)"
   ]
  },
  {
   "cell_type": "code",
   "execution_count": 189,
   "metadata": {
    "collapsed": false
   },
   "outputs": [],
   "source": [
    "frame = pd.DataFrame(user_dict, index=np.arange(1))"
   ]
  },
  {
   "cell_type": "code",
   "execution_count": null,
   "metadata": {
    "collapsed": true
   },
   "outputs": [],
   "source": []
  },
  {
   "cell_type": "code",
   "execution_count": 204,
   "metadata": {
    "collapsed": true
   },
   "outputs": [],
   "source": [
    "fem_matrix_T = fem_matrix.T"
   ]
  },
  {
   "cell_type": "code",
   "execution_count": 267,
   "metadata": {
    "collapsed": true
   },
   "outputs": [],
   "source": [
    "W_, H_, fem_nmf, error = run_nmf(fem_matrix_T,30)"
   ]
  },
  {
   "cell_type": "code",
   "execution_count": 268,
   "metadata": {
    "collapsed": false
   },
   "outputs": [],
   "source": [
    "W_user = fem_nmf.transform(frame)\n",
    "# H_user = nmf.components_"
   ]
  },
  {
   "cell_type": "code",
   "execution_count": 269,
   "metadata": {
    "collapsed": false
   },
   "outputs": [],
   "source": [
    "W_features = transposed_fem.index.values\n",
    "H_features = transposed_fem.columns"
   ]
  },
  {
   "cell_type": "code",
   "execution_count": 270,
   "metadata": {
    "collapsed": false
   },
   "outputs": [
    {
     "data": {
      "text/plain": [
       "array([29,  3,  5])"
      ]
     },
     "execution_count": 270,
     "metadata": {},
     "output_type": "execute_result"
    }
   ],
   "source": [
    "W_user[0].argsort()[:-4:-1]"
   ]
  },
  {
   "cell_type": "code",
   "execution_count": 271,
   "metadata": {
    "collapsed": false
   },
   "outputs": [],
   "source": [
    "test_dict = return_W_H_features(W_, H_, W_features, H_features, 20)"
   ]
  },
  {
   "cell_type": "code",
   "execution_count": null,
   "metadata": {
    "collapsed": true
   },
   "outputs": [],
   "source": [
    " "
   ]
  },
  {
   "cell_type": "code",
   "execution_count": null,
   "metadata": {
    "collapsed": true
   },
   "outputs": [],
   "source": [
    "print_W_H_features(W_, H_, W_features, H_features, 20, fem_pivot)"
   ]
  },
  {
   "cell_type": "code",
   "execution_count": null,
   "metadata": {
    "collapsed": true
   },
   "outputs": [],
   "source": []
  },
  {
   "cell_type": "code",
   "execution_count": null,
   "metadata": {
    "collapsed": true
   },
   "outputs": [],
   "source": []
  }
 ],
 "metadata": {
  "kernelspec": {
   "display_name": "Python 2",
   "language": "python",
   "name": "python2"
  },
  "language_info": {
   "codemirror_mode": {
    "name": "ipython",
    "version": 2
   },
   "file_extension": ".py",
   "mimetype": "text/x-python",
   "name": "python",
   "nbconvert_exporter": "python",
   "pygments_lexer": "ipython2",
   "version": "2.7.11"
  }
 },
 "nbformat": 4,
 "nbformat_minor": 0
}
