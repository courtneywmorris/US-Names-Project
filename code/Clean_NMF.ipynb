{
 "cells": [
  {
   "cell_type": "code",
   "execution_count": 25,
   "metadata": {
    "collapsed": true
   },
   "outputs": [],
   "source": [
    "import pandas as pd\n",
    "import matplotlib.pylab as plt\n",
    "%matplotlib inline\n",
    "import numpy as np\n",
    "from numpy.linalg import svd\n",
    "from numpy.linalg import matrix_rank\n",
    "from sklearn.decomposition import NMF\n",
    "from numpy import array, matrix, linalg\n",
    "from clean_data import non_popular_clean, pivot_data"
   ]
  },
  {
   "cell_type": "code",
   "execution_count": 20,
   "metadata": {
    "collapsed": false
   },
   "outputs": [],
   "source": [
    "df = pd.read_csv('../../StateNames.csv')"
   ]
  },
  {
   "cell_type": "code",
   "execution_count": 4,
   "metadata": {
    "collapsed": true
   },
   "outputs": [],
   "source": [
    "def clean_data(df):#, pivot_vals, pivot_index, pivot_col):\n",
    "    df['new_name'] = df.Name.str.lower()\n",
    "    df = df.set_index(['Year','State'])\n",
    "    df['name_gender'] = zip(df.new_name, df.Gender)\n",
    "    df = df.drop(['Year', 'State', 'new_name'])\n",
    "    \n",
    "    date_state_series = df.groupby(df.index).sum()['Count']\n",
    "    df['tuple_index'] = df.index.values\n",
    "    df = df.join(date_state_series, how='left', on='tuple_index', lsuffix='_by_name')\n",
    "    \n",
    "    df['count_norm'] = df.Count_by_name / df.Count\n",
    "    \n",
    "    return df"
   ]
  },
  {
   "cell_type": "code",
   "execution_count": 5,
   "metadata": {
    "collapsed": true
   },
   "outputs": [],
   "source": [
    "def time_period_clean(df, start_date, end_date):\n",
    "    df = df[(df['Year'] >= start_date) & (df['Year'] <= end_date)]\n",
    "    df['new_name'] = df.Name.str.lower()\n",
    "    df = df.set_index(['Year','State'])\n",
    "    df['name_gender'] = zip(df.new_name, df.Gender)\n",
    "    df = df.drop(['Year', 'State', 'new_name'])\n",
    "    \n",
    "    date_state_series = df.groupby(df.index).sum()['Count']\n",
    "    df['tuple_index'] = df.index.values\n",
    "    df = df.join(date_state_series, how='left', on='tuple_index', lsuffix='_by_name')\n",
    "    \n",
    "    df['count_norm'] = df.Count_by_name / df.Count\n",
    "    \n",
    "    return df  "
   ]
  },
  {
   "cell_type": "code",
   "execution_count": 141,
   "metadata": {
    "collapsed": false
   },
   "outputs": [],
   "source": [
    "sub_df = pd.read_csv('../../StateNames.csv')"
   ]
  },
  {
   "cell_type": "code",
   "execution_count": 79,
   "metadata": {
    "collapsed": false
   },
   "outputs": [],
   "source": [
    "# sub_df = sub_df[(sub_df['Year'] >= 1950)]"
   ]
  },
  {
   "cell_type": "code",
   "execution_count": 71,
   "metadata": {
    "collapsed": true
   },
   "outputs": [],
   "source": [
    "def pivot_data(df, pivot_vals, pivot_index, pivot_cols):\n",
    "    data_pivot = pd.pivot_table(df, values=pivot_vals, index=pivot_index, columns=pivot_cols)\n",
    "    data_pivot = data_pivot.fillna(0)\n",
    "    return data_pivot"
   ]
  },
  {
   "cell_type": "code",
   "execution_count": 6,
   "metadata": {
    "collapsed": true
   },
   "outputs": [],
   "source": [
    "#Further cleaning\n",
    "df['tuple_index'] = df.index.values\n",
    "df = df.join(date_state_series, how='left', on='tuple_index', lsuffix='name_count')"
   ]
  },
  {
   "cell_type": "code",
   "execution_count": 7,
   "metadata": {
    "collapsed": true
   },
   "outputs": [],
   "source": [
    "df = clean_data(df)"
   ]
  },
  {
   "cell_type": "code",
   "execution_count": 18,
   "metadata": {
    "collapsed": false
   },
   "outputs": [],
   "source": [
    "name_pivot = pd.pivot_table(df, values='count_norm',index=df.name_gender, columns=df.index)\n",
    "name_pivot = name_pivot.fillna(0)"
   ]
  },
  {
   "cell_type": "code",
   "execution_count": 14,
   "metadata": {
    "collapsed": true
   },
   "outputs": [],
   "source": [
    "def run_nmf(df,params):\n",
    "    nmf = NMF(n_components=params)\n",
    "    W = nmf.fit_transform(df)\n",
    "    H = nmf.components_\n",
    "    return W, H, nmf, nmf.reconstruction_err_"
   ]
  },
  {
   "cell_type": "code",
   "execution_count": 62,
   "metadata": {
    "collapsed": true
   },
   "outputs": [],
   "source": [
    "def recon_error(df, k):\n",
    "    nmf = NMF(n_components=k)\n",
    "    W = nmf.fit_transform(df)\n",
    "    H = nmf.components_\n",
    "    return nmf.reconstruction_err_"
   ]
  },
  {
   "cell_type": "code",
   "execution_count": 12,
   "metadata": {
    "collapsed": true
   },
   "outputs": [],
   "source": [
    "def print_top_features(W, H, features, top_features, data_matrix):\n",
    "    print \"Reconstruction Error: %f\" %reconst_mse(data_matrix, W, H)\n",
    "#     print \"SKlearn Reconstruction Err: %f\" %\n",
    "    for latent_num, latent in enumerate(H):\n",
    "        print \"Latent Feature %d\" % (int(latent_num) + 1)\n",
    "        print [features[i] for i in latent.argsort()[:-top_features-1:-1]]\n",
    "        print "
   ]
  },
  {
   "cell_type": "code",
   "execution_count": 17,
   "metadata": {
    "collapsed": true
   },
   "outputs": [],
   "source": [
    "def reconst_mse(target, left, right):\n",
    "#     print left, right, target\n",
    "    return (np.array(target - left.dot(right))**2).sum()"
   ]
  },
  {
   "cell_type": "code",
   "execution_count": 113,
   "metadata": {
    "collapsed": true
   },
   "outputs": [],
   "source": [
    "# def scree_plot(pca):\n",
    "#     vals = pca.explained_variance_ratio_\n",
    "#     plt.figure(figsize=(10, 6), dpi=250)\n",
    "#     cum_var = np.cumsum(vals)\n",
    "#     ax = plt.subplot(111)\n",
    "\n",
    "#     ax.plot(range(len(vals) + 1), np.insert(cum_var, 0, 0), color = 'r', marker = 'o')\n",
    "#     ax.bar(range(len(vals)), vals, alpha = 0.8)\n",
    "    \n",
    "#     ax.axhline(0.9, color = 'g', linestyle = \"--\")\n",
    "#     ax.set_xlabel(\"Principal Component\", fontsize=12)\n",
    "#     ax.set_ylabel(\"Variance Explained (%)\", fontsize=12)\n",
    "\n",
    "#     plt.title(\"Scree Plot for the Digits Dataset\", fontsize=16)"
   ]
  },
  {
   "cell_type": "code",
   "execution_count": 20,
   "metadata": {
    "collapsed": true
   },
   "outputs": [],
   "source": [
    "state_features = name_pivot.columns"
   ]
  },
  {
   "cell_type": "code",
   "execution_count": 36,
   "metadata": {
    "collapsed": true
   },
   "outputs": [],
   "source": [
    "#these variables need to be rerun\n",
    "W, H, name_nmf = run_nmf(name_pivot,10)"
   ]
  },
  {
   "cell_type": "code",
   "execution_count": 104,
   "metadata": {
    "collapsed": false
   },
   "outputs": [],
   "source": [
    "# print_top_features(W, H, state_features, 15, name_pivot)"
   ]
  },
  {
   "cell_type": "code",
   "execution_count": 9,
   "metadata": {
    "collapsed": true
   },
   "outputs": [],
   "source": [
    "pivot_vals = 'count_norm'\n",
    "pivot_index = df.index\n",
    "pivot_col = df.name_gender"
   ]
  },
  {
   "cell_type": "code",
   "execution_count": 10,
   "metadata": {
    "collapsed": false
   },
   "outputs": [],
   "source": [
    "data_pivot = pd.pivot_table(df, values=pivot_vals, index=pivot_index, columns=pivot_col)\n",
    "data_pivot = data_pivot.fillna(0)"
   ]
  },
  {
   "cell_type": "code",
   "execution_count": 11,
   "metadata": {
    "collapsed": false
   },
   "outputs": [
    {
     "data": {
      "text/plain": [
       "(5355, 33170)"
      ]
     },
     "execution_count": 11,
     "metadata": {},
     "output_type": "execute_result"
    }
   ],
   "source": [
    "data_pivot.shape"
   ]
  },
  {
   "cell_type": "code",
   "execution_count": 59,
   "metadata": {
    "collapsed": true
   },
   "outputs": [],
   "source": [
    "pd.set_option('max_rows', 1000)"
   ]
  },
  {
   "cell_type": "code",
   "execution_count": 13,
   "metadata": {
    "collapsed": true
   },
   "outputs": [],
   "source": [
    "name_features = data_pivot.columns"
   ]
  },
  {
   "cell_type": "code",
   "execution_count": 15,
   "metadata": {
    "collapsed": false
   },
   "outputs": [],
   "source": [
    "W2, H2, state_nmf, error = run_nmf(data_pivot,4)"
   ]
  },
  {
   "cell_type": "code",
   "execution_count": 18,
   "metadata": {
    "collapsed": false
   },
   "outputs": [
    {
     "name": "stdout",
     "output_type": "stream",
     "text": [
      "Reconstruction Error: 6.563312\n",
      "Latent Feature 1\n",
      "[('mary', 'F'), ('john', 'M'), ('william', 'M'), ('james', 'M'), ('robert', 'M'), ('dorothy', 'F'), ('helen', 'F'), ('george', 'M'), ('charles', 'M'), ('margaret', 'F')]\n",
      "\n",
      "Latent Feature 2\n",
      "[('michael', 'M'), ('jennifer', 'F'), ('christopher', 'M'), ('david', 'M'), ('jason', 'M'), ('james', 'M'), ('matthew', 'M'), ('brian', 'M'), ('john', 'M'), ('robert', 'M')]\n",
      "\n",
      "Latent Feature 3\n",
      "[('robert', 'M'), ('james', 'M'), ('david', 'M'), ('john', 'M'), ('richard', 'M'), ('michael', 'M'), ('linda', 'F'), ('patricia', 'F'), ('william', 'M'), ('mary', 'F')]\n",
      "\n",
      "Latent Feature 4\n",
      "[('jacob', 'M'), ('joshua', 'M'), ('matthew', 'M'), ('tyler', 'M'), ('emily', 'F'), ('andrew', 'M'), ('ashley', 'F'), ('nicholas', 'M'), ('ryan', 'M'), ('michael', 'M')]\n",
      "\n"
     ]
    }
   ],
   "source": [
    "print_top_features(W2, H2, name_features, 10, data_pivot)"
   ]
  },
  {
   "cell_type": "code",
   "execution_count": 19,
   "metadata": {
    "collapsed": false
   },
   "outputs": [
    {
     "data": {
      "text/plain": [
       "numpy.ndarray"
      ]
     },
     "execution_count": 19,
     "metadata": {},
     "output_type": "execute_result"
    }
   ],
   "source": [
    "type(H2)"
   ]
  },
  {
   "cell_type": "code",
   "execution_count": null,
   "metadata": {
    "collapsed": true
   },
   "outputs": [],
   "source": []
  },
  {
   "cell_type": "code",
   "execution_count": 214,
   "metadata": {
    "collapsed": false
   },
   "outputs": [],
   "source": [
    "test_pivot = pd.pivot_table(df_1950, values='count_norm', index=df_1950.tuple_index, columns=df_1950.name_gender)"
   ]
  },
  {
   "cell_type": "code",
   "execution_count": 216,
   "metadata": {
    "collapsed": false
   },
   "outputs": [],
   "source": [
    "test_array = test_pivot.as_matrix()\n",
    "# matrix_rank(test_array)"
   ]
  },
  {
   "cell_type": "code",
   "execution_count": null,
   "metadata": {
    "collapsed": false
   },
   "outputs": [],
   "source": []
  },
  {
   "cell_type": "code",
   "execution_count": 63,
   "metadata": {
    "collapsed": false
   },
   "outputs": [],
   "source": [
    "# df[(df['tuple_index'] == (1940,'RI')) | (df['tuple_index'] == (1941,'RI')) | (df['tuple_index'] == (1942,'RI')) | \n",
    "#    (df['tuple_index'] == (1938,'RI')) | (df['tuple_index'] == (1939,'RI'))]"
   ]
  },
  {
   "cell_type": "code",
   "execution_count": 84,
   "metadata": {
    "collapsed": false
   },
   "outputs": [
    {
     "name": "stderr",
     "output_type": "stream",
     "text": [
      "/Users/courtneymorris/anaconda/lib/python2.7/site-packages/ipykernel/__main__.py:3: SettingWithCopyWarning: \n",
      "A value is trying to be set on a copy of a slice from a DataFrame.\n",
      "Try using .loc[row_indexer,col_indexer] = value instead\n",
      "\n",
      "See the caveats in the documentation: http://pandas.pydata.org/pandas-docs/stable/indexing.html#indexing-view-versus-copy\n",
      "  app.launch_new_instance()\n"
     ]
    }
   ],
   "source": [
    "##Trying the analysis on data after 1950 (when there is a larger selection of names per year)\n",
    "df_1950 = time_period_clean(sub_df, 1950)"
   ]
  },
  {
   "cell_type": "code",
   "execution_count": 87,
   "metadata": {
    "collapsed": false
   },
   "outputs": [],
   "source": [
    "pivot_1950 = pivot_data(df_1950, 'count_norm', 'name_gender', 'tuple_index')"
   ]
  },
  {
   "cell_type": "code",
   "execution_count": 88,
   "metadata": {
    "collapsed": false
   },
   "outputs": [
    {
     "data": {
      "text/plain": [
       "(29906, 3315)"
      ]
     },
     "execution_count": 88,
     "metadata": {},
     "output_type": "execute_result"
    }
   ],
   "source": [
    "pivot_1950.shape"
   ]
  },
  {
   "cell_type": "code",
   "execution_count": 202,
   "metadata": {
    "collapsed": false
   },
   "outputs": [],
   "source": [
    "W_1950, H_1950, name_nmf_1950 = run_nmf(pivot_1950,2)"
   ]
  },
  {
   "cell_type": "code",
   "execution_count": 237,
   "metadata": {
    "collapsed": false
   },
   "outputs": [
    {
     "data": {
      "text/plain": [
       "1.035103540590276"
      ]
     },
     "execution_count": 237,
     "metadata": {},
     "output_type": "execute_result"
    }
   ],
   "source": [
    "# print_top_features(W_1950, H_1950, state_features_1950, 10, pivot_1950)\n",
    "recon_error(pivot_1950, 10)"
   ]
  },
  {
   "cell_type": "code",
   "execution_count": 212,
   "metadata": {
    "collapsed": false
   },
   "outputs": [
    {
     "data": {
      "text/plain": [
       "4902"
      ]
     },
     "execution_count": 212,
     "metadata": {},
     "output_type": "execute_result"
    }
   ],
   "source": [
    "pivot_1950.duplicated().sum()\n",
    "#array = pivot_1950.as_matrix()"
   ]
  },
  {
   "cell_type": "code",
   "execution_count": 220,
   "metadata": {
    "collapsed": false
   },
   "outputs": [
    {
     "data": {
      "text/plain": [
       "(29906, 3315)"
      ]
     },
     "execution_count": 220,
     "metadata": {},
     "output_type": "execute_result"
    }
   ],
   "source": [
    "pivot_1950.shape"
   ]
  },
  {
   "cell_type": "code",
   "execution_count": 211,
   "metadata": {
    "collapsed": false
   },
   "outputs": [
    {
     "data": {
      "text/plain": [
       "1"
      ]
     },
     "execution_count": 211,
     "metadata": {},
     "output_type": "execute_result"
    }
   ],
   "source": [
    "matrix_rank(array)"
   ]
  },
  {
   "cell_type": "code",
   "execution_count": 102,
   "metadata": {
    "collapsed": false
   },
   "outputs": [],
   "source": [
    "nmf = NMF(n_components=10)\n",
    "W = nmf.fit_transform(pivot_1950)"
   ]
  },
  {
   "cell_type": "code",
   "execution_count": 103,
   "metadata": {
    "collapsed": false
   },
   "outputs": [],
   "source": [
    "H = nmf.components_"
   ]
  },
  {
   "cell_type": "code",
   "execution_count": 105,
   "metadata": {
    "collapsed": true
   },
   "outputs": [],
   "source": [
    "state_features_1950 = pivot_1950.columns"
   ]
  },
  {
   "cell_type": "code",
   "execution_count": 116,
   "metadata": {
    "collapsed": false
   },
   "outputs": [],
   "source": [
    "# print_top_features(W,H,state_features_1950,15,pivot_1950)"
   ]
  },
  {
   "cell_type": "code",
   "execution_count": 107,
   "metadata": {
    "collapsed": true
   },
   "outputs": [],
   "source": [
    "state_pivot_1950 = pivot_data(df_1950, 'count_norm', 'tuple_index', 'name_gender')"
   ]
  },
  {
   "cell_type": "code",
   "execution_count": 110,
   "metadata": {
    "collapsed": false
   },
   "outputs": [],
   "source": [
    "W_1950, H_1950, nmf_1950 = run_nmf(state_pivot_1950,10)"
   ]
  },
  {
   "cell_type": "code",
   "execution_count": 111,
   "metadata": {
    "collapsed": true
   },
   "outputs": [],
   "source": [
    "name_features_1950 = state_pivot_1950.columns"
   ]
  },
  {
   "cell_type": "code",
   "execution_count": 115,
   "metadata": {
    "collapsed": false
   },
   "outputs": [],
   "source": [
    "# print_top_features(W_1950,H_1950,name_features_1950,15,state_pivot_1950)"
   ]
  },
  {
   "cell_type": "code",
   "execution_count": 143,
   "metadata": {
    "collapsed": false
   },
   "outputs": [
    {
     "name": "stderr",
     "output_type": "stream",
     "text": [
      "/Users/courtneymorris/anaconda/lib/python2.7/site-packages/ipykernel/__main__.py:3: SettingWithCopyWarning: \n",
      "A value is trying to be set on a copy of a slice from a DataFrame.\n",
      "Try using .loc[row_indexer,col_indexer] = value instead\n",
      "\n",
      "See the caveats in the documentation: http://pandas.pydata.org/pandas-docs/stable/indexing.html#indexing-view-versus-copy\n",
      "  app.launch_new_instance()\n"
     ]
    }
   ],
   "source": [
    "###Very recent decade subsection\n",
    "df_1990 = time_period_clean(sub_df, 1990)"
   ]
  },
  {
   "cell_type": "code",
   "execution_count": 144,
   "metadata": {
    "collapsed": true
   },
   "outputs": [],
   "source": [
    "name_pivot_1990 = pivot_data(df_1990, 'count_norm', 'name_gender', 'tuple_index')"
   ]
  },
  {
   "cell_type": "code",
   "execution_count": 145,
   "metadata": {
    "collapsed": false
   },
   "outputs": [],
   "source": [
    "W_1990, H_1990, nmf_1990 = run_nmf(name_pivot_1990,10)"
   ]
  },
  {
   "cell_type": "code",
   "execution_count": 146,
   "metadata": {
    "collapsed": false
   },
   "outputs": [],
   "source": [
    "state_features_1990 = name_pivot_1990.columns"
   ]
  },
  {
   "cell_type": "code",
   "execution_count": 176,
   "metadata": {
    "collapsed": false
   },
   "outputs": [],
   "source": [
    "# Looking at these results has me thinking that there continues to be regional trends with names. Groupings are regional\n",
    "# and time-based...the question is if there is a continuing trend with these regional influences and what we can predict\n",
    "# or say culturally about those groupings.\n",
    "\n",
    "# print_top_features(W_1990,H_1990,state_features_1990,15,name_pivot_1990)"
   ]
  },
  {
   "cell_type": "code",
   "execution_count": 150,
   "metadata": {
    "collapsed": false
   },
   "outputs": [],
   "source": [
    "W_df = pd.DataFrame(W_1990, index=name_pivot_1990.index)"
   ]
  },
  {
   "cell_type": "code",
   "execution_count": 151,
   "metadata": {
    "collapsed": true
   },
   "outputs": [],
   "source": [
    "H_df = pd.DataFrame(H_1990, columns=state_features_1990)"
   ]
  },
  {
   "cell_type": "code",
   "execution_count": 221,
   "metadata": {
    "collapsed": false
   },
   "outputs": [
    {
     "data": {
      "text/html": [
       "<div>\n",
       "<table border=\"1\" class=\"dataframe\">\n",
       "  <thead>\n",
       "    <tr style=\"text-align: right;\">\n",
       "      <th></th>\n",
       "      <th></th>\n",
       "      <th>Id</th>\n",
       "      <th>Name</th>\n",
       "      <th>Gender</th>\n",
       "      <th>Count_by_name</th>\n",
       "      <th>new_name</th>\n",
       "      <th>name_gender</th>\n",
       "      <th>tuple_index</th>\n",
       "      <th>Count</th>\n",
       "      <th>count_norm</th>\n",
       "    </tr>\n",
       "    <tr>\n",
       "      <th>Year</th>\n",
       "      <th>State</th>\n",
       "      <th></th>\n",
       "      <th></th>\n",
       "      <th></th>\n",
       "      <th></th>\n",
       "      <th></th>\n",
       "      <th></th>\n",
       "      <th></th>\n",
       "      <th></th>\n",
       "      <th></th>\n",
       "    </tr>\n",
       "  </thead>\n",
       "  <tbody>\n",
       "    <tr>\n",
       "      <th rowspan=\"5\" valign=\"top\">1990</th>\n",
       "      <th>AK</th>\n",
       "      <td>8496</td>\n",
       "      <td>Jessica</td>\n",
       "      <td>F</td>\n",
       "      <td>112</td>\n",
       "      <td>jessica</td>\n",
       "      <td>(jessica, F)</td>\n",
       "      <td>(1990, AK)</td>\n",
       "      <td>7830</td>\n",
       "      <td>0.014304</td>\n",
       "    </tr>\n",
       "    <tr>\n",
       "      <th>AK</th>\n",
       "      <td>8497</td>\n",
       "      <td>Ashley</td>\n",
       "      <td>F</td>\n",
       "      <td>96</td>\n",
       "      <td>ashley</td>\n",
       "      <td>(ashley, F)</td>\n",
       "      <td>(1990, AK)</td>\n",
       "      <td>7830</td>\n",
       "      <td>0.012261</td>\n",
       "    </tr>\n",
       "    <tr>\n",
       "      <th>AK</th>\n",
       "      <td>8498</td>\n",
       "      <td>Amanda</td>\n",
       "      <td>F</td>\n",
       "      <td>92</td>\n",
       "      <td>amanda</td>\n",
       "      <td>(amanda, F)</td>\n",
       "      <td>(1990, AK)</td>\n",
       "      <td>7830</td>\n",
       "      <td>0.011750</td>\n",
       "    </tr>\n",
       "    <tr>\n",
       "      <th>AK</th>\n",
       "      <td>8499</td>\n",
       "      <td>Brittany</td>\n",
       "      <td>F</td>\n",
       "      <td>75</td>\n",
       "      <td>brittany</td>\n",
       "      <td>(brittany, F)</td>\n",
       "      <td>(1990, AK)</td>\n",
       "      <td>7830</td>\n",
       "      <td>0.009579</td>\n",
       "    </tr>\n",
       "    <tr>\n",
       "      <th>AK</th>\n",
       "      <td>8500</td>\n",
       "      <td>Samantha</td>\n",
       "      <td>F</td>\n",
       "      <td>72</td>\n",
       "      <td>samantha</td>\n",
       "      <td>(samantha, F)</td>\n",
       "      <td>(1990, AK)</td>\n",
       "      <td>7830</td>\n",
       "      <td>0.009195</td>\n",
       "    </tr>\n",
       "  </tbody>\n",
       "</table>\n",
       "</div>"
      ],
      "text/plain": [
       "              Id      Name Gender  Count_by_name  new_name    name_gender  \\\n",
       "Year State                                                                  \n",
       "1990 AK     8496   Jessica      F            112   jessica   (jessica, F)   \n",
       "     AK     8497    Ashley      F             96    ashley    (ashley, F)   \n",
       "     AK     8498    Amanda      F             92    amanda    (amanda, F)   \n",
       "     AK     8499  Brittany      F             75  brittany  (brittany, F)   \n",
       "     AK     8500  Samantha      F             72  samantha  (samantha, F)   \n",
       "\n",
       "           tuple_index  Count  count_norm  \n",
       "Year State                                 \n",
       "1990 AK     (1990, AK)   7830    0.014304  \n",
       "     AK     (1990, AK)   7830    0.012261  \n",
       "     AK     (1990, AK)   7830    0.011750  \n",
       "     AK     (1990, AK)   7830    0.009579  \n",
       "     AK     (1990, AK)   7830    0.009195  "
      ]
     },
     "execution_count": 221,
     "metadata": {},
     "output_type": "execute_result"
    }
   ],
   "source": [
    "df_1990.head()"
   ]
  },
  {
   "cell_type": "code",
   "execution_count": null,
   "metadata": {
    "collapsed": false
   },
   "outputs": [],
   "source": []
  },
  {
   "cell_type": "code",
   "execution_count": 250,
   "metadata": {
    "collapsed": false
   },
   "outputs": [],
   "source": [
    "# df_1990[(df_1990.tuple_index==(2014,'VA'))&(df_1990.new_name =='aadhya')]"
   ]
  },
  {
   "cell_type": "code",
   "execution_count": null,
   "metadata": {
    "collapsed": true
   },
   "outputs": [],
   "source": []
  },
  {
   "cell_type": "code",
   "execution_count": null,
   "metadata": {
    "collapsed": true
   },
   "outputs": [],
   "source": []
  },
  {
   "cell_type": "code",
   "execution_count": null,
   "metadata": {
    "collapsed": true
   },
   "outputs": [],
   "source": []
  },
  {
   "cell_type": "code",
   "execution_count": null,
   "metadata": {
    "collapsed": false
   },
   "outputs": [],
   "source": []
  },
  {
   "cell_type": "code",
   "execution_count": 182,
   "metadata": {
    "collapsed": false
   },
   "outputs": [],
   "source": [
    "def run_decade_nmf(df, (start_date, end_date), n_factors):\n",
    "    decade_df = time_period_clean(df, start_date, end_date)\n",
    "    decade_pivot = pivot_data(decade_df, 'count_norm', 'name_gender', 'tuple_index')\n",
    "    \n",
    "    W, H, nmf = run_nmf(decade_pivot,n_factors)\n",
    "    \n",
    "    state_features = decade_pivot.columns\n",
    "    \n",
    "    print print_top_features(W,H,state_features,15,decade_pivot)\n",
    "    \n",
    "    return W, H, nmf"
   ]
  },
  {
   "cell_type": "code",
   "execution_count": 256,
   "metadata": {
    "collapsed": false
   },
   "outputs": [
    {
     "name": "stderr",
     "output_type": "stream",
     "text": [
      "/Users/courtneymorris/anaconda/lib/python2.7/site-packages/ipykernel/__main__.py:3: SettingWithCopyWarning: \n",
      "A value is trying to be set on a copy of a slice from a DataFrame.\n",
      "Try using .loc[row_indexer,col_indexer] = value instead\n",
      "\n",
      "See the caveats in the documentation: http://pandas.pydata.org/pandas-docs/stable/indexing.html#indexing-view-versus-copy\n",
      "  app.launch_new_instance()\n"
     ]
    },
    {
     "name": "stdout",
     "output_type": "stream",
     "text": [
      "Reconstruction Error: 0.231679\n",
      "Latent Feature 1\n",
      "[(1968, 'VT'), (1969, 'RI'), (1968, 'NH'), (1969, 'NH'), (1968, 'RI'), (1969, 'VT'), (1967, 'VT'), (1967, 'NH'), (1966, 'VT'), (1967, 'RI'), (1969, 'MA'), (1966, 'NH'), (1969, 'ME'), (1968, 'MA'), (1968, 'WY')]\n",
      "\n",
      "Latent Feature 2\n",
      "[(1960, 'TN'), (1961, 'TN'), (1960, 'KY'), (1960, 'NC'), (1961, 'SC'), (1960, 'SC'), (1961, 'NC'), (1962, 'SC'), (1963, 'SC'), (1960, 'AR'), (1960, 'AL'), (1961, 'AL'), (1961, 'AR'), (1962, 'TN'), (1964, 'SC')]\n",
      "\n",
      "None\n"
     ]
    }
   ],
   "source": [
    "W_60, H_60, nmf_60 = run_decade_nmf(sub_df, (1960,1969), 2)"
   ]
  },
  {
   "cell_type": "code",
   "execution_count": 257,
   "metadata": {
    "collapsed": false
   },
   "outputs": [
    {
     "name": "stderr",
     "output_type": "stream",
     "text": [
      "/Users/courtneymorris/anaconda/lib/python2.7/site-packages/ipykernel/__main__.py:3: SettingWithCopyWarning: \n",
      "A value is trying to be set on a copy of a slice from a DataFrame.\n",
      "Try using .loc[row_indexer,col_indexer] = value instead\n",
      "\n",
      "See the caveats in the documentation: http://pandas.pydata.org/pandas-docs/stable/indexing.html#indexing-view-versus-copy\n",
      "  app.launch_new_instance()\n"
     ]
    },
    {
     "name": "stdout",
     "output_type": "stream",
     "text": [
      "Reconstruction Error: 0.228899\n",
      "Latent Feature 1\n",
      "[(1970, 'DE'), (1970, 'RI'), (1971, 'DE'), (1972, 'DE'), (1971, 'WV'), (1971, 'RI'), (1970, 'WV'), (1973, 'DE'), (1970, 'MA'), (1970, 'MD'), (1972, 'WV'), (1970, 'KY'), (1971, 'KY'), (1970, 'PA'), (1970, 'AK')]\n",
      "\n",
      "Latent Feature 2\n",
      "[(1978, 'VT'), (1979, 'VT'), (1976, 'VT'), (1978, 'ND'), (1979, 'ND'), (1977, 'VT'), (1977, 'ND'), (1979, 'ME'), (1979, 'SD'), (1979, 'NH'), (1977, 'SD'), (1978, 'ME'), (1978, 'IA'), (1978, 'NH'), (1978, 'SD')]\n",
      "\n",
      "None\n"
     ]
    }
   ],
   "source": [
    "W_70, H_70, nmf_70 = run_decade_nmf(sub_df, (1970,1979), 2)"
   ]
  },
  {
   "cell_type": "code",
   "execution_count": 258,
   "metadata": {
    "collapsed": false
   },
   "outputs": [
    {
     "name": "stderr",
     "output_type": "stream",
     "text": [
      "/Users/courtneymorris/anaconda/lib/python2.7/site-packages/ipykernel/__main__.py:3: SettingWithCopyWarning: \n",
      "A value is trying to be set on a copy of a slice from a DataFrame.\n",
      "Try using .loc[row_indexer,col_indexer] = value instead\n",
      "\n",
      "See the caveats in the documentation: http://pandas.pydata.org/pandas-docs/stable/indexing.html#indexing-view-versus-copy\n",
      "  app.launch_new_instance()\n"
     ]
    },
    {
     "name": "stdout",
     "output_type": "stream",
     "text": [
      "Reconstruction Error: 0.213688\n",
      "Latent Feature 1\n",
      "[(1981, 'RI'), (1981, 'DE'), (1980, 'RI'), (1982, 'DE'), (1980, 'DE'), (1982, 'RI'), (1983, 'DE'), (1983, 'RI'), (1980, 'CT'), (1981, 'CT'), (1980, 'NV'), (1981, 'MA'), (1980, 'WV'), (1980, 'NH'), (1982, 'CT')]\n",
      "\n",
      "Latent Feature 2\n",
      "[(1989, 'ND'), (1987, 'ND'), (1988, 'ND'), (1989, 'SD'), (1987, 'SD'), (1988, 'SD'), (1989, 'IA'), (1988, 'IA'), (1989, 'WY'), (1986, 'ND'), (1989, 'VT'), (1989, 'NE'), (1988, 'WY'), (1987, 'WY'), (1987, 'VT')]\n",
      "\n",
      "None\n"
     ]
    }
   ],
   "source": [
    "W_80, H_80, nmf_80 = run_decade_nmf(sub_df, (1980,1989), 2)"
   ]
  },
  {
   "cell_type": "code",
   "execution_count": 259,
   "metadata": {
    "collapsed": false
   },
   "outputs": [
    {
     "name": "stderr",
     "output_type": "stream",
     "text": [
      "/Users/courtneymorris/anaconda/lib/python2.7/site-packages/ipykernel/__main__.py:3: SettingWithCopyWarning: \n",
      "A value is trying to be set on a copy of a slice from a DataFrame.\n",
      "Try using .loc[row_indexer,col_indexer] = value instead\n",
      "\n",
      "See the caveats in the documentation: http://pandas.pydata.org/pandas-docs/stable/indexing.html#indexing-view-versus-copy\n",
      "  app.launch_new_instance()\n"
     ]
    },
    {
     "name": "stdout",
     "output_type": "stream",
     "text": [
      "Reconstruction Error: 0.190039\n",
      "Latent Feature 1\n",
      "[(1990, 'DE'), (1990, 'RI'), (1991, 'RI'), (1991, 'DE'), (1992, 'RI'), (1990, 'WV'), (1990, 'NH'), (1990, 'CT'), (1992, 'DE'), (1991, 'CT'), (1990, 'MA'), (1990, 'VT'), (1991, 'MA'), (1991, 'WV'), (1990, 'KY')]\n",
      "\n",
      "Latent Feature 2\n",
      "[(1999, 'ND'), (1998, 'ND'), (1997, 'ND'), (1999, 'SD'), (1998, 'VT'), (1998, 'SD'), (1999, 'WY'), (1999, 'VT'), (1996, 'ND'), (1999, 'ME'), (1997, 'SD'), (1998, 'WY'), (1999, 'WV'), (1997, 'WY'), (1996, 'SD')]\n",
      "\n",
      "None\n"
     ]
    }
   ],
   "source": [
    "W_90, H_90, nmf_90 = run_decade_nmf(sub_df, (1990,1999), 2)"
   ]
  },
  {
   "cell_type": "code",
   "execution_count": 255,
   "metadata": {
    "collapsed": false
   },
   "outputs": [
    {
     "name": "stderr",
     "output_type": "stream",
     "text": [
      "/Users/courtneymorris/anaconda/lib/python2.7/site-packages/ipykernel/__main__.py:3: SettingWithCopyWarning: \n",
      "A value is trying to be set on a copy of a slice from a DataFrame.\n",
      "Try using .loc[row_indexer,col_indexer] = value instead\n",
      "\n",
      "See the caveats in the documentation: http://pandas.pydata.org/pandas-docs/stable/indexing.html#indexing-view-versus-copy\n",
      "  app.launch_new_instance()\n"
     ]
    },
    {
     "name": "stdout",
     "output_type": "stream",
     "text": [
      "Reconstruction Error: 0.270490\n",
      "Latent Feature 1\n",
      "[(2000, 'DE'), (2000, 'NH'), (2000, 'RI'), (2000, 'WY'), (2000, 'VT'), (2001, 'DE'), (2001, 'RI'), (2002, 'RI'), (2002, 'DE'), (2001, 'NH'), (2001, 'WY'), (2000, 'ME'), (2001, 'WV'), (2001, 'VT'), (2000, 'WV')]\n",
      "\n",
      "Latent Feature 2\n",
      "[(2012, 'VT'), (2013, 'VT'), (2011, 'VT'), (2014, 'VT'), (2012, 'WY'), (2010, 'VT'), (2013, 'WY'), (2014, 'WY'), (2011, 'ND'), (2009, 'VT'), (2013, 'ME'), (2012, 'ME'), (2012, 'ND'), (2014, 'ME'), (2013, 'NH')]\n",
      "\n",
      "None\n"
     ]
    }
   ],
   "source": [
    "W_00, H_00, nmf_00 = run_decade_nmf(sub_df, (2000,2014), 2)"
   ]
  },
  {
   "cell_type": "code",
   "execution_count": null,
   "metadata": {
    "collapsed": true
   },
   "outputs": [],
   "source": []
  },
  {
   "cell_type": "code",
   "execution_count": null,
   "metadata": {
    "collapsed": true
   },
   "outputs": [],
   "source": []
  },
  {
   "cell_type": "code",
   "execution_count": 328,
   "metadata": {
    "collapsed": true
   },
   "outputs": [],
   "source": [
    "# def run_pop_nmf(df, n_factors):\n",
    "    \n",
    "#     W, H, nmf, error = run_nmf(df,n_factors)\n",
    "    \n",
    "#     state_features = df.columns\n",
    "    \n",
    "#     print \"SKlearn error: %f\" %error\n",
    "#     print print_top_features(W,H,state_features,20,df)\n",
    "    \n",
    "#     return W, H, nmf"
   ]
  },
  {
   "cell_type": "code",
   "execution_count": 6,
   "metadata": {
    "collapsed": false
   },
   "outputs": [
    {
     "ename": "AttributeError",
     "evalue": "'DataFrame' object has no attribute 'Count_name_count'",
     "output_type": "error",
     "traceback": [
      "\u001b[0;31m---------------------------------------------------------------------------\u001b[0m",
      "\u001b[0;31mAttributeError\u001b[0m                            Traceback (most recent call last)",
      "\u001b[0;32m<ipython-input-6-7bbf9f2736d8>\u001b[0m in \u001b[0;36m<module>\u001b[0;34m()\u001b[0m\n\u001b[0;32m----> 1\u001b[0;31m \u001b[0mmid_pop\u001b[0m \u001b[0;34m=\u001b[0m \u001b[0mdf\u001b[0m\u001b[0;34m[\u001b[0m\u001b[0;34m(\u001b[0m\u001b[0mdf\u001b[0m\u001b[0;34m.\u001b[0m\u001b[0mCount_name_count\u001b[0m\u001b[0;34m>=\u001b[0m\u001b[0;36m50\u001b[0m\u001b[0;34m)\u001b[0m \u001b[0;34m&\u001b[0m \u001b[0;34m(\u001b[0m\u001b[0mdf\u001b[0m\u001b[0;34m.\u001b[0m\u001b[0mCount_name_count\u001b[0m\u001b[0;34m<=\u001b[0m\u001b[0;36m1000\u001b[0m\u001b[0;34m)\u001b[0m\u001b[0;34m]\u001b[0m\u001b[0;34m\u001b[0m\u001b[0m\n\u001b[0m",
      "\u001b[0;32m/Users/courtneymorris/anaconda/lib/python2.7/site-packages/pandas/core/generic.pyc\u001b[0m in \u001b[0;36m__getattr__\u001b[0;34m(self, name)\u001b[0m\n\u001b[1;32m   2667\u001b[0m             \u001b[0;32mif\u001b[0m \u001b[0mname\u001b[0m \u001b[0;32min\u001b[0m \u001b[0mself\u001b[0m\u001b[0;34m.\u001b[0m\u001b[0m_info_axis\u001b[0m\u001b[0;34m:\u001b[0m\u001b[0;34m\u001b[0m\u001b[0m\n\u001b[1;32m   2668\u001b[0m                 \u001b[0;32mreturn\u001b[0m \u001b[0mself\u001b[0m\u001b[0;34m[\u001b[0m\u001b[0mname\u001b[0m\u001b[0;34m]\u001b[0m\u001b[0;34m\u001b[0m\u001b[0m\n\u001b[0;32m-> 2669\u001b[0;31m             \u001b[0;32mreturn\u001b[0m \u001b[0mobject\u001b[0m\u001b[0;34m.\u001b[0m\u001b[0m__getattribute__\u001b[0m\u001b[0;34m(\u001b[0m\u001b[0mself\u001b[0m\u001b[0;34m,\u001b[0m \u001b[0mname\u001b[0m\u001b[0;34m)\u001b[0m\u001b[0;34m\u001b[0m\u001b[0m\n\u001b[0m\u001b[1;32m   2670\u001b[0m \u001b[0;34m\u001b[0m\u001b[0m\n\u001b[1;32m   2671\u001b[0m     \u001b[0;32mdef\u001b[0m \u001b[0m__setattr__\u001b[0m\u001b[0;34m(\u001b[0m\u001b[0mself\u001b[0m\u001b[0;34m,\u001b[0m \u001b[0mname\u001b[0m\u001b[0;34m,\u001b[0m \u001b[0mvalue\u001b[0m\u001b[0;34m)\u001b[0m\u001b[0;34m:\u001b[0m\u001b[0;34m\u001b[0m\u001b[0m\n",
      "\u001b[0;31mAttributeError\u001b[0m: 'DataFrame' object has no attribute 'Count_name_count'"
     ]
    }
   ],
   "source": [
    "mid_pop = df[(df.Count_name_count>=50) & (df.Count_name_count<=1000)]"
   ]
  },
  {
   "cell_type": "code",
   "execution_count": 319,
   "metadata": {
    "collapsed": false
   },
   "outputs": [
    {
     "data": {
      "image/png": "[encoded data removed]",
      "text/plain": [
       "<matplotlib.figure.Figure at 0x1b46cea50>"
      ]
     },
     "metadata": {},
     "output_type": "display_data"
    }
   ],
   "source": [
    "plt.hist(mid_pop.Count_name_count, bins=20);"
   ]
  },
  {
   "cell_type": "code",
   "execution_count": 320,
   "metadata": {
    "collapsed": false
   },
   "outputs": [
    {
     "data": {
      "text/plain": [
       "count    1.017532e+06\n",
       "mean     1.710485e+02\n",
       "std      1.646673e+02\n",
       "min      5.000000e+01\n",
       "25%      6.900000e+01\n",
       "50%      1.060000e+02\n",
       "75%      1.990000e+02\n",
       "max      1.000000e+03\n",
       "Name: Count_name_count, dtype: float64"
      ]
     },
     "execution_count": 320,
     "metadata": {},
     "output_type": "execute_result"
    }
   ],
   "source": [
    "mid_pop.Count_name_count.describe()"
   ]
  },
  {
   "cell_type": "code",
   "execution_count": 321,
   "metadata": {
    "collapsed": false
   },
   "outputs": [
    {
     "data": {
      "text/plain": [
       "count    5.647426e+06\n",
       "mean     5.292381e+01\n",
       "std      1.808100e+02\n",
       "min      5.000000e+00\n",
       "25%      7.000000e+00\n",
       "50%      1.300000e+01\n",
       "75%      3.400000e+01\n",
       "max      1.002300e+04\n",
       "Name: Count_name_count, dtype: float64"
      ]
     },
     "execution_count": 321,
     "metadata": {},
     "output_type": "execute_result"
    }
   ],
   "source": [
    "df.Count_name_count.describe()"
   ]
  },
  {
   "cell_type": "code",
   "execution_count": 322,
   "metadata": {
    "collapsed": false
   },
   "outputs": [],
   "source": [
    "mid_pop_pivot = pivot_data(mid_pop, 'count_norm', mid_pop.name_gender, mid_pop.tuple_index)"
   ]
  },
  {
   "cell_type": "code",
   "execution_count": 323,
   "metadata": {
    "collapsed": false
   },
   "outputs": [
    {
     "data": {
      "text/plain": [
       "(3484, 5263)"
      ]
     },
     "execution_count": 323,
     "metadata": {},
     "output_type": "execute_result"
    }
   ],
   "source": [
    "mid_pop_pivot.shape"
   ]
  },
  {
   "cell_type": "code",
   "execution_count": 324,
   "metadata": {
    "collapsed": false
   },
   "outputs": [
    {
     "name": "stdout",
     "output_type": "stream",
     "text": [
      "SKlearn error: 2.168260\n",
      "Reconstruction Error: 4.701351\n",
      "Latent Feature 1\n",
      "[(1934, 'NH'), (1937, 'NH'), (1933, 'NH'), (1932, 'NH'), (1935, 'NH'), (1935, 'RI'), (1937, 'RI'), (1934, 'RI'), (1936, 'NH'), (1931, 'NH'), (1936, 'RI'), (1936, 'VT'), (1930, 'NH'), (1934, 'VT'), (1934, 'DE')]\n",
      "\n",
      "Latent Feature 2\n",
      "[(1987, 'ND'), (1988, 'IA'), (1991, 'WV'), (1988, 'ND'), (1989, 'NE'), (1989, 'IA'), (1990, 'WV'), (1990, 'NH'), (1992, 'WV'), (1989, 'WV'), (1988, 'ME'), (1989, 'KY'), (1989, 'ME'), (1988, 'NE'), (1987, 'IA')]\n",
      "\n",
      "Latent Feature 3\n",
      "[(1962, 'RI'), (1955, 'RI'), (1958, 'RI'), (1964, 'RI'), (1954, 'NV'), (1961, 'RI'), (1960, 'RI'), (1953, 'NV'), (1959, 'RI'), (1950, 'NV'), (1954, 'AK'), (1963, 'RI'), (1953, 'VT'), (1956, 'RI'), (1957, 'RI')]\n",
      "\n",
      "Latent Feature 4\n",
      "[(1917, 'CT'), (1918, 'CT'), (1913, 'NJ'), (1912, 'MA'), (1912, 'NJ'), (1913, 'MA'), (1921, 'CT'), (1911, 'MA'), (1918, 'WI'), (1911, 'IL'), (1910, 'IL'), (1911, 'OH'), (1910, 'OH'), (1915, 'WI'), (1917, 'NJ')]\n",
      "\n",
      "Latent Feature 5\n",
      "[(2006, 'WV'), (2005, 'WV'), (2007, 'KY'), (2004, 'WV'), (2005, 'KY'), (2003, 'WV'), (2007, 'WV'), (2006, 'KY'), (2003, 'IA'), (2008, 'KY'), (2004, 'IA'), (2006, 'IA'), (2009, 'KY'), (2007, 'ME'), (2006, 'WI')]\n",
      "\n",
      "Latent Feature 6\n",
      "[(1976, 'NH'), (1975, 'NH'), (1974, 'NH'), (1976, 'RI'), (1975, 'ME'), (1977, 'RI'), (1978, 'RI'), (1977, 'NH'), (1973, 'NH'), (1975, 'RI'), (1974, 'RI'), (1974, 'ME'), (1977, 'ME'), (1976, 'ME'), (1975, 'ND')]\n",
      "\n",
      "Latent Feature 7\n",
      "[(1966, 'IA'), (1965, 'IA'), (1966, 'MN'), (1964, 'IA'), (1963, 'IA'), (1967, 'IA'), (1967, 'MN'), (1968, 'MN'), (1968, 'IA'), (1970, 'MN'), (1968, 'KY'), (1970, 'MO'), (1967, 'MD'), (1967, 'KY'), (1968, 'MD')]\n",
      "\n",
      "Latent Feature 8\n",
      "[(1913, 'DC'), (1910, 'DC'), (1912, 'DC'), (1914, 'DC'), (1917, 'DE'), (1916, 'DC'), (1919, 'DE'), (1915, 'DE'), (1914, 'DE'), (1921, 'DC'), (1917, 'DC'), (1912, 'RI'), (1922, 'DE'), (1918, 'DE'), (1915, 'DC')]\n",
      "\n",
      "Latent Feature 9\n",
      "[(1943, 'IA'), (1944, 'IA'), (1943, 'MN'), (1942, 'MN'), (1944, 'MN'), (1941, 'MN'), (1941, 'IA'), (1942, 'IA'), (1944, 'WI'), (1945, 'MN'), (1939, 'IA'), (1945, 'WA'), (1943, 'NE'), (1944, 'WA'), (1942, 'NE')]\n",
      "\n",
      "Latent Feature 10\n",
      "[(1912, 'GA'), (1913, 'GA'), (1929, 'MS'), (1932, 'MS'), (1930, 'MS'), (1923, 'MS'), (1928, 'MS'), (1925, 'MS'), (1922, 'MS'), (1934, 'MS'), (1931, 'MS'), (1924, 'MS'), (1927, 'MS'), (1926, 'MS'), (1935, 'MS')]\n",
      "\n",
      "None\n"
     ]
    }
   ],
   "source": [
    "W, H, mid_nmf = run_pop_nmf(mid_pop_pivot, 10)"
   ]
  },
  {
   "cell_type": "code",
   "execution_count": 329,
   "metadata": {
    "collapsed": false
   },
   "outputs": [
    {
     "name": "stdout",
     "output_type": "stream",
     "text": [
      "SKlearn error: 2.168260\n",
      "Reconstruction Error: 4.701349\n",
      "Latent Feature 1\n",
      "[(1934, 'NH'), (1937, 'NH'), (1933, 'NH'), (1932, 'NH'), (1935, 'NH'), (1935, 'RI'), (1937, 'RI'), (1934, 'RI'), (1936, 'NH'), (1931, 'NH'), (1936, 'RI'), (1936, 'VT'), (1930, 'NH'), (1934, 'VT'), (1934, 'DE'), (1931, 'OR'), (1935, 'VT'), (1938, 'RI'), (1929, 'OR'), (1933, 'DE')]\n",
      "\n",
      "Latent Feature 2\n",
      "[(1976, 'NH'), (1975, 'NH'), (1974, 'NH'), (1976, 'RI'), (1975, 'ME'), (1977, 'RI'), (1978, 'RI'), (1977, 'NH'), (1973, 'NH'), (1975, 'RI'), (1974, 'RI'), (1974, 'ME'), (1977, 'ME'), (1976, 'ME'), (1975, 'ND'), (1976, 'ND'), (1979, 'NH'), (1976, 'VT'), (1974, 'VT'), (1978, 'NH')]\n",
      "\n",
      "Latent Feature 3\n",
      "[(1966, 'IA'), (1965, 'IA'), (1966, 'MN'), (1964, 'IA'), (1963, 'IA'), (1967, 'IA'), (1967, 'MN'), (1968, 'MN'), (1968, 'IA'), (1970, 'MN'), (1968, 'KY'), (1970, 'MO'), (1967, 'MD'), (1967, 'KY'), (1968, 'MD'), (1968, 'MO'), (1965, 'MN'), (1969, 'WI'), (1971, 'MO'), (1966, 'MO')]\n",
      "\n",
      "Latent Feature 4\n",
      "[(1943, 'IA'), (1944, 'IA'), (1943, 'MN'), (1942, 'MN'), (1944, 'MN'), (1941, 'MN'), (1941, 'IA'), (1942, 'IA'), (1944, 'WI'), (1945, 'MN'), (1939, 'IA'), (1945, 'WA'), (1943, 'NE'), (1944, 'WA'), (1942, 'NE'), (1943, 'WA'), (1945, 'WI'), (1940, 'MN'), (1940, 'IA'), (1946, 'MN')]\n",
      "\n",
      "Latent Feature 5\n",
      "[(1987, 'ND'), (1988, 'IA'), (1991, 'WV'), (1988, 'ND'), (1989, 'NE'), (1989, 'IA'), (1990, 'WV'), (1990, 'NH'), (1992, 'WV'), (1989, 'WV'), (1988, 'ME'), (1989, 'KY'), (1989, 'ME'), (1988, 'NE'), (1987, 'IA'), (1988, 'WV'), (1991, 'ME'), (1990, 'ME'), (1988, 'KY'), (1990, 'KY')]\n",
      "\n",
      "Latent Feature 6\n",
      "[(1913, 'DC'), (1910, 'DC'), (1912, 'DC'), (1914, 'DC'), (1917, 'DE'), (1916, 'DC'), (1919, 'DE'), (1915, 'DE'), (1921, 'DC'), (1914, 'DE'), (1917, 'DC'), (1912, 'RI'), (1922, 'DE'), (1918, 'DE'), (1915, 'DC'), (1923, 'DE'), (1913, 'DE'), (1919, 'DC'), (1922, 'DC'), (1916, 'DE')]\n",
      "\n",
      "Latent Feature 7\n",
      "[(1962, 'RI'), (1955, 'RI'), (1958, 'RI'), (1964, 'RI'), (1954, 'NV'), (1961, 'RI'), (1960, 'RI'), (1953, 'NV'), (1959, 'RI'), (1950, 'NV'), (1954, 'AK'), (1963, 'RI'), (1953, 'VT'), (1956, 'RI'), (1957, 'RI'), (1955, 'VT'), (1953, 'AK'), (1955, 'NV'), (1954, 'RI'), (1955, 'NH')]\n",
      "\n",
      "Latent Feature 8\n",
      "[(2006, 'WV'), (2005, 'WV'), (2007, 'KY'), (2004, 'WV'), (2005, 'KY'), (2003, 'WV'), (2007, 'WV'), (2006, 'KY'), (2003, 'IA'), (2008, 'KY'), (2004, 'IA'), (2006, 'IA'), (2009, 'KY'), (2007, 'ME'), (2006, 'WI'), (2003, 'MN'), (2006, 'ME'), (2007, 'WI'), (2003, 'KY'), (2005, 'MN')]\n",
      "\n",
      "Latent Feature 9\n",
      "[(1917, 'CT'), (1918, 'CT'), (1913, 'NJ'), (1912, 'MA'), (1912, 'NJ'), (1913, 'MA'), (1921, 'CT'), (1911, 'MA'), (1918, 'WI'), (1911, 'IL'), (1910, 'IL'), (1911, 'OH'), (1910, 'OH'), (1915, 'WI'), (1917, 'NJ'), (1916, 'NJ'), (1916, 'CT'), (1914, 'NJ'), (1915, 'NJ'), (1912, 'IL')]\n",
      "\n",
      "Latent Feature 10\n",
      "[(1912, 'GA'), (1913, 'GA'), (1929, 'MS'), (1932, 'MS'), (1930, 'MS'), (1923, 'MS'), (1928, 'MS'), (1925, 'MS'), (1922, 'MS'), (1934, 'MS'), (1931, 'MS'), (1924, 'MS'), (1927, 'MS'), (1926, 'MS'), (1935, 'MS'), (1933, 'MS'), (1915, 'SC'), (1919, 'MS'), (1920, 'MS'), (1914, 'AL')]\n",
      "\n",
      "None\n"
     ]
    }
   ],
   "source": [
    "W, H, mid_nmf_50 = run_pop_nmf(mid_pop_pivot, 10)"
   ]
  },
  {
   "cell_type": "code",
   "execution_count": 330,
   "metadata": {
    "collapsed": true
   },
   "outputs": [],
   "source": [
    "mid_pop_name = pivot_data(mid_pop, 'count_norm', mid_pop.tuple_index,mid_pop.name_gender)"
   ]
  },
  {
   "cell_type": "code",
   "execution_count": 332,
   "metadata": {
    "collapsed": false
   },
   "outputs": [
    {
     "name": "stdout",
     "output_type": "stream",
     "text": [
      "SKlearn error: 2.169397\n",
      "Reconstruction Error: 4.706283\n",
      "Latent Feature 1\n",
      "[('robert', 'M'), ('richard', 'M'), ('john', 'M'), ('william', 'M'), ('donald', 'M'), ('james', 'M'), ('betty', 'F'), ('barbara', 'F'), ('charles', 'M'), ('shirley', 'F'), ('patricia', 'F'), ('mary', 'F'), ('george', 'M'), ('dorothy', 'F'), ('david', 'M'), ('joan', 'F'), ('raymond', 'M'), ('doris', 'F'), ('paul', 'M'), ('kenneth', 'M')]\n",
      "\n",
      "Latent Feature 2\n",
      "[('ashley', 'F'), ('joshua', 'M'), ('jessica', 'F'), ('matthew', 'M'), ('andrew', 'M'), ('brandon', 'M'), ('amanda', 'F'), ('justin', 'M'), ('nicholas', 'M'), ('sarah', 'F'), ('ryan', 'M'), ('tyler', 'M'), ('christopher', 'M'), ('jacob', 'M'), ('kyle', 'M'), ('michael', 'M'), ('zachary', 'M'), ('megan', 'F'), ('emily', 'F'), ('daniel', 'M')]\n",
      "\n",
      "Latent Feature 3\n",
      "[('patricia', 'F'), ('barbara', 'F'), ('ronald', 'M'), ('carol', 'F'), ('larry', 'M'), ('gary', 'M'), ('sharon', 'F'), ('sandra', 'F'), ('nancy', 'F'), ('linda', 'F'), ('donald', 'M'), ('richard', 'M'), ('donna', 'F'), ('kenneth', 'M'), ('jerry', 'M'), ('dennis', 'M'), ('thomas', 'M'), ('judith', 'F'), ('judy', 'F'), ('shirley', 'F')]\n",
      "\n",
      "Latent Feature 4\n",
      "[('mark', 'M'), ('timothy', 'M'), ('jeffrey', 'M'), ('kevin', 'M'), ('lisa', 'F'), ('steven', 'M'), ('kimberly', 'F'), ('scott', 'M'), ('brian', 'M'), ('gregory', 'M'), ('julie', 'F'), ('tammy', 'F'), ('cynthia', 'F'), ('michelle', 'F'), ('karen', 'F'), ('pamela', 'F'), ('anthony', 'M'), ('lori', 'F'), ('paul', 'M'), ('angela', 'F')]\n",
      "\n",
      "Latent Feature 5\n",
      "[('jacob', 'M'), ('emma', 'F'), ('ethan', 'M'), ('madison', 'F'), ('olivia', 'F'), ('noah', 'M'), ('emily', 'F'), ('logan', 'M'), ('william', 'M'), ('abigail', 'F'), ('hannah', 'F'), ('alexander', 'M'), ('samuel', 'M'), ('dylan', 'M'), ('tyler', 'M'), ('isabella', 'F'), ('mason', 'M'), ('austin', 'M'), ('alexis', 'F'), ('benjamin', 'M')]\n",
      "\n",
      "Latent Feature 6\n",
      "[('jennifer', 'F'), ('jason', 'M'), ('christopher', 'M'), ('michael', 'M'), ('matthew', 'M'), ('brian', 'M'), ('amy', 'F'), ('melissa', 'F'), ('david', 'M'), ('heather', 'F'), ('michelle', 'F'), ('james', 'M'), ('eric', 'M'), ('daniel', 'M'), ('john', 'M'), ('jessica', 'F'), ('angela', 'F'), ('ryan', 'M'), ('joshua', 'M'), ('robert', 'M')]\n",
      "\n",
      "Latent Feature 7\n",
      "[('michael', 'M'), ('david', 'M'), ('robert', 'M'), ('john', 'M'), ('james', 'M'), ('richard', 'M'), ('william', 'M'), ('linda', 'F'), ('mark', 'M'), ('susan', 'F'), ('mary', 'F'), ('thomas', 'M'), ('steven', 'M'), ('karen', 'F'), ('patricia', 'F'), ('lisa', 'F'), ('daniel', 'M'), ('deborah', 'F'), ('paul', 'M'), ('debra', 'F')]\n",
      "\n",
      "Latent Feature 8\n",
      "[('mary', 'F'), ('john', 'M'), ('william', 'M'), ('james', 'M'), ('helen', 'F'), ('robert', 'M'), ('margaret', 'F'), ('dorothy', 'F'), ('george', 'M'), ('charles', 'M'), ('joseph', 'M'), ('ruth', 'F'), ('elizabeth', 'F'), ('frank', 'M'), ('alice', 'F'), ('joe', 'M'), ('frances', 'F'), ('jose', 'M'), ('edward', 'M'), ('mildred', 'F')]\n",
      "\n",
      "Latent Feature 9\n",
      "[('willie', 'M'), ('annie', 'F'), ('ruby', 'F'), ('charles', 'M'), ('george', 'M'), ('dorothy', 'F'), ('martha', 'F'), ('henry', 'M'), ('thomas', 'M'), ('joe', 'M'), ('willie', 'F'), ('william', 'M'), ('billy', 'M'), ('mildred', 'F'), ('louise', 'F'), ('frances', 'F'), ('sarah', 'F'), ('john', 'M'), ('betty', 'F'), ('elizabeth', 'F')]\n",
      "\n",
      "Latent Feature 10\n",
      "[('ruth', 'F'), ('helen', 'F'), ('dorothy', 'F'), ('margaret', 'F'), ('george', 'M'), ('edward', 'M'), ('harold', 'M'), ('virginia', 'F'), ('evelyn', 'F'), ('mildred', 'F'), ('joseph', 'M'), ('frank', 'M'), ('raymond', 'M'), ('alice', 'F'), ('frances', 'F'), ('elizabeth', 'F'), ('walter', 'M'), ('doris', 'F'), ('marie', 'F'), ('anna', 'F')]\n",
      "\n",
      "None\n"
     ]
    }
   ],
   "source": [
    "W, H, mid_nmf_50 = run_pop_nmf(mid_pop_name, 10)"
   ]
  },
  {
   "cell_type": "code",
   "execution_count": 27,
   "metadata": {
    "collapsed": false
   },
   "outputs": [],
   "source": [
    "names_total = df.groupby('name_gender')['Count_by_name'].sum()"
   ]
  },
  {
   "cell_type": "code",
   "execution_count": 341,
   "metadata": {
    "collapsed": false
   },
   "outputs": [
    {
     "name": "stderr",
     "output_type": "stream",
     "text": [
      "/Users/courtneymorris/anaconda/lib/python2.7/site-packages/ipykernel/__main__.py:1: FutureWarning: sort is deprecated, use sort_values(inplace=True) for INPLACE sorting\n",
      "  if __name__ == '__main__':\n"
     ]
    }
   ],
   "source": [
    "names_total.sort(ascending=False)"
   ]
  },
  {
   "cell_type": "code",
   "execution_count": 30,
   "metadata": {
    "collapsed": true
   },
   "outputs": [],
   "source": [
    "updated_df = df.join(names_total, how='left', on='name_gender', lsuffix='_per_year')"
   ]
  },
  {
   "cell_type": "code",
   "execution_count": 31,
   "metadata": {
    "collapsed": false
   },
   "outputs": [
    {
     "data": {
      "text/html": [
       "<div>\n",
       "<table border=\"1\" class=\"dataframe\">\n",
       "  <thead>\n",
       "    <tr style=\"text-align: right;\">\n",
       "      <th></th>\n",
       "      <th></th>\n",
       "      <th>Id</th>\n",
       "      <th>Name</th>\n",
       "      <th>Gender</th>\n",
       "      <th>Count_by_name_per_year</th>\n",
       "      <th>new_name</th>\n",
       "      <th>name_gender</th>\n",
       "      <th>tuple_index</th>\n",
       "      <th>Count</th>\n",
       "      <th>count_norm</th>\n",
       "      <th>Count_by_name</th>\n",
       "    </tr>\n",
       "    <tr>\n",
       "      <th>Year</th>\n",
       "      <th>State</th>\n",
       "      <th></th>\n",
       "      <th></th>\n",
       "      <th></th>\n",
       "      <th></th>\n",
       "      <th></th>\n",
       "      <th></th>\n",
       "      <th></th>\n",
       "      <th></th>\n",
       "      <th></th>\n",
       "      <th></th>\n",
       "    </tr>\n",
       "  </thead>\n",
       "  <tbody>\n",
       "    <tr>\n",
       "      <th rowspan=\"5\" valign=\"top\">1910</th>\n",
       "      <th>AK</th>\n",
       "      <td>1</td>\n",
       "      <td>Mary</td>\n",
       "      <td>F</td>\n",
       "      <td>14</td>\n",
       "      <td>mary</td>\n",
       "      <td>(mary, F)</td>\n",
       "      <td>(1910, AK)</td>\n",
       "      <td>115</td>\n",
       "      <td>0.121739</td>\n",
       "      <td>3730856</td>\n",
       "    </tr>\n",
       "    <tr>\n",
       "      <th>AK</th>\n",
       "      <td>2</td>\n",
       "      <td>Annie</td>\n",
       "      <td>F</td>\n",
       "      <td>12</td>\n",
       "      <td>annie</td>\n",
       "      <td>(annie, F)</td>\n",
       "      <td>(1910, AK)</td>\n",
       "      <td>115</td>\n",
       "      <td>0.104348</td>\n",
       "      <td>274883</td>\n",
       "    </tr>\n",
       "    <tr>\n",
       "      <th>AK</th>\n",
       "      <td>3</td>\n",
       "      <td>Anna</td>\n",
       "      <td>F</td>\n",
       "      <td>10</td>\n",
       "      <td>anna</td>\n",
       "      <td>(anna, F)</td>\n",
       "      <td>(1910, AK)</td>\n",
       "      <td>115</td>\n",
       "      <td>0.086957</td>\n",
       "      <td>725146</td>\n",
       "    </tr>\n",
       "    <tr>\n",
       "      <th>AK</th>\n",
       "      <td>4</td>\n",
       "      <td>Margaret</td>\n",
       "      <td>F</td>\n",
       "      <td>8</td>\n",
       "      <td>margaret</td>\n",
       "      <td>(margaret, F)</td>\n",
       "      <td>(1910, AK)</td>\n",
       "      <td>115</td>\n",
       "      <td>0.069565</td>\n",
       "      <td>1121985</td>\n",
       "    </tr>\n",
       "    <tr>\n",
       "      <th>AK</th>\n",
       "      <td>5</td>\n",
       "      <td>Helen</td>\n",
       "      <td>F</td>\n",
       "      <td>7</td>\n",
       "      <td>helen</td>\n",
       "      <td>(helen, F)</td>\n",
       "      <td>(1910, AK)</td>\n",
       "      <td>115</td>\n",
       "      <td>0.060870</td>\n",
       "      <td>895615</td>\n",
       "    </tr>\n",
       "  </tbody>\n",
       "</table>\n",
       "</div>"
      ],
      "text/plain": [
       "            Id      Name Gender  Count_by_name_per_year  new_name  \\\n",
       "Year State                                                          \n",
       "1910 AK      1      Mary      F                      14      mary   \n",
       "     AK      2     Annie      F                      12     annie   \n",
       "     AK      3      Anna      F                      10      anna   \n",
       "     AK      4  Margaret      F                       8  margaret   \n",
       "     AK      5     Helen      F                       7     helen   \n",
       "\n",
       "              name_gender tuple_index  Count  count_norm  Count_by_name  \n",
       "Year State                                                               \n",
       "1910 AK         (mary, F)  (1910, AK)    115    0.121739        3730856  \n",
       "     AK        (annie, F)  (1910, AK)    115    0.104348         274883  \n",
       "     AK         (anna, F)  (1910, AK)    115    0.086957         725146  \n",
       "     AK     (margaret, F)  (1910, AK)    115    0.069565        1121985  \n",
       "     AK        (helen, F)  (1910, AK)    115    0.060870         895615  "
      ]
     },
     "execution_count": 31,
     "metadata": {},
     "output_type": "execute_result"
    }
   ],
   "source": [
    "updated_df.head()"
   ]
  },
  {
   "cell_type": "code",
   "execution_count": 33,
   "metadata": {
    "collapsed": false
   },
   "outputs": [],
   "source": [
    "non_popular_df = updated_df[(updated_df['Count_by_name_per_year'] >= 150)&(updated_df['Count_by_name_per_year'] < 1000000)]"
   ]
  },
  {
   "cell_type": "code",
   "execution_count": 34,
   "metadata": {
    "collapsed": false
   },
   "outputs": [],
   "source": [
    "non_popular_state = pivot_data(non_popular_df, 'count_norm', non_popular_df.name_gender, non_popular_df.tuple_index)"
   ]
  },
  {
   "cell_type": "code",
   "execution_count": 42,
   "metadata": {
    "collapsed": false
   },
   "outputs": [
    {
     "name": "stdout",
     "output_type": "stream",
     "text": [
      "SKlearn error: 1.305433\n",
      "Reconstruction Error: 1.704154\n",
      "Latent Feature 1\n",
      "Latent Feature 2\n",
      "Latent Feature 3\n",
      "Latent Feature 4\n",
      "Latent Feature 5\n",
      "[(1944, 'NH'), (1937, 'NH'), (1939, 'NH'), (1934, 'NH'), (1935, 'NH'), (1940, 'NH'), (1938, 'NH'), (1941, 'NH'), (1943, 'NH'), (1933, 'NH'), (1946, 'NH'), (1940, 'VT'), (1932, 'NH'), (1934, 'VT'), (1945, 'NH'), (1936, 'NH'), (1935, 'VT'), (1939, 'ME'), (1930, 'NH'), (1935, 'ME')]\n",
      "Latent Feature 6\n",
      "[(1917, 'NJ'), (1919, 'NJ'), (1915, 'NJ'), (1916, 'NJ'), (1914, 'NJ'), (1918, 'NJ'), (1922, 'NJ'), (1921, 'NJ'), (1920, 'NJ'), (1923, 'NJ'), (1924, 'NJ'), (1912, 'NY'), (1914, 'NY'), (1913, 'NY'), (1925, 'NJ'), (1918, 'CT'), (1910, 'NY'), (1926, 'NJ'), (1916, 'NY'), (1915, 'NY')]\n",
      "Latent Feature 7\n",
      "[(1930, 'WY'), (1938, 'VT'), (1927, 'NH'), (1932, 'VT'), (1945, 'DE'), (1926, 'NH'), (1925, 'NH'), (1937, 'VT'), (1933, 'VT'), (1923, 'OR'), (1927, 'VT'), (1944, 'VT'), (1919, 'OR'), (1923, 'NH'), (1924, 'NH'), (1922, 'MT'), (1921, 'OR'), (1928, 'VT'), (1929, 'VT'), (1926, 'MT')]\n",
      "Latent Feature 8\n",
      "Latent Feature 9\n",
      "Latent Feature 10\n",
      "[(1910, 'CT'), (1912, 'RI'), (1911, 'RI'), (1912, 'NM'), (1910, 'IN'), (1910, 'MA'), (1921, 'DC'), (1914, 'DC'), (1910, 'CO'), (1911, 'CT'), (1913, 'RI'), (1921, 'NM'), (1917, 'DE'), (1922, 'DC'), (1924, 'NM'), (1915, 'DC'), (1910, 'KY'), (1927, 'DC'), (1919, 'DE'), (1911, 'IN')]\n",
      "Latent Feature 11\n",
      "Latent Feature 12\n",
      "[(1920, 'DC'), (1920, 'DE'), (1921, 'DE'), (1921, 'DC'), (1922, 'DC'), (1919, 'DC'), (1916, 'DC'), (1943, 'DE'), (1918, 'DC'), (1944, 'DE'), (1926, 'DE'), (1942, 'DE'), (1927, 'DC'), (1917, 'DC'), (1923, 'DE'), (1928, 'DC'), (1945, 'DE'), (1922, 'DE'), (1946, 'DE'), (1923, 'DC')]\n",
      "Latent Feature 13\n",
      "Latent Feature 14\n",
      "Latent Feature 15\n",
      "Latent Feature 16\n",
      "Latent Feature 17\n",
      "Latent Feature 18\n",
      "Latent Feature 19\n",
      "Latent Feature 20\n",
      "Latent Feature 21\n",
      "[(1920, 'TN'), (1921, 'TN'), (1926, 'TN'), (1922, 'TN'), (1920, 'SC'), (1926, 'SC'), (1923, 'TN'), (1922, 'SC'), (1921, 'SC'), (1924, 'SC'), (1919, 'TN'), (1918, 'SC'), (1924, 'TN'), (1922, 'DC'), (1923, 'SC'), (1928, 'SC'), (1915, 'SC'), (1927, 'TN'), (1922, 'AL'), (1911, 'FL')]\n",
      "Latent Feature 22\n",
      "[(1953, 'AK'), (1955, 'AK'), (1955, 'VT'), (1953, 'VT'), (1955, 'WY'), (1944, 'VT'), (1966, 'NH'), (1967, 'NH'), (1963, 'NH'), (1964, 'NH'), (1963, 'DE'), (1965, 'DE'), (1962, 'VT'), (1961, 'VT'), (1958, 'VT'), (1955, 'NH'), (1969, 'RI'), (1950, 'VT'), (1957, 'VT'), (1963, 'VT')]\n",
      "Latent Feature 23\n",
      "Latent Feature 24\n",
      "Latent Feature 25\n",
      "Latent Feature 26\n",
      "[(1968, 'WY'), (1978, 'RI'), (1981, 'DE'), (1954, 'NV'), (1969, 'NV'), (1976, 'DE'), (1979, 'RI'), (1975, 'RI'), (1976, 'RI'), (1983, 'DE'), (1971, 'DE'), (1981, 'RI'), (1954, 'AK'), (1953, 'VT'), (1979, 'DE'), (1960, 'VT'), (1968, 'VT'), (1974, 'AK'), (1977, 'DE'), (1988, 'RI')]\n",
      "Latent Feature 27\n",
      "Latent Feature 28\n",
      "Latent Feature 29\n",
      "Latent Feature 30\n",
      "[(1913, 'RI'), (1917, 'DE'), (1914, 'RI'), (1915, 'RI'), (1941, 'DE'), (1939, 'RI'), (1939, 'CT'), (1933, 'RI'), (1932, 'RI'), (1938, 'CT'), (1912, 'RI'), (1936, 'CT'), (1915, 'DC'), (1933, 'CT'), (1917, 'RI'), (1940, 'CT'), (1937, 'CT'), (1935, 'CT'), (1942, 'RI'), (1919, 'RI')]\n",
      "Latent Feature 31\n",
      "Latent Feature 32\n",
      "Latent Feature 33\n",
      "[(1910, 'GA'), (1912, 'GA'), (1913, 'GA'), (1914, 'GA'), (1911, 'GA'), (1919, 'MS'), (1917, 'GA'), (1920, 'MS'), (1922, 'MS'), (1918, 'MS'), (1915, 'GA'), (1919, 'GA'), (1917, 'MS'), (1923, 'MS'), (1916, 'GA'), (1926, 'MS'), (1925, 'MS'), (1918, 'GA'), (1924, 'MS'), (1925, 'GA')]\n",
      "Latent Feature 34\n",
      "Latent Feature 35\n"
     ]
    }
   ],
   "source": [
    "W, H, non_popular_nmf = run_pop_nmf(non_popular_state, 35)"
   ]
  },
  {
   "cell_type": "code",
   "execution_count": 353,
   "metadata": {
    "collapsed": true
   },
   "outputs": [],
   "source": [
    "non_popular_name = pivot_data(non_popular_df, 'count_norm', non_popular_df.tuple_index, non_popular_df.name_gender)"
   ]
  },
  {
   "cell_type": "code",
   "execution_count": 355,
   "metadata": {
    "collapsed": false
   },
   "outputs": [
    {
     "name": "stdout",
     "output_type": "stream",
     "text": [
      "SKlearn error: 2.636998\n",
      "Reconstruction Error: 6.953757\n",
      "Latent Feature 1\n",
      "[('helen', 'F'), ('betty', 'F'), ('ruth', 'F'), ('frank', 'M'), ('shirley', 'F'), ('virginia', 'F'), ('raymond', 'M'), ('alice', 'F'), ('nancy', 'F'), ('frances', 'F'), ('harold', 'M'), ('carol', 'F'), ('mildred', 'F'), ('doris', 'F'), ('walter', 'M'), ('evelyn', 'F'), ('donna', 'F'), ('larry', 'M'), ('marie', 'F'), ('jack', 'M')]\n",
      "\n",
      "Latent Feature 2\n",
      "[('ryan', 'M'), ('jacob', 'M'), ('ashley', 'F'), ('nicholas', 'M'), ('justin', 'M'), ('amanda', 'F'), ('brandon', 'M'), ('emily', 'F'), ('tyler', 'M'), ('eric', 'M'), ('jonathan', 'M'), ('benjamin', 'M'), ('melissa', 'F'), ('zachary', 'M'), ('stephanie', 'F'), ('michelle', 'F'), ('jeffrey', 'M'), ('kimberly', 'F'), ('nicole', 'F'), ('amy', 'F')]\n",
      "\n",
      "None\n"
     ]
    }
   ],
   "source": [
    "W, H, non_popular_name_nmf = run_pop_nmf(non_popular_name, 30)"
   ]
  },
  {
   "cell_type": "code",
   "execution_count": 38,
   "metadata": {
    "collapsed": false
   },
   "outputs": [],
   "source": [
    "def run_pop_nmf(df, n_factors):\n",
    "\n",
    "    W, H, nmf, error = run_nmf(df,n_factors)\n",
    "\n",
    "    state_features = df.columns\n",
    "\n",
    "    print \"SKlearn error: %f\" %error\n",
    "    print_year_diff_features(W,H,state_features,20,df)\n",
    "\n",
    "    return W, H, nmf"
   ]
  },
  {
   "cell_type": "code",
   "execution_count": 41,
   "metadata": {
    "collapsed": true
   },
   "outputs": [],
   "source": [
    "def print_year_diff_features(W, H, features, top_features, data_matrix):\n",
    "    print \"Reconstruction Error: %f\" %reconst_mse(data_matrix, W, H)\n",
    "    for latent_num, latent in enumerate(H):\n",
    "        print \"Latent Feature %d\" % (int(latent_num) + 1)\n",
    "        results = [features[i] for i in latent.argsort()[:-top_features-1:-1]]\n",
    "        result_years = [features[i][0] for i in latent.argsort()[:-top_features-1:-1]]\n",
    "        year_diff = max(result_years) - min(result_years)\n",
    "        if year_diff > 15:\n",
    "            print results"
   ]
  },
  {
   "cell_type": "code",
   "execution_count": null,
   "metadata": {
    "collapsed": true
   },
   "outputs": [],
   "source": [
    "def print_W_H_features(W, H, W_features, H_features, top_features, data_matrix):\n",
    "    print \"Reconstruction Error: %f\" %reconst_mse(data_matrix, W, H)\n",
    "    for latent_num, latent in enumerate(H):\n",
    "        print \"Latent Feature %d\" % (int(latent_num) + 1)\n",
    "        print [H_features[i] for i in latent.argsort()[:-top_features-1:-1]]\n",
    "        print [W_features[i] for i in W]"
   ]
  },
  {
   "cell_type": "code",
   "execution_count": 44,
   "metadata": {
    "collapsed": false
   },
   "outputs": [
    {
     "data": {
      "text/plain": [
       "array([ 0.,  0.,  0., ...,  0.,  0.,  0.])"
      ]
     },
     "execution_count": 44,
     "metadata": {},
     "output_type": "execute_result"
    }
   ],
   "source": [
    "W[:,5]"
   ]
  },
  {
   "cell_type": "code",
   "execution_count": null,
   "metadata": {
    "collapsed": true
   },
   "outputs": [],
   "source": []
  }
 ],
 "metadata": {
  "kernelspec": {
   "display_name": "Python 2",
   "language": "python",
   "name": "python2"
  },
  "language_info": {
   "codemirror_mode": {
    "name": "ipython",
    "version": 2
   },
   "file_extension": ".py",
   "mimetype": "text/x-python",
   "name": "python",
   "nbconvert_exporter": "python",
   "pygments_lexer": "ipython2",
   "version": "2.7.11"
  }
 },
 "nbformat": 4,
 "nbformat_minor": 0
}
