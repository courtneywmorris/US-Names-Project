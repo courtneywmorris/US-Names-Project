{
 "cells": [
  {
   "cell_type": "code",
   "execution_count": 1,
   "metadata": {
    "collapsed": true
   },
   "outputs": [],
   "source": [
    "import pandas as pd\n",
    "import matplotlib.pylab as plt\n",
    "%matplotlib inline\n",
    "import numpy as np\n",
    "from numpy.linalg import svd\n",
    "from sklearn.decomposition import NMF\n",
    "from numpy import array, matrix, linalg"
   ]
  },
  {
   "cell_type": "code",
   "execution_count": 35,
   "metadata": {
    "collapsed": true
   },
   "outputs": [],
   "source": [
    "df1 = pd.read_csv('StateNames.csv')"
   ]
  },
  {
   "cell_type": "code",
   "execution_count": 36,
   "metadata": {
    "collapsed": true
   },
   "outputs": [],
   "source": [
    "def clean_data(df, pivot_vals, pivot_index, pivot_col):\n",
    "    df['new_name'] = df.Name.str.lower()\n",
    "    df = df.set_index(['Year','State'])\n",
    "    df['name_gender'] = zip(df.new_name, df.Gender)\n",
    "    df = df.drop(['Year', 'State', 'new_name'])\n",
    "    \n",
    "    date_state_series = df.groupby(df.index).sum()['Count']\n",
    "    df['tuple_index'] = df.index.values\n",
    "    df = df.join(date_state_series, how='left', on='tuple_index', lsuffix='_name_count')\n",
    "    \n",
    "    df['count_norm'] = df.Count_name_count / df.Count\n",
    "    \n",
    "    data_pivot = pd.pivot_table(df, values=pivot_vals, index=pivot_index, columns=pivot_col)\n",
    "    data_pivot = data_pivot.fillna(0)\n",
    "    \n",
    "    return data_pivot"
   ]
  },
  {
   "cell_type": "code",
   "execution_count": 4,
   "metadata": {
    "collapsed": true
   },
   "outputs": [],
   "source": [
    "df = clean_data(df)"
   ]
  },
  {
   "cell_type": "code",
   "execution_count": 5,
   "metadata": {
    "collapsed": true
   },
   "outputs": [],
   "source": [
    "date_state_series = df.groupby(df.index).sum()['Count']\n",
    "# total_dict = date_state_series.to_dict()"
   ]
  },
  {
   "cell_type": "code",
   "execution_count": 6,
   "metadata": {
    "collapsed": true
   },
   "outputs": [],
   "source": [
    "#Further cleaning\n",
    "df['tuple_index'] = df.index.values\n",
    "df = df.join(date_state_series, how='left', on='tuple_index', lsuffix='name_count')"
   ]
  },
  {
   "cell_type": "code",
   "execution_count": 7,
   "metadata": {
    "collapsed": true
   },
   "outputs": [],
   "source": [
    "df['count_norm'] = df.Countname_count / df.Count"
   ]
  },
  {
   "cell_type": "code",
   "execution_count": 11,
   "metadata": {
    "collapsed": false
   },
   "outputs": [],
   "source": [
    "name_pivot = pd.pivot_table(df, values='count_norm',index=df.name_gender, columns=df.index)\n",
    "name_pivot = name_pivot.fillna(0)"
   ]
  },
  {
   "cell_type": "code",
   "execution_count": 12,
   "metadata": {
    "collapsed": false
   },
   "outputs": [
    {
     "data": {
      "text/plain": [
       "(33170, 5355)"
      ]
     },
     "execution_count": 12,
     "metadata": {},
     "output_type": "execute_result"
    }
   ],
   "source": [
    "name_pivot.shape"
   ]
  },
  {
   "cell_type": "code",
   "execution_count": 15,
   "metadata": {
    "collapsed": true
   },
   "outputs": [],
   "source": [
    "def run_nmf(df,params):\n",
    "    nmf = NMF(n_components=params)\n",
    "    W = nmf.fit_transform(df)\n",
    "    H = nmf.components_\n",
    "    return W, H"
   ]
  },
  {
   "cell_type": "code",
   "execution_count": 16,
   "metadata": {
    "collapsed": false
   },
   "outputs": [],
   "source": [
    "W, H = run_nmf(name_pivot,10)"
   ]
  },
  {
   "cell_type": "code",
   "execution_count": 28,
   "metadata": {
    "collapsed": true
   },
   "outputs": [],
   "source": [
    "def print_top_features(H, features, top_features):\n",
    "    for latent_num, latent in enumerate(H):\n",
    "        print \"Latent Feature %d\" % (int(latent_num) + 1)\n",
    "        print [features[i] for i in latent.argsort()[:-top_features-1:-1]]\n",
    "        print "
   ]
  },
  {
   "cell_type": "code",
   "execution_count": 29,
   "metadata": {
    "collapsed": true
   },
   "outputs": [],
   "source": [
    "state_features = name_pivot.columns"
   ]
  },
  {
   "cell_type": "code",
   "execution_count": 32,
   "metadata": {
    "collapsed": false
   },
   "outputs": [],
   "source": [
    "# print_top_features(H, state_features, 15)"
   ]
  },
  {
   "cell_type": "code",
   "execution_count": null,
   "metadata": {
    "collapsed": true
   },
   "outputs": [],
   "source": []
  },
  {
   "cell_type": "code",
   "execution_count": null,
   "metadata": {
    "collapsed": true
   },
   "outputs": [],
   "source": [
    "##RUN THIS CODE AGAIN, didn't make the right pivot earlier"
   ]
  },
  {
   "cell_type": "code",
   "execution_count": 37,
   "metadata": {
    "collapsed": false
   },
   "outputs": [],
   "source": [
    "state_pivot = clean_data(df1,'count_norm', df.name_gender, df.index)"
   ]
  },
  {
   "cell_type": "code",
   "execution_count": 41,
   "metadata": {
    "collapsed": true
   },
   "outputs": [],
   "source": [
    "name_features = state_pivot.columns"
   ]
  },
  {
   "cell_type": "code",
   "execution_count": 38,
   "metadata": {
    "collapsed": true
   },
   "outputs": [],
   "source": [
    "W2, H2 = run_nmf(state_pivot,10)"
   ]
  },
  {
   "cell_type": "code",
   "execution_count": 42,
   "metadata": {
    "collapsed": false
   },
   "outputs": [
    {
     "name": "stdout",
     "output_type": "stream",
     "text": [
      "Latent Feature 1\n",
      "[(1942, 'RI'), (1939, 'RI'), (1941, 'RI'), (1940, 'RI'), (1940, 'CT'), (1943, 'RI'), (1939, 'CT'), (1940, 'MA'), (1938, 'RI'), (1939, 'MA'), (1939, 'NH'), (1937, 'RI'), (1941, 'CT'), (1941, 'MA'), (1944, 'RI')]\n",
      "\n",
      "Latent Feature 2\n",
      "[(1987, 'ND'), (1987, 'VT'), (1988, 'ND'), (1987, 'ME'), (1988, 'VT'), (1987, 'WY'), (1988, 'ME'), (1988, 'WY'), (1990, 'VT'), (1989, 'VT'), (1989, 'WV'), (1987, 'SD'), (1990, 'WV'), (1989, 'ME'), (1988, 'WV')]\n",
      "\n",
      "Latent Feature 3\n",
      "[(1913, 'AK'), (1911, 'AK'), (1910, 'NV'), (1911, 'NV'), (1912, 'NV'), (1912, 'AK'), (1910, 'AK'), (1917, 'AK'), (1918, 'AK'), (1913, 'NV'), (1921, 'AK'), (1916, 'AK'), (1931, 'AK'), (1915, 'AK'), (1924, 'AK')]\n",
      "\n",
      "Latent Feature 4\n",
      "[(2008, 'VT'), (2007, 'VT'), (2006, 'VT'), (2009, 'VT'), (2005, 'VT'), (2004, 'VT'), (2003, 'VT'), (2010, 'VT'), (2003, 'ND'), (2011, 'VT'), (2004, 'ND'), (2012, 'VT'), (2006, 'ND'), (2002, 'VT'), (2006, 'ME')]\n",
      "\n",
      "Latent Feature 5\n",
      "[(1974, 'RI'), (1973, 'RI'), (1972, 'NH'), (1973, 'VT'), (1972, 'RI'), (1975, 'RI'), (1973, 'NH'), (1971, 'VT'), (1976, 'RI'), (1973, 'DE'), (1973, 'NV'), (1972, 'NV'), (1973, 'SD'), (1973, 'NE'), (1974, 'VT')]\n",
      "\n",
      "Latent Feature 6\n",
      "[(1930, 'MS'), (1926, 'MS'), (1926, 'AL'), (1929, 'MS'), (1928, 'AL'), (1927, 'MS'), (1941, 'MS'), (1925, 'AL'), (1928, 'MS'), (1925, 'MS'), (1924, 'MS'), (1931, 'MS'), (1927, 'AL'), (1932, 'MS'), (1929, 'AL')]\n",
      "\n",
      "Latent Feature 7\n",
      "[(1930, 'NV'), (1931, 'NV'), (1929, 'NV'), (1932, 'NV'), (1925, 'NV'), (1935, 'NV'), (1926, 'NV'), (1927, 'NV'), (1930, 'WY'), (1934, 'NV'), (1928, 'NV'), (1928, 'WY'), (1929, 'WY'), (1931, 'WY'), (1933, 'NV')]\n",
      "\n",
      "Latent Feature 8\n",
      "[(1953, 'NV'), (1952, 'NV'), (1954, 'NV'), (1953, 'VT'), (1955, 'VT'), (1955, 'NV'), (1955, 'IA'), (1954, 'IA'), (1955, 'SD'), (1955, 'WI'), (1954, 'SD'), (1950, 'NV'), (1954, 'NE'), (1955, 'NE'), (1954, 'VT')]\n",
      "\n",
      "Latent Feature 9\n",
      "[(1910, 'VT'), (1910, 'NH'), (1911, 'VT'), (1910, 'SD'), (1911, 'OR'), (1911, 'NH'), (1911, 'SD'), (1910, 'WA'), (1910, 'ME'), (1912, 'VT'), (1911, 'IA'), (1911, 'WI'), (1911, 'NE'), (1911, 'ME'), (1910, 'WI')]\n",
      "\n",
      "Latent Feature 10\n",
      "[(1910, 'NM'), (1911, 'NM'), (1910, 'AZ'), (1912, 'NM'), (1911, 'AZ'), (1913, 'NM'), (1929, 'NM'), (1914, 'NM'), (1924, 'NM'), (1921, 'NM'), (1926, 'NM'), (1923, 'NM'), (1927, 'NM'), (1925, 'NM'), (1928, 'NM')]\n",
      "\n"
     ]
    }
   ],
   "source": [
    "print_top_features(H2, name_features, 15)"
   ]
  },
  {
   "cell_type": "code",
   "execution_count": null,
   "metadata": {
    "collapsed": true
   },
   "outputs": [],
   "source": []
  }
 ],
 "metadata": {
  "kernelspec": {
   "display_name": "Python 2",
   "language": "python",
   "name": "python2"
  },
  "language_info": {
   "codemirror_mode": {
    "name": "ipython",
    "version": 2
   },
   "file_extension": ".py",
   "mimetype": "text/x-python",
   "name": "python",
   "nbconvert_exporter": "python",
   "pygments_lexer": "ipython2",
   "version": "2.7.11"
  }
 },
 "nbformat": 4,
 "nbformat_minor": 0
}
